{
 "cells": [
  {
   "cell_type": "markdown",
   "metadata": {
    "toc": true
   },
   "source": [
    "<h1>Table of Contents<span class=\"tocSkip\"></span></h1>\n",
    "<div class=\"toc\"><ul class=\"toc-item\"><li><span><a href=\"#Converting-QUIP-Workflows-to-libRascal\" data-toc-modified-id=\"Converting-QUIP-Workflows-to-libRascal-1\"><span class=\"toc-item-num\">1&nbsp;&nbsp;</span>Converting QUIP Workflows to libRascal</a></span><ul class=\"toc-item\"><li><span><a href=\"#Importing-data\" data-toc-modified-id=\"Importing-data-1.1\"><span class=\"toc-item-num\">1.1&nbsp;&nbsp;</span>Importing data</a></span></li><li><span><a href=\"#A-simple-descriptor:-pairwise-distances\" data-toc-modified-id=\"A-simple-descriptor:-pairwise-distances-1.2\"><span class=\"toc-item-num\">1.2&nbsp;&nbsp;</span>A simple descriptor: pairwise distances</a></span></li><li><span><a href=\"#A-many-body-descriptor:-SOAP\" data-toc-modified-id=\"A-many-body-descriptor:-SOAP-1.3\"><span class=\"toc-item-num\">1.3&nbsp;&nbsp;</span>A many-body descriptor: SOAP</a></span></li></ul></li></ul></div>"
   ]
  },
  {
   "cell_type": "markdown",
   "metadata": {},
   "source": [
    "# Converting QUIP Workflows to libRascal\n",
    "\n",
    "Welcome to libRascal!\n",
    "\n",
    "As you've seen in the last section, there is a lot that librascal can do efficiently. Perhaps the most important functionality is computing atomic descriptors. Here, we'll focus on converting a classic QUIP workflow for atomic descriptors to libRascal.\n",
    "\n",
    "\n",
    "We will be mirroring parts of the [quippy descriptor tutorial](https://libatoms.github.io/QUIP/Tutorials/quippy-descriptor-tutorial.html), albeit with different molecules.\n",
    "\n",
    "For more information on _nuances of tutorial_, please refer to (among others): \n",
    "- [Title (Surname Year)](url) \n",
    "- [Title (Surname Year)](url)\n",
    "\n",
    "Beyond libRascal, the packages used in this tutorial are:  [pkg](url), [pkg](url), and [pkg](url).\n",
    "\n",
    "**WARNING** Some quippy installations are only Python2 compatible. Please check that the notebook kernel corresponds to the python version supported by your quippy installation."
   ]
  },
  {
   "cell_type": "code",
   "execution_count": 46,
   "metadata": {},
   "outputs": [],
   "source": [
    "%matplotlib inline\n",
    "\n",
    "# may omit in final version\n",
    "%reload_ext autoreload\n",
    "%autoreload 2 \n",
    "\n",
    "import os\n",
    "import time\n",
    "import sys\n",
    "\n",
    "import numpy as np\n",
    "import ase\n",
    "from ase.io import read\n",
    "import quippy \n",
    "from quippy import descriptors\n",
    "from matplotlib import pyplot as plt\n",
    "import json\n",
    "\n",
    "\n",
    "wd=!(pwd)\n",
    "sys.path.append(f'{wd[0]}/utilities')\n",
    "from rascal.representations import SphericalInvariants as SOAP"
   ]
  },
  {
   "cell_type": "markdown",
   "metadata": {},
   "source": [
    "## Importing data\n",
    "\n",
    "We'll start out examples by computing the SOAP vectors for a benzene ring."
   ]
  },
  {
   "cell_type": "code",
   "execution_count": 47,
   "metadata": {},
   "outputs": [],
   "source": [
    "benzene = read(f'{wd[0]}/data/molecules/benzene.xyz')"
   ]
  },
  {
   "cell_type": "markdown",
   "metadata": {},
   "source": [
    "## A simple descriptor: pairwise distances\n",
    "\n",
    "With quippy, you can compute pairwise distances with a cutoff of 1.5 Angstrom using:"
   ]
  },
  {
   "cell_type": "code",
   "execution_count": 48,
   "metadata": {},
   "outputs": [],
   "source": [
    "desc = descriptors.Descriptor(\"distance_2b Z1=6 Z2=6 cutoff=4\")"
   ]
  },
  {
   "cell_type": "code",
   "execution_count": 49,
   "metadata": {},
   "outputs": [],
   "source": [
    "d=desc.calc(benzene)"
   ]
  },
  {
   "cell_type": "code",
   "execution_count": 56,
   "metadata": {},
   "outputs": [
    {
     "data": {
      "image/png": "[encoded data removed]",
      "text/plain": [
       "<Figure size 432x288 with 1 Axes>"
      ]
     },
     "metadata": {
      "needs_background": "light"
     },
     "output_type": "display_data"
    }
   ],
   "source": [
    "import matplotlib.pyplot as plt\n",
    "plt.hist(d['data'])\n",
    "plt.gca().set_ylabel(\"PDF\")\n",
    "plt.gca().set_xlabel(r\"$\\mathring{A}$\")\n",
    "plt.show()"
   ]
  },
  {
   "cell_type": "markdown",
   "metadata": {},
   "source": [
    "With librascal, we can get the same results with ?????? "
   ]
  },
  {
   "cell_type": "markdown",
   "metadata": {},
   "source": [
    "## A many-body descriptor: SOAP"
   ]
  },
  {
   "cell_type": "code",
   "execution_count": 69,
   "metadata": {},
   "outputs": [],
   "source": [
    "desc = descriptors.Descriptor(\"soap cutoff=3 \\\n",
    "                              l_max=4 n_max=4 \\\n",
    "                              atom_sigma=0.5 \\\n",
    "                              n_Z=1 Z={6} \")"
   ]
  },
  {
   "cell_type": "code",
   "execution_count": 70,
   "metadata": {},
   "outputs": [
    {
     "data": {
      "text/plain": [
       "51"
      ]
     },
     "execution_count": 70,
     "metadata": {},
     "output_type": "execute_result"
    }
   ],
   "source": [
    "desc.n_dim"
   ]
  },
  {
   "cell_type": "code",
   "execution_count": 71,
   "metadata": {},
   "outputs": [],
   "source": [
    "d=desc.calc(benzene)"
   ]
  },
  {
   "cell_type": "code",
   "execution_count": 73,
   "metadata": {},
   "outputs": [],
   "source": [
    "soap = SOAP(\n",
    "           soap_type='PowerSpectrum',\n",
    "           interaction_cutoff=3,\n",
    "           max_radial=4,\n",
    "           max_angular=4,\n",
    "           gaussian_sigma_type='Constant',\n",
    "           gaussian_sigma_constant=0.5,\n",
    "           cutoff_smooth_width=0.5,\n",
    "    \n",
    "           )"
   ]
  },
  {
   "cell_type": "code",
   "execution_count": 81,
   "metadata": {},
   "outputs": [],
   "source": [
    "sv = soap.transform(benzene).get_dense_feature_matrix(soap)\n",
    "\n",
    "sv_inds = [0,2,4,6,8,10]"
   ]
  },
  {
   "cell_type": "code",
   "execution_count": 78,
   "metadata": {},
   "outputs": [
    {
     "data": {
      "text/plain": [
       "(6, 51)"
      ]
     },
     "execution_count": 78,
     "metadata": {},
     "output_type": "execute_result"
    }
   ],
   "source": [
    "d['data'].shape"
   ]
  },
  {
   "cell_type": "code",
   "execution_count": 80,
   "metadata": {},
   "outputs": [
    {
     "data": {
      "text/plain": [
       "Symbols('CHCHCHCHCHCH')"
      ]
     },
     "execution_count": 80,
     "metadata": {},
     "output_type": "execute_result"
    }
   ],
   "source": [
    "benzene.symbols"
   ]
  },
  {
   "cell_type": "code",
   "execution_count": null,
   "metadata": {},
   "outputs": [],
   "source": []
  }
 ],
 "metadata": {
  "kernelspec": {
   "display_name": "Python 3",
   "language": "python",
   "name": "python3"
  },
  "language_info": {
   "codemirror_mode": {
    "name": "ipython",
    "version": 3
   },
   "file_extension": ".py",
   "mimetype": "text/x-python",
   "name": "python",
   "nbconvert_exporter": "python",
   "pygments_lexer": "ipython3",
   "version": "3.7.3"
  },
  "toc": {
   "base_numbering": 1,
   "nav_menu": {},
   "number_sections": true,
   "sideBar": true,
   "skip_h1_title": false,
   "title_cell": "Table of Contents",
   "title_sidebar": "Contents",
   "toc_cell": true,
   "toc_position": {},
   "toc_section_display": true,
   "toc_window_display": true
  }
 },
 "nbformat": 4,
 "nbformat_minor": 2
}
