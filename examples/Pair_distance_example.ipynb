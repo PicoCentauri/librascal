{
 "cells": [
  {
   "cell_type": "code",
   "execution_count": null,
   "metadata": {},
   "outputs": [],
   "source": [
    "import sys\n",
    "sys.path.append('../build')\n",
    "\n",
    "import ase.io\n",
    "import numpy as np\n",
    "\n",
    "import rascal\n",
    "from rascal.representations import PairDistances"
   ]
  },
  {
   "cell_type": "markdown",
   "metadata": {},
   "source": [
    "# Testing the calculator on some reference structures"
   ]
  },
  {
   "cell_type": "code",
   "execution_count": null,
   "metadata": {},
   "outputs": [],
   "source": [
    "samples = ase.io.read('../reference_data/inputs/methane_dimer_sample.xyz', ':')"
   ]
  },
  {
   "cell_type": "code",
   "execution_count": null,
   "metadata": {},
   "outputs": [],
   "source": [
    "samples[0].get_distance(0, 5)"
   ]
  },
  {
   "cell_type": "markdown",
   "metadata": {},
   "source": [
    "First we need to set the unit cells. These are isolated molecular systems, so we just need to \"pad\" the unit cell enough that periodic images don't show up within the cutoff we've chosen."
   ]
  },
  {
   "cell_type": "code",
   "execution_count": null,
   "metadata": {},
   "outputs": [],
   "source": [
    "for dim in samples:\n",
    "    cell_extents = (np.max(dim.get_positions(), axis=0)\n",
    "                    - np.min(dim.get_positions(), axis=0)\n",
    "                    + np.array([30, 30, 30]))\n",
    "    dim.set_cell(cell_extents)\n",
    "    dim.set_positions(dim.get_positions() + cell_extents / 2.)"
   ]
  },
  {
   "cell_type": "markdown",
   "metadata": {},
   "source": [
    "Now initialize the calculator with some fairly standard params."
   ]
  },
  {
   "cell_type": "code",
   "execution_count": null,
   "metadata": {},
   "outputs": [],
   "source": [
    "pd = PairDistances(interaction_cutoff=12.0, cutoff_smooth_width=0.5, n_species=2)"
   ]
  },
  {
   "cell_type": "code",
   "execution_count": null,
   "metadata": {},
   "outputs": [],
   "source": [
    "rep = pd.transform(samples)"
   ]
  },
  {
   "cell_type": "code",
   "execution_count": null,
   "metadata": {},
   "outputs": [],
   "source": [
    "X = rep.get_features(pd)"
   ]
  },
  {
   "cell_type": "markdown",
   "metadata": {},
   "source": [
    "This is the list of pair distances for the first molecule (100 pairs in total, since each pair comes up twice and we haven't removed pairs between same atoms).  The C-C pair, with the distance we computed above, shows up as the only entry in the final column, which tells us that's the C-C column.  The other two columns are H-H (you can see the repeated intramolecular distance of 1.77 Å) and C-H (with the 1.08 Å C-H bond length again visible)."
   ]
  },
  {
   "cell_type": "code",
   "execution_count": null,
   "metadata": {
    "scrolled": true
   },
   "outputs": [],
   "source": [
    "X[:100]"
   ]
  },
  {
   "cell_type": "markdown",
   "metadata": {},
   "source": [
    "### Inverse-power functionality"
   ]
  },
  {
   "cell_type": "code",
   "execution_count": null,
   "metadata": {},
   "outputs": [],
   "source": [
    "pd = PairDistances(interaction_cutoff=12.0, cutoff_smooth_width=0.5, n_species=2,\n",
    "                   distance_powers=[-6, -8])"
   ]
  },
  {
   "cell_type": "code",
   "execution_count": null,
   "metadata": {},
   "outputs": [],
   "source": []
  }
 ],
 "metadata": {
  "kernelspec": {
   "display_name": "Python 3",
   "language": "python",
   "name": "python3"
  },
  "language_info": {
   "codemirror_mode": {
    "name": "ipython",
    "version": 3
   },
   "file_extension": ".py",
   "mimetype": "text/x-python",
   "name": "python",
   "nbconvert_exporter": "python",
   "pygments_lexer": "ipython3",
   "version": "3.7.4"
  }
 },
 "nbformat": 4,
 "nbformat_minor": 2
}
