{
 "cells": [
  {
   "cell_type": "markdown",
   "metadata": {},
   "source": [
    "# SOAP example"
   ]
  },
  {
   "cell_type": "markdown",
   "metadata": {},
   "source": [
    "To install rascal:\n",
    "(NOTE: See the top-level README for the most up-to-date installation instructions.)\n",
    "+ mkdir ../build \n",
    "+ cd build\n",
    "+ cmake -DCMAKE_BUILD_TYPE=Release -DBUILD_TESTS=ON ..\n",
    "+ make -j 4\n",
    "+ make install"
   ]
  },
  {
   "cell_type": "code",
   "execution_count": 1,
   "metadata": {},
   "outputs": [],
   "source": [
    "import sys\n",
    "import time\n",
    "sys.path.insert(0,'../build/')\n",
    "sys.path.insert(0,'../build/bindings/')\n",
    "import rascal\n",
    "import rascal.lib as lrl\n",
    "import json\n",
    "import ase\n",
    "from ase.visualize import view\n",
    "import numpy as np\n",
    "import sys"
   ]
  },
  {
   "cell_type": "code",
   "execution_count": 2,
   "metadata": {},
   "outputs": [],
   "source": [
    "test_hypers = {\"interaction_cutoff\": 4.0,\n",
    "               \"cutoff_smooth_width\": 0.0, \n",
    "               \"max_radial\": 8,\n",
    "               \"max_angular\": 6,\n",
    "               \"gaussian_sigma_type\": \"Constant\",\n",
    "               \"gaussian_sigma_constant\": 0.3}\n",
    "\n",
    "nmax = test_hypers[\"max_radial\"]\n",
    "lmax = test_hypers[\"max_angular\"]"
   ]
  },
  {
   "cell_type": "code",
   "execution_count": 11,
   "metadata": {
    "scrolled": false
   },
   "outputs": [
    {
     "name": "stdout",
     "output_type": "stream",
     "text": [
      "13.21003007888794\n"
     ]
    },
    {
     "data": {
      "text/plain": [
       "array([[1.        , 0.78498309, 0.77102096, 0.7998807 , 0.84086421,\n",
       "        0.81529901, 0.95384259, 0.84304326, 0.84244704, 0.88122679,\n",
       "        0.88476097],\n",
       "       [0.78498309, 1.        , 0.7903963 , 0.99063544, 0.85978093,\n",
       "        0.88773657, 0.87112679, 0.77097342, 0.77354254, 0.82301577,\n",
       "        0.81633501],\n",
       "       [0.77102096, 0.7903963 , 1.        , 0.848918  , 0.94153579,\n",
       "        0.94210724, 0.82232767, 0.88278817, 0.88740778, 0.84152224,\n",
       "        0.84133394],\n",
       "       [0.7998807 , 0.99063544, 0.848918  , 1.        , 0.89899156,\n",
       "        0.92387989, 0.88664846, 0.81337362, 0.81602242, 0.84778038,\n",
       "        0.84159442],\n",
       "       [0.84086421, 0.85978093, 0.94153579, 0.89899156, 1.        ,\n",
       "        0.9851828 , 0.9029964 , 0.95011866, 0.94365522, 0.93237547,\n",
       "        0.93146923],\n",
       "       [0.81529901, 0.88773657, 0.94210724, 0.92387989, 0.9851828 ,\n",
       "        1.        , 0.88636077, 0.93102147, 0.93532317, 0.92528824,\n",
       "        0.92189124],\n",
       "       [0.95384259, 0.87112679, 0.82232767, 0.88664846, 0.9029964 ,\n",
       "        0.88636077, 1.        , 0.86776525, 0.86547251, 0.89347994,\n",
       "        0.8974735 ],\n",
       "       [0.84304326, 0.77097342, 0.88278817, 0.81337362, 0.95011866,\n",
       "        0.93102147, 0.86776525, 1.        , 0.99386354, 0.96624852,\n",
       "        0.96589859],\n",
       "       [0.84244704, 0.77354254, 0.88740778, 0.81602242, 0.94365522,\n",
       "        0.93532317, 0.86547251, 0.99386354, 1.        , 0.96332434,\n",
       "        0.96246386],\n",
       "       [0.88122679, 0.82301577, 0.84152224, 0.84778038, 0.93237547,\n",
       "        0.92528824, 0.89347994, 0.96624852, 0.96332434, 1.        ,\n",
       "        0.9989686 ],\n",
       "       [0.88476097, 0.81633501, 0.84133394, 0.84159442, 0.93146923,\n",
       "        0.92189124, 0.8974735 , 0.96589859, 0.96246386, 0.9989686 ,\n",
       "        1.        ]])"
      ]
     },
     "execution_count": 11,
     "metadata": {},
     "output_type": "execute_result"
    }
   ],
   "source": [
    "start = time.time()\n",
    "\n",
    "frames = ase.io.read('../tests/reference_data/dft-smiles_500.xyz',':')\n",
    "\n",
    "with lrl._rascal.utils.ostream_redirect():\n",
    "    sph_expn = rascal.representation.SphericalExpansion(**test_hypers)\n",
    "\n",
    "with lrl._rascal.utils.ostream_redirect():\n",
    "    expansions = sph_expn.transform(frames)\n",
    "    \n",
    "X = expansions.get_feature_matrix().T\n",
    "ncen = len(X)\n",
    "coeffs = np.zeros((ncen,nmax,lmax+1,2*lmax+1),float)\n",
    "for icen in range(ncen):\n",
    "    ii=0\n",
    "    for l in range(lmax+1):\n",
    "        for im in range(2*l+1):\n",
    "            for n in range(nmax):\n",
    "                coeffs[icen,n,l,im] = X[icen,ii]\n",
    "                ii+=1\n",
    "\n",
    "size = nmax*nmax*(lmax+1)\n",
    "power = np.zeros((ncen,size),float)\n",
    "for icen in range(ncen):\n",
    "    jj = 0\n",
    "    for n1 in range(nmax):\n",
    "        for n2 in range(nmax):\n",
    "            for l in range(lmax+1):\n",
    "                power[icen,jj] = np.dot(coeffs[icen,n1,l],coeffs[icen,n2,l])/np.sqrt(2*l+1)\n",
    "                jj+=1\n",
    "    power[icen] /= np.linalg.norm(power[icen])\n",
    "\n",
    "kernel = np.dot(power,power.T)\n",
    "\n",
    "print(time.time()-start)"
   ]
  },
  {
   "cell_type": "code",
   "execution_count": 15,
   "metadata": {},
   "outputs": [
    {
     "name": "stdout",
     "output_type": "stream",
     "text": [
      "[[ 1.23176816e-05  3.98402626e-04 -1.35649919e-03 -1.25934295e-04\n",
      "   8.71595792e-04]\n",
      " [ 2.16284125e-04  1.53552548e-03 -4.94334495e-03 -4.83316342e-04\n",
      "   3.87383042e-03]\n",
      " [-1.98236464e-04  1.55770943e-03 -8.80783921e-03 -6.07346455e-04\n",
      "   6.76696575e-04]\n",
      " [ 3.67650718e-04 -3.57598282e-04 -3.11432242e-03 -6.00809766e-05\n",
      "  -3.68482713e-03]\n",
      " [ 5.36952713e-05 -2.52223773e-04 -4.06587360e-03 -1.08082785e-04\n",
      "  -2.38376156e-03]\n",
      " [-2.28534348e-04 -4.73937711e-04 -2.73264840e-03  1.90533041e-05\n",
      "  -4.19016892e-03]\n",
      " [ 3.05471470e-04 -3.23924086e-04 -2.91311772e-03 -3.22698750e-05\n",
      "  -4.08783982e-03]\n",
      " [ 1.40815790e-04 -1.45905022e-04 -1.04351150e-03 -5.48858000e-06\n",
      "  -1.69451160e-03]]\n"
     ]
    }
   ],
   "source": [
    "coeffs = np.zeros((ncen,nmax,lmax+1,2*lmax+1),float)\n",
    "for icen in range(ncen):\n",
    "    ii=0\n",
    "    for l in range(lmax+1):\n",
    "        for im in range(2*l+1):\n",
    "            for n in range(nmax):\n",
    "                coeffs[icen,n,l,im] = X[icen,ii]\n",
    "                ii+=1\n",
    "\n",
    "coeffs[0,:,2,:5]"
   ]
  },
  {
   "cell_type": "code",
   "execution_count": 16,
   "metadata": {},
   "outputs": [
    {
     "data": {
      "text/plain": [
       "array([[1.        , 0.78498309, 0.77102096, 0.7998807 , 0.84086421,\n",
       "        0.81529901, 0.95384259, 0.84304326, 0.84244704, 0.88122679,\n",
       "        0.88476097],\n",
       "       [0.78498309, 1.        , 0.7903963 , 0.99063544, 0.85978093,\n",
       "        0.88773657, 0.87112679, 0.77097342, 0.77354254, 0.82301577,\n",
       "        0.81633501],\n",
       "       [0.77102096, 0.7903963 , 1.        , 0.848918  , 0.94153579,\n",
       "        0.94210724, 0.82232767, 0.88278817, 0.88740778, 0.84152224,\n",
       "        0.84133394],\n",
       "       [0.7998807 , 0.99063544, 0.848918  , 1.        , 0.89899156,\n",
       "        0.92387989, 0.88664846, 0.81337362, 0.81602242, 0.84778038,\n",
       "        0.84159442],\n",
       "       [0.84086421, 0.85978093, 0.94153579, 0.89899156, 1.        ,\n",
       "        0.9851828 , 0.9029964 , 0.95011866, 0.94365522, 0.93237547,\n",
       "        0.93146923],\n",
       "       [0.81529901, 0.88773657, 0.94210724, 0.92387989, 0.9851828 ,\n",
       "        1.        , 0.88636077, 0.93102147, 0.93532317, 0.92528824,\n",
       "        0.92189124],\n",
       "       [0.95384259, 0.87112679, 0.82232767, 0.88664846, 0.9029964 ,\n",
       "        0.88636077, 1.        , 0.86776525, 0.86547251, 0.89347994,\n",
       "        0.8974735 ],\n",
       "       [0.84304326, 0.77097342, 0.88278817, 0.81337362, 0.95011866,\n",
       "        0.93102147, 0.86776525, 1.        , 0.99386354, 0.96624852,\n",
       "        0.96589859],\n",
       "       [0.84244704, 0.77354254, 0.88740778, 0.81602242, 0.94365522,\n",
       "        0.93532317, 0.86547251, 0.99386354, 1.        , 0.96332434,\n",
       "        0.96246386],\n",
       "       [0.88122679, 0.82301577, 0.84152224, 0.84778038, 0.93237547,\n",
       "        0.92528824, 0.89347994, 0.96624852, 0.96332434, 1.        ,\n",
       "        0.9989686 ],\n",
       "       [0.88476097, 0.81633501, 0.84133394, 0.84159442, 0.93146923,\n",
       "        0.92189124, 0.8974735 , 0.96589859, 0.96246386, 0.9989686 ,\n",
       "        1.        ]])"
      ]
     },
     "execution_count": 16,
     "metadata": {},
     "output_type": "execute_result"
    }
   ],
   "source": [
    "size = nmax*nmax*(lmax+1)\n",
    "power = np.zeros((ncen,size),float)\n",
    "for icen in range(ncen):\n",
    "    jj = 0\n",
    "    for n1 in range(nmax):\n",
    "        for n2 in range(nmax):\n",
    "            for l in range(lmax+1):\n",
    "                power[icen,jj] = np.dot(coeffs[icen,n1,l],coeffs[icen,n2,l])/np.sqrt(2*l+1)\n",
    "                jj+=1\n",
    "    power[icen] /= np.linalg.norm(power[icen])\n",
    "kernel = np.dot(power,power.T)\n",
    "kernel"
   ]
  },
  {
   "cell_type": "code",
   "execution_count": null,
   "metadata": {},
   "outputs": [],
   "source": []
  },
  {
   "cell_type": "code",
   "execution_count": null,
   "metadata": {},
   "outputs": [],
   "source": []
  }
 ],
 "metadata": {
  "kernelspec": {
   "display_name": "Python 3",
   "language": "python",
   "name": "python3"
  },
  "language_info": {
   "codemirror_mode": {
    "name": "ipython",
    "version": 3
   },
   "file_extension": ".py",
   "mimetype": "text/x-python",
   "name": "python",
   "nbconvert_exporter": "python",
   "pygments_lexer": "ipython3",
   "version": "3.7.0"
  },
  "toc": {
   "base_numbering": 1,
   "nav_menu": {
    "height": "12px",
    "width": "252px"
   },
   "number_sections": true,
   "sideBar": true,
   "skip_h1_title": false,
   "title_cell": "Table of Contents",
   "title_sidebar": "Contents",
   "toc_cell": false,
   "toc_position": {},
   "toc_section_display": "block",
   "toc_window_display": false
  }
 },
 "nbformat": 4,
 "nbformat_minor": 2
}
