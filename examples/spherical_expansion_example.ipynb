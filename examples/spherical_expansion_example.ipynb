{
 "cells": [
  {
   "cell_type": "markdown",
   "metadata": {},
   "source": [
    "# SOAP example"
   ]
  },
  {
   "cell_type": "markdown",
   "metadata": {},
   "source": [
    "To install rascal:\n",
    "(NOTE: See the top-level README for the most up-to-date installation instructions.)\n",
    "+ mkdir ../build \n",
    "+ cd build\n",
    "+ cmake -DCMAKE_BUILD_TYPE=Release -DBUILD_TESTS=ON ..\n",
    "+ make -j 4\n",
    "+ make install"
   ]
  },
  {
   "cell_type": "markdown",
   "metadata": {},
   "source": [
    "TODO: Compare against an existing SOAP implementation in Python (e.g. quippy)"
   ]
  },
  {
   "cell_type": "code",
   "execution_count": 5,
   "metadata": {
    "init_cell": true
   },
   "outputs": [
    {
     "name": "stdout",
     "output_type": "stream",
     "text": [
      "env: OMP_NUM_THREADS=1\n"
     ]
    }
   ],
   "source": [
    "%env OMP_NUM_THREADS=1\n",
    "\n",
    "%matplotlib inline\n",
    "from matplotlib import pyplot as plt\n",
    "\n",
    "import os, sys\n",
    "from ase.io import read\n",
    "sys.path.insert(0,\"../build/\")\n",
    "\n",
    "import sys\n",
    "import time\n",
    "import rascal\n",
    "import json\n",
    "\n",
    "import ase\n",
    "#from ase.io import read\n",
    "from ase.build import make_supercell\n",
    "from ase.visualize import view\n",
    "import numpy as np\n",
    "import sys\n",
    "\n",
    "from multiprocessing.dummy import Pool as ThreadPool\n",
    "import queue\n",
    "from copy import deepcopy,copy\n",
    "\n",
    "import json\n",
    "\n",
    "from rascal.neighbourlist import get_neighbourlist\n",
    "from rascal.lib import RepresentationManager, FeatureManager\n",
    "from rascal.representations.base import RepresentationFactory,FeatureFactory\n",
    "from rascal.representations import SphericalExpansion\n",
    "from rascal.neighbourlist.base import NeighbourListFactory\n",
    "from rascal.utils import ostream_redirect"
   ]
  },
  {
   "cell_type": "code",
   "execution_count": 6,
   "metadata": {
    "init_cell": true
   },
   "outputs": [
    {
     "name": "stdout",
     "output_type": "stream",
     "text": [
      "21\n"
     ]
    }
   ],
   "source": [
    "frames = ase.io.read('../tests/reference_data/dft-smiles_500.xyz',index=':10')\n",
    "new_frames = []\n",
    "aa = []\n",
    "for frame in frames:\n",
    "    new_frames.append(make_supercell(frame,np.eye(3)*1))\n",
    "print(np.max(list(map(len,new_frames))))"
   ]
  },
  {
   "cell_type": "code",
   "execution_count": 7,
   "metadata": {
    "init_cell": true
   },
   "outputs": [],
   "source": [
    "test_hypers = {\"interaction_cutoff\": 6.0, \"cutoff_smooth_width\": 1.0, \"max_radial\": 10, \"max_angular\": 8, \"gaussian_sigma_type\": \"Constant\", \"gaussian_sigma_constant\": 0.5}"
   ]
  },
  {
   "cell_type": "code",
   "execution_count": 8,
   "metadata": {
    "init_cell": true
   },
   "outputs": [],
   "source": [
    "sph_expn = rascal.representations.SphericalExpansion(**test_hypers)"
   ]
  },
  {
   "cell_type": "code",
   "execution_count": 13,
   "metadata": {},
   "outputs": [
    {
     "data": {
      "text/plain": [
       "rascal.lib._rascal.FeatureManager.BlockSparse_double"
      ]
     },
     "execution_count": 13,
     "metadata": {},
     "output_type": "execute_result"
    }
   ],
   "source": [
    "rascal.lib._rascal.FeatureManager.BlockSparse_double"
   ]
  },
  {
   "cell_type": "code",
   "execution_count": 14,
   "metadata": {},
   "outputs": [],
   "source": [
    "with ostream_redirect():\n",
    "    expansions = sph_expn.transform(new_frames)"
   ]
  },
  {
   "cell_type": "code",
   "execution_count": 15,
   "metadata": {},
   "outputs": [],
   "source": [
    "X = expansions.get_feature_matrix().T"
   ]
  },
  {
   "cell_type": "code",
   "execution_count": 20,
   "metadata": {},
   "outputs": [
    {
     "data": {
      "text/plain": [
       "(174, 3240)"
      ]
     },
     "execution_count": 20,
     "metadata": {},
     "output_type": "execute_result"
    }
   ],
   "source": [
    "X.shape"
   ]
  },
  {
   "cell_type": "code",
   "execution_count": null,
   "metadata": {},
   "outputs": [],
   "source": [
    "%timeit -n 2 -r 1 expansions = sph_expn_test.transform(new_frames)"
   ]
  },
  {
   "cell_type": "code",
   "execution_count": null,
   "metadata": {},
   "outputs": [],
   "source": [
    "%timeit -n 2 -r 1 expansions = sph_expn.transform(new_frames)"
   ]
  },
  {
   "cell_type": "code",
   "execution_count": null,
   "metadata": {},
   "outputs": [],
   "source": [
    "%timeit -n 2 -r 1 expansions = sph_expn_test.transform(new_frames)"
   ]
  },
  {
   "cell_type": "code",
   "execution_count": null,
   "metadata": {},
   "outputs": [],
   "source": [
    "expansions.get_feature_matrix()"
   ]
  },
  {
   "cell_type": "markdown",
   "metadata": {},
   "source": [
    "Good, should be 5 centres (5 atoms) * 10 radial * 81 ${}=(l+1)^2$"
   ]
  },
  {
   "cell_type": "code",
   "execution_count": 9,
   "metadata": {},
   "outputs": [],
   "source": [
    "import sys\n",
    "sys.path.insert(0,'../build/')\n",
    "import json,ubjson\n",
    "import ase\n",
    "import argparse\n",
    "import rascal\n",
    "import rascal.lib as lrl\n",
    "import numpy as np\n",
    "from ase.io import read\n",
    "\n",
    "def load_json(fn):\n",
    "    with open(fn,'r') as f:\n",
    "        data = json.load(f)\n",
    "    return data[str(data['ids'][0])]\n",
    "def json2ase(f):\n",
    "    return ase.Atoms(**{v:f[k] for k,v in\n",
    "dict(positions='positions',atom_types='numbers',pbc='pbc',cell='cell').items()\n",
    "})\n",
    "\n",
    "\n",
    "\n",
    "def get_soap_vectors(hypers, frames):\n",
    "    with lrl._rascal.utils.ostream_redirect():\n",
    "        sph_expn = rascal.representations.SphericalExpansion(**hypers)\n",
    "        expansions = sph_expn.transform(frames)\n",
    "        soap_vectors = expansions.get_feature_matrix()\n",
    "    return soap_vectors\n",
    "\n",
    "##########################################################################################\n",
    "\n",
    "#dump spherical expansion\n",
    "def dump_reference_json():\n",
    "    import ubjson\n",
    "    import os\n",
    "    from copy import copy\n",
    "    path = '../' #should be changed\n",
    "    sys.path.insert(0, os.path.join(path, 'build/'))\n",
    "    sys.path.insert(0, os.path.join(path, 'tests/'))\n",
    "\n",
    "    cutoffs = [2, 3]\n",
    "    gaussian_sigmas = [0.2, 0.5]\n",
    "    max_radials = [4, 10]\n",
    "    max_angulars = [3, 6]\n",
    "\n",
    "    fns = [\n",
    "        #os.path.join(path,\"tests/reference_data/CaCrP2O7_mvc-11955_symmetrized.json\"),\n",
    "        os.path.join(path,\"tests/reference_data/small_molecule.json\")\n",
    "    ]\n",
    "    fns_to_write = [\n",
    "        #\"reference_data/CaCrP2O7_mvc-11955_symmetrized.json\",\n",
    "         \"reference_data/small_molecule.json\",\n",
    "\n",
    "]\n",
    "\n",
    "    data = dict(filenames=fns_to_write,\n",
    "                cutoffs=cutoffs,\n",
    "                gaussian_sigmas=gaussian_sigmas,\n",
    "                max_radials=max_radials,\n",
    "                rep_info=[])\n",
    "\n",
    "    for fn in fns:\n",
    "        for cutoff in cutoffs:\n",
    "            data['rep_info'].append([])\n",
    "            for gaussian_sigma in gaussian_sigmas:\n",
    "                for max_radial in max_radials:\n",
    "                    for max_angular in max_angulars:\n",
    "                        frames = [json2ase(load_json(fn))]\n",
    "                        hypers = {\"interaction_cutoff\": cutoff,\n",
    "                                  \"cutoff_smooth_width\": 0.0,\n",
    "                                  \"max_radial\": max_radial,\n",
    "                                  \"max_angular\": max_angular,\n",
    "                                  \"gaussian_sigma_type\": \"Constant\",\n",
    "                                  \"gaussian_sigma_constant\": gaussian_sigma}\n",
    "                        x = get_soap_vectors(hypers, frames)\n",
    "                        data['rep_info'][-1].append(dict(feature_matrix=x.tolist(),\n",
    "                                                 hypers=copy(hypers)))\n",
    "    return data"
   ]
  },
  {
   "cell_type": "code",
   "execution_count": 10,
   "metadata": {},
   "outputs": [],
   "source": [
    "data = dump_reference_json()"
   ]
  },
  {
   "cell_type": "code",
   "execution_count": 12,
   "metadata": {},
   "outputs": [
    {
     "data": {
      "text/plain": [
       "{'interaction_cutoff': 2,\n",
       " 'cutoff_smooth_width': 0.0,\n",
       " 'max_radial': 4,\n",
       " 'max_angular': 3,\n",
       " 'gaussian_sigma_type': 'Constant',\n",
       " 'gaussian_sigma_constant': 0.2}"
      ]
     },
     "execution_count": 12,
     "metadata": {},
     "output_type": "execute_result"
    }
   ],
   "source": [
    "OM = data['rep_info'][0][0]['feature_matrix']\n",
    "hypers = data['rep_info'][0][0]['hypers']\n",
    "hypers"
   ]
  },
  {
   "cell_type": "code",
   "execution_count": null,
   "metadata": {},
   "outputs": [],
   "source": [
    "test = np.einsum('nlm,alm->nal',OM,OM)"
   ]
  },
  {
   "cell_type": "code",
   "execution_count": 13,
   "metadata": {},
   "outputs": [],
   "source": [
    "ref = np.load('PS0_nconf1_sigma0.2_lmax3_nmax4_cutoff2_cweight1.0_ncut-1_natoms.npy')"
   ]
  },
  {
   "cell_type": "code",
   "execution_count": null,
   "metadata": {},
   "outputs": [],
   "source": []
  },
  {
   "cell_type": "code",
   "execution_count": 14,
   "metadata": {},
   "outputs": [
    {
     "data": {
      "text/plain": [
       "['reference_data/CaCrP2O7_mvc-11955_symmetrized.json',\n",
       " 'reference_data/small_molecule.json']"
      ]
     },
     "execution_count": 14,
     "metadata": {},
     "output_type": "execute_result"
    }
   ],
   "source": [
    "data['filenames']"
   ]
  },
  {
   "cell_type": "code",
   "execution_count": 15,
   "metadata": {},
   "outputs": [],
   "source": [
    "with open('../tests/reference_data/spherical_expansion_reference.ubjson','wb') as f:\n",
    "    ubjson.dump(data,f)"
   ]
  },
  {
   "cell_type": "code",
   "execution_count": 14,
   "metadata": {},
   "outputs": [],
   "source": [
    "with open('../tests/reference_data/spherical_expansion_reference.ubjson','rb') as f:\n",
    "    data_ref = ubjson.load(f)"
   ]
  },
  {
   "cell_type": "code",
   "execution_count": 15,
   "metadata": {},
   "outputs": [
    {
     "name": "stdout",
     "output_type": "stream",
     "text": [
      "True\n",
      "True\n",
      "True\n",
      "True\n",
      "True\n",
      "True\n",
      "True\n",
      "True\n",
      "True\n",
      "True\n",
      "True\n",
      "True\n",
      "True\n",
      "True\n",
      "True\n",
      "True\n"
     ]
    }
   ],
   "source": [
    "\n",
    "for a_r,a_t in zip(data_ref['rep_info'],data['rep_info']):\n",
    "    for b_r,b_t in zip(a_r,a_t):\n",
    "        f_r = b_r['feature_matrix']\n",
    "        f_t = b_t['feature_matrix']\n",
    "\n",
    "        print(np.allclose(f_r,f_t))"
   ]
  },
  {
   "cell_type": "code",
   "execution_count": 41,
   "metadata": {},
   "outputs": [
    {
     "data": {
      "text/plain": [
       "392"
      ]
     },
     "execution_count": 41,
     "metadata": {},
     "output_type": "execute_result"
    }
   ],
   "source": [
    "8*7**2"
   ]
  },
  {
   "cell_type": "code",
   "execution_count": 53,
   "metadata": {},
   "outputs": [
    {
     "data": {
      "text/plain": [
       "2"
      ]
     },
     "execution_count": 53,
     "metadata": {},
     "output_type": "execute_result"
    }
   ],
   "source": [
    "len(data['rep_info'])"
   ]
  },
  {
   "cell_type": "code",
   "execution_count": 45,
   "metadata": {},
   "outputs": [
    {
     "data": {
      "text/plain": [
       "(1568, 11)"
      ]
     },
     "execution_count": 45,
     "metadata": {},
     "output_type": "execute_result"
    }
   ],
   "source": [
    "np.array(data['rep_info'][0][0]['feature_matrix']).shape"
   ]
  },
  {
   "cell_type": "code",
   "execution_count": 48,
   "metadata": {},
   "outputs": [
    {
     "data": {
      "text/plain": [
       "[1.2821100555830826e-05,\n",
       " 0.0,\n",
       " 0.0,\n",
       " 0.0,\n",
       " 0.0,\n",
       " 0.0,\n",
       " 0.0,\n",
       " 0.0,\n",
       " 0.0,\n",
       " 0.0031758261305962145,\n",
       " 0.0031758261305962145]"
      ]
     },
     "execution_count": 48,
     "metadata": {},
     "output_type": "execute_result"
    }
   ],
   "source": [
    "data['rep_info'][0][1]['feature_matrix'][2]"
   ]
  },
  {
   "cell_type": "code",
   "execution_count": null,
   "metadata": {},
   "outputs": [],
   "source": []
  },
  {
   "cell_type": "code",
   "execution_count": 17,
   "metadata": {},
   "outputs": [
    {
     "ename": "SyntaxError",
     "evalue": "invalid syntax (get_kernel.py, line 32)",
     "output_type": "error",
     "traceback": [
      "Traceback \u001b[0;36m(most recent call last)\u001b[0m:\n",
      "  File \u001b[1;32m\"/local/ssd/miniconda/envs/py36/lib/python3.6/site-packages/IPython/core/interactiveshell.py\"\u001b[0m, line \u001b[1;32m3267\u001b[0m, in \u001b[1;35mrun_code\u001b[0m\n    exec(code_obj, self.user_global_ns, self.user_ns)\n",
      "  File \u001b[1;32m\"<ipython-input-17-4cebcb7edf62>\"\u001b[0m, line \u001b[1;32m2\u001b[0m, in \u001b[1;35m<module>\u001b[0m\n    from soapfast import  get_power_spectrum\n",
      "\u001b[0;36m  File \u001b[0;32m\"../../SOAPFAST/soapfast/__init__.py\"\u001b[0;36m, line \u001b[0;32m3\u001b[0;36m, in \u001b[0;35m<module>\u001b[0;36m\u001b[0m\n\u001b[0;31m    from .get_kernel import get_kernel\u001b[0m\n",
      "\u001b[0;36m  File \u001b[0;32m\"../../SOAPFAST/soapfast/get_kernel.py\"\u001b[0;36m, line \u001b[0;32m32\u001b[0m\n\u001b[0;31m    print \"\\033[91m\" + \"WARNING: power spectra were created with an earlier version of the code and are complex. Transforming them to real for now (but this feature is deprecated).\" + \"\\033[0m\"\u001b[0m\n\u001b[0m                   ^\u001b[0m\n\u001b[0;31mSyntaxError\u001b[0m\u001b[0;31m:\u001b[0m invalid syntax\n"
     ]
    }
   ],
   "source": []
  },
  {
   "cell_type": "code",
   "execution_count": null,
   "metadata": {},
   "outputs": [],
   "source": []
  }
 ],
 "metadata": {
  "celltoolbar": "Initialization Cell",
  "kernelspec": {
   "display_name": "py36",
   "language": "python",
   "name": "py36"
  },
  "language_info": {
   "codemirror_mode": {
    "name": "ipython",
    "version": 3
   },
   "file_extension": ".py",
   "mimetype": "text/x-python",
   "name": "python",
   "nbconvert_exporter": "python",
   "pygments_lexer": "ipython3",
   "version": "3.6.8"
  },
  "toc": {
   "base_numbering": 1,
   "nav_menu": {
    "height": "12px",
    "width": "252px"
   },
   "number_sections": true,
   "sideBar": true,
   "skip_h1_title": false,
   "title_cell": "Table of Contents",
   "title_sidebar": "Contents",
   "toc_cell": false,
   "toc_position": {},
   "toc_section_display": "block",
   "toc_window_display": false
  }
 },
 "nbformat": 4,
 "nbformat_minor": 2
}
