{
 "cells": [
  {
   "cell_type": "markdown",
   "metadata": {},
   "source": [
    "# SOAP example"
   ]
  },
  {
   "cell_type": "markdown",
   "metadata": {},
   "source": [
    "To install rascal:\n",
    "(NOTE: See the top-level README for the most up-to-date installation instructions.)\n",
    "+ mkdir ../build \n",
    "+ cd build\n",
    "+ cmake -DCMAKE_BUILD_TYPE=Release -DBUILD_TESTS=ON ..\n",
    "+ make -j 4\n",
    "+ make install"
   ]
  },
  {
   "cell_type": "code",
   "execution_count": 2,
   "metadata": {},
   "outputs": [],
   "source": [
    "%matplotlib inline\n",
    "from matplotlib import pyplot as plt"
   ]
  },
  {
   "cell_type": "code",
   "execution_count": 3,
   "metadata": {},
   "outputs": [],
   "source": [
    "import sys\n",
    "import time\n",
    "sys.path.insert(0,'../build/')\n",
    "sys.path.insert(0,'../build/bindings/')\n",
    "import rascal\n",
    "import rascal.lib as lrl\n",
    "import json\n",
    "import ase\n",
    "from ase.visualize import view\n",
    "import numpy as np\n",
    "import sys"
   ]
  },
  {
   "cell_type": "code",
   "execution_count": 4,
   "metadata": {},
   "outputs": [],
   "source": [
    "test_hypers = {\"interaction_cutoff\": 3.5,\n",
    "               \"cutoff_smooth_width\": 0.5, \n",
    "               \"max_radial\": 6,\n",
    "               \"max_angular\": 6,\n",
    "               \"gaussian_sigma_type\": \"Constant\",\n",
    "               \"gaussian_sigma_constant\": 0.3}\n",
    "\n",
    "nmax = test_hypers[\"max_radial\"]\n",
    "lmax = test_hypers[\"max_angular\"]"
   ]
  },
  {
   "cell_type": "code",
   "execution_count": 5,
   "metadata": {},
   "outputs": [],
   "source": [
    "frames = ase.io.read('../tests/reference_data/coords_benzene_dimer_1000.xyz',':3')"
   ]
  },
  {
   "cell_type": "code",
   "execution_count": 7,
   "metadata": {},
   "outputs": [
    {
     "data": {
      "text/plain": [
       "array([False, False, False])"
      ]
     },
     "execution_count": 7,
     "metadata": {},
     "output_type": "execute_result"
    }
   ],
   "source": [
    "frames[0].get_pbc()"
   ]
  },
  {
   "cell_type": "code",
   "execution_count": 17,
   "metadata": {},
   "outputs": [],
   "source": [
    "with lrl._rascal.utils.ostream_redirect():\n",
    "    sph_expn = rascal.representation.SphericalExpansion(**test_hypers)"
   ]
  },
  {
   "cell_type": "code",
   "execution_count": null,
   "metadata": {},
   "outputs": [],
   "source": [
    "with lrl._rascal.utils.ostream_redirect():\n",
    "    expansions = sph_expn.transform(frames)"
   ]
  },
  {
   "cell_type": "code",
   "execution_count": 13,
   "metadata": {},
   "outputs": [
    {
     "data": {
      "text/plain": [
       "(42, 1176)"
      ]
     },
     "execution_count": 13,
     "metadata": {},
     "output_type": "execute_result"
    }
   ],
   "source": [
    "X = expansions.get_feature_matrix().T\n",
    "X.shape"
   ]
  },
  {
   "cell_type": "code",
   "execution_count": 14,
   "metadata": {},
   "outputs": [
    {
     "data": {
      "text/plain": [
       "<matplotlib.image.AxesImage at 0x7f5d17fe6208>"
      ]
     },
     "execution_count": 14,
     "metadata": {},
     "output_type": "execute_result"
    },
    {
     "data": {
      "image/png": "[encoded data removed]",
      "text/plain": [
       "<Figure size 432x288 with 1 Axes>"
      ]
     },
     "metadata": {
      "needs_background": "light"
     },
     "output_type": "display_data"
    }
   ],
   "source": [
    "plt.imshow(X)"
   ]
  },
  {
   "cell_type": "code",
   "execution_count": 15,
   "metadata": {
    "scrolled": false
   },
   "outputs": [
    {
     "name": "stdout",
     "output_type": "stream",
     "text": [
      "9.493845224380493\n"
     ]
    }
   ],
   "source": [
    "start = time.time()\n",
    "\n",
    "frames = ase.io.read('../tests/reference_data/dft-smiles_500.xyz',':')\n",
    "\n",
    "with lrl._rascal.utils.ostream_redirect():\n",
    "    sph_expn = rascal.representation.SphericalExpansion(**test_hypers)\n",
    "\n",
    "with lrl._rascal.utils.ostream_redirect():\n",
    "    expansions = sph_expn.transform(frames)\n",
    "    \n",
    "X = expansions.get_feature_matrix().T\n",
    "ncen = len(X)\n",
    "coeffs = np.zeros((ncen,nmax,lmax+1,2*lmax+1),float)\n",
    "for icen in range(ncen):\n",
    "    ii=0\n",
    "    for l in range(lmax+1):\n",
    "        for im in range(2*l+1):\n",
    "            for n in range(nmax):\n",
    "                coeffs[icen,n,l,im] = X[icen,ii]\n",
    "                ii+=1\n",
    "\n",
    "size = nmax*nmax*(lmax+1)\n",
    "power = np.zeros((ncen,size),float)\n",
    "for icen in range(ncen):\n",
    "    jj = 0\n",
    "    for n1 in range(nmax):\n",
    "        for n2 in range(nmax):\n",
    "            for l in range(lmax+1):\n",
    "                power[icen,jj] = np.dot(coeffs[icen,n1,l],coeffs[icen,n2,l])/np.sqrt(2*l+1)\n",
    "                jj+=1\n",
    "    #power[icen] /= np.linalg.norm(power[icen])\n",
    "\n",
    "kernel = np.dot(power,power.T)\n",
    "\n",
    "print(time.time()-start)"
   ]
  },
  {
   "cell_type": "code",
   "execution_count": 5,
   "metadata": {},
   "outputs": [
    {
     "data": {
      "text/plain": [
       "array([[ 5.99250029e-05,  4.31807799e-04, -1.21774221e-03,\n",
       "        -1.29635795e-04,  1.19578349e-03],\n",
       "       [ 2.22954697e-04,  1.60449776e-03, -4.52487890e-03,\n",
       "        -4.81585084e-04,  4.44327129e-03],\n",
       "       [ 2.98078695e-04,  2.13352241e-03, -6.01696633e-03,\n",
       "        -6.39744203e-04,  5.90837252e-03],\n",
       "       [ 1.54920681e-05,  1.09453716e-04, -3.08703228e-04,\n",
       "        -3.27424255e-05,  3.03122352e-04],\n",
       "       [ 2.75769407e-05,  1.97498199e-04, -5.56983302e-04,\n",
       "        -5.92267128e-05,  5.46931655e-04],\n",
       "       [-1.27874016e-05, -9.17615481e-05,  2.58782666e-04,\n",
       "         2.75277498e-05, -2.54113717e-04],\n",
       "       [ 4.98589767e-06,  3.58060257e-05, -1.00978472e-04,\n",
       "        -1.07430192e-05,  9.91568020e-05],\n",
       "       [-1.06013927e-06, -7.61608492e-06,  2.14784839e-05,\n",
       "         2.28523110e-06, -2.10910262e-05]])"
      ]
     },
     "execution_count": 5,
     "metadata": {},
     "output_type": "execute_result"
    }
   ],
   "source": [
    "coeffs = np.zeros((ncen,nmax,lmax+1,2*lmax+1),float)\n",
    "for icen in range(ncen):\n",
    "    ii=0\n",
    "    for l in range(lmax+1):\n",
    "        for im in range(2*l+1):\n",
    "            for n in range(nmax):\n",
    "                coeffs[icen,n,l,im] = X[icen,ii]\n",
    "                ii+=1\n",
    "\n",
    "coeffs[0,:,2,:5]"
   ]
  },
  {
   "cell_type": "code",
   "execution_count": 6,
   "metadata": {},
   "outputs": [
    {
     "name": "stderr",
     "output_type": "stream",
     "text": [
      "/local/ssd/miniconda/envs/py36/lib/python3.6/site-packages/ipykernel_launcher.py:10: RuntimeWarning: invalid value encountered in true_divide\n",
      "  # Remove the CWD from sys.path while we load stuff.\n"
     ]
    },
    {
     "data": {
      "text/plain": [
       "array([[1.00000000e+00, 1.17696848e-03, 2.71214550e-04, ...,\n",
       "        3.16165769e-02, 3.61678602e-02, 3.09570661e-02],\n",
       "       [1.17696848e-03, 1.00000000e+00, 1.15191581e-01, ...,\n",
       "        1.45157326e-01, 7.66723577e-02, 1.47244452e-01],\n",
       "       [2.71214550e-04, 1.15191581e-01, 1.00000000e+00, ...,\n",
       "        1.99051948e-01, 2.10444425e-02, 1.35982990e-01],\n",
       "       ...,\n",
       "       [3.16165769e-02, 1.45157326e-01, 1.99051948e-01, ...,\n",
       "        1.00000000e+00, 8.45890392e-01, 9.63581071e-01],\n",
       "       [3.61678602e-02, 7.66723577e-02, 2.10444425e-02, ...,\n",
       "        8.45890392e-01, 1.00000000e+00, 9.18693812e-01],\n",
       "       [3.09570661e-02, 1.47244452e-01, 1.35982990e-01, ...,\n",
       "        9.63581071e-01, 9.18693812e-01, 1.00000000e+00]])"
      ]
     },
     "execution_count": 6,
     "metadata": {},
     "output_type": "execute_result"
    }
   ],
   "source": [
    "size = nmax*nmax*(lmax+1)\n",
    "power = np.zeros((ncen,size),float)\n",
    "for icen in range(ncen):\n",
    "    jj = 0\n",
    "    for n1 in range(nmax):\n",
    "        for n2 in range(nmax):\n",
    "            for l in range(lmax+1):\n",
    "                power[icen,jj] = np.dot(coeffs[icen,n1,l],coeffs[icen,n2,l])/np.sqrt(2*l+1)\n",
    "                jj+=1\n",
    "    power[icen] /= np.linalg.norm(power[icen])\n",
    "kernel = np.dot(power,power.T)\n",
    "kernel"
   ]
  },
  {
   "cell_type": "code",
   "execution_count": null,
   "metadata": {},
   "outputs": [],
   "source": []
  },
  {
   "cell_type": "code",
   "execution_count": null,
   "metadata": {},
   "outputs": [],
   "source": []
  }
 ],
 "metadata": {
  "kernelspec": {
   "display_name": "py36",
   "language": "python",
   "name": "py36"
  },
  "language_info": {
   "codemirror_mode": {
    "name": "ipython",
    "version": 3
   },
   "file_extension": ".py",
   "mimetype": "text/x-python",
   "name": "python",
   "nbconvert_exporter": "python",
   "pygments_lexer": "ipython3",
   "version": "3.6.8"
  },
  "toc": {
   "base_numbering": 1,
   "nav_menu": {
    "height": "12px",
    "width": "252px"
   },
   "number_sections": true,
   "sideBar": true,
   "skip_h1_title": false,
   "title_cell": "Table of Contents",
   "title_sidebar": "Contents",
   "toc_cell": false,
   "toc_position": {},
   "toc_section_display": "block",
   "toc_window_display": false
  }
 },
 "nbformat": 4,
 "nbformat_minor": 2
}
