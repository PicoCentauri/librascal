{
 "cells": [
  {
   "cell_type": "code",
   "execution_count": 86,
   "metadata": {
    "init_cell": true
   },
   "outputs": [],
   "source": [
    "%matplotlib inline\n",
    "from matplotlib import pylab as plt\n",
    "\n",
    "import os, sys\n",
    "from ase.io import read\n",
    "sys.path.insert(0,\"../build/\")\n",
    "\n",
    "import sys\n",
    "import time, timeit\n",
    "import rascal\n",
    "import json\n",
    "\n",
    "import ase\n",
    "from ase.io import read, write\n",
    "from ase.build import make_supercell\n",
    "from ase.visualize import view\n",
    "import numpy as np\n",
    "import sys\n",
    "\n",
    "import json\n",
    "\n",
    "from rascal.representations import SphericalInvariants, SphericalInvariantsKspace\n",
    "from rascal.representations import SphericalExpansion, SphericalExpansionKspace\n",
    "from rascal.models import Kernel, train_gap_model\n",
    "from rascal.models.sparse_points import SparsePoints\n",
    "#from rascal.models.IP_ase_interface import ASEMLCalculator\n",
    "from rascal.neighbourlist import AtomsList\n",
    "from rascal.utils import from_dict, to_dict, CURFilter, dump_obj, load_obj, get_score, print_score, FPSFilter"
   ]
  },
  {
   "cell_type": "code",
   "execution_count": 87,
   "metadata": {},
   "outputs": [
    {
     "data": {
      "text/plain": [
       "'/tmp/tmpygwliu9m'"
      ]
     },
     "execution_count": 87,
     "metadata": {},
     "output_type": "execute_result"
    }
   ],
   "source": [
    "import urllib.request\n",
    "# a collection of distorted ethanol molecules from the ANI-1 dataset \n",
    "# (see https://github.com/isayev/ANI1_dataset) with energies and forces computed using DFTB+ \n",
    "# (see https://www.dftbplus.org/)\n",
    "url = 'https://raw.githubusercontent.com/cosmo-epfl/librascal-example-data/833b4336a7daf471e16993158322b3ea807b9d3f/inputs/molecule_conformers_dftb.xyz'\n",
    "# Download the file from `url`, save it in a temporary directory and get the\n",
    "# path to it (e.g. '/tmp/tmpb48zma.txt') in the `structures_fn` variable:\n",
    "structures_fn, headers = urllib.request.urlretrieve(url)\n",
    "structures_fn"
   ]
  },
  {
   "cell_type": "markdown",
   "metadata": {},
   "source": [
    "# Utility functions"
   ]
  },
  {
   "cell_type": "code",
   "execution_count": 88,
   "metadata": {
    "init_cell": true
   },
   "outputs": [],
   "source": [
    "def extract_ref(frames,info_key='dft_formation_energy_per_atom_in_eV',array_key='zeros'):\n",
    "    y,f = [], []\n",
    "    for frame in frames:\n",
    "        y.append(frame.info[info_key])\n",
    "        if array_key is None:\n",
    "            pass\n",
    "        elif array_key == 'zeros':\n",
    "            f.append(np.zeros(frame.get_positions().shape))\n",
    "        else:\n",
    "            f.append(frame.get_array(array_key))\n",
    "    y= np.array(y)\n",
    "    try:\n",
    "        f = np.concatenate(f)\n",
    "    except:\n",
    "        pass\n",
    "    return y,f\n"
   ]
  },
  {
   "cell_type": "markdown",
   "metadata": {},
   "source": [
    "# Build a Force Field"
   ]
  },
  {
   "cell_type": "code",
   "execution_count": 89,
   "metadata": {
    "code_folding": []
   },
   "outputs": [],
   "source": [
    "# Total number of structure to load\n",
    "#N = \n",
    "# Number of structure to train the model with\n",
    "#structures_fn = 'water_monomers_1k_with_gradients.xyz'\n",
    "\n",
    "\n",
    "# Isolated atom contributions\n",
    "\n",
    "\n",
    "use_structures = 'ethanol'\n",
    "#use_structures = 'NO_molecules'\n",
    "\n",
    "if use_structures == 'ethanol':\n",
    "    N = 100\n",
    "    frames = read(structures_fn,':{}'.format(N))\n",
    "    \n",
    "    energy_key = 'dftb_energy_eV'\n",
    "    forces_key = 'dftb_forces_eV_per_Ang'\n",
    "    self_contributions = {\n",
    "        1: -6.492647589968434,\n",
    "        6: -38.054950840332474,\n",
    "        8: -83.97955098636527,\n",
    "    }\n",
    "elif use_structures == 'NO_molecules':\n",
    "    frames = read('mlip_trainingset_ON_10angs.xyz', ':')\n",
    "    N = len(frames)\n",
    "    \n",
    "    energy_key = 'energy'\n",
    "    forces_key = 'forces'\n",
    "    self_contributions = {7: 0., 8:0.}\n",
    "\n",
    "\n",
    "# load the structures\n",
    "frames = read(structures_fn,':{}'.format(N))\n",
    "f = int(0.8*N)\n",
    "\n",
    "global_species = []\n",
    "for frame in frames:\n",
    "    global_species.extend(frame.get_atomic_numbers())\n",
    "global_species = np.unique(global_species)\n",
    "\n",
    "# split the structures in 2 sets\n",
    "ids = list(range(N))\n",
    "np.random.seed(10)\n",
    "np.random.shuffle(ids)\n",
    "\n",
    "train_ids = ids[:f]\n",
    "test_ids = ids[f:]\n",
    "\n",
    "frames_train = [frames[ii] for ii in ids[:f]]\n",
    "frames_test = [frames[ii] for ii in ids[f:]]"
   ]
  },
  {
   "cell_type": "code",
   "execution_count": 90,
   "metadata": {},
   "outputs": [
    {
     "data": {
      "text/plain": [
       "Atoms(symbols='OC3H6', pbc=False, cell=[6.0, 6.0, 6.0], dftb_forces_eV_per_Ang=..., forces=..., calculator=SinglePointCalculator(...))"
      ]
     },
     "execution_count": 90,
     "metadata": {},
     "output_type": "execute_result"
    }
   ],
   "source": [
    "frames[0]"
   ]
  },
  {
   "cell_type": "code",
   "execution_count": 76,
   "metadata": {},
   "outputs": [],
   "source": [
    "# split the dataset in a train and a test set\n",
    "#y_train, f_train = extract_ref(frames_train,'dftb_energy_eV','dftb_forces_eV_per_Ang')\n",
    "#y_test, f_test = extract_ref(frames_test,'dftb_energy_eV','dftb_forces_eV_per_Ang')\n",
    "\n",
    "y_train, f_train = extract_ref(frames_train, energy_key, forces_key)\n",
    "y_test, f_test = extract_ref(frames_test, energy_key, forces_key)\n"
   ]
  },
  {
   "cell_type": "code",
   "execution_count": 77,
   "metadata": {},
   "outputs": [],
   "source": [
    "# Define the parameters of the spherical expansion\n",
    "# Note that we choose a very large smearing parameter gaussian_sigma_constant = 1.5\n",
    "# This is because the computational cost of the main loop of LODE scales cubically with 1/sigma.\n",
    "# Thus, it would be recommended to stay in the range sigma >= 1.0.\n",
    "# For the current value, the runtimes of both the real and reciprocal space versions should be similar.\n",
    "hypers = {'interaction_cutoff': 4.0,\n",
    "          'cutoff_smooth_width': 0.0, # does not affect LODE but is needed for SOAP\n",
    "          'max_radial': 6,\n",
    "          'max_angular': 4,\n",
    "          'gaussian_sigma_type': \"Constant\",\n",
    "          'gaussian_sigma_constant': 1.5, # this is quite a large value! See description above\n",
    "          'compute_gradients': True,\n",
    "         }"
   ]
  },
  {
   "cell_type": "code",
   "execution_count": 78,
   "metadata": {},
   "outputs": [
    {
     "name": "stdout",
     "output_type": "stream",
     "text": [
      "Duration of real space version = 0.19215778727084398s\n"
     ]
    }
   ],
   "source": [
    "# Compute SOAP features and measure time\n",
    "start = timeit.default_timer()\n",
    "\n",
    "calculator_SOAP = SphericalInvariants(**hypers)\n",
    "managers_SOAP = calculator_SOAP.transform(frames)\n",
    "\n",
    "stop = timeit.default_timer()\n",
    "print(f'Duration of real space version = {stop - start}s')"
   ]
  },
  {
   "cell_type": "code",
   "execution_count": 79,
   "metadata": {},
   "outputs": [
    {
     "name": "stdout",
     "output_type": "stream",
     "text": [
      "Duration of k-space version = 4.516579265706241s\n"
     ]
    }
   ],
   "source": [
    "# Compute LODE features and measure time\n",
    "start = timeit.default_timer()\n",
    "\n",
    "calculator_LODE = SphericalInvariantsKspace(**hypers)\n",
    "managers_LODE = calculator_LODE.transform(frames)\n",
    "\n",
    "stop = timeit.default_timer()\n",
    "print(f'Duration of k-space version = {stop - start}s')"
   ]
  },
  {
   "cell_type": "code",
   "execution_count": 80,
   "metadata": {},
   "outputs": [
    {
     "name": "stdout",
     "output_type": "stream",
     "text": [
      "Duration of real space version = 0.21696776058524847s\n"
     ]
    }
   ],
   "source": [
    "# Compute real space spherical expansion coefficients\n",
    "start = timeit.default_timer()\n",
    "\n",
    "calculator_SEXP = SphericalExpansion(**hypers)\n",
    "managers_SEXP = calculator_SEXP.transform(frames)\n",
    "\n",
    "stop = timeit.default_timer()\n",
    "print(f'Duration of real space version = {stop - start}s')"
   ]
  },
  {
   "cell_type": "code",
   "execution_count": 81,
   "metadata": {},
   "outputs": [
    {
     "name": "stdout",
     "output_type": "stream",
     "text": [
      "Duration of k-space version = 4.541865400969982s\n"
     ]
    }
   ],
   "source": [
    "# Compute reciprocal space expansion coefficients\n",
    "start = timeit.default_timer()\n",
    "\n",
    "calculator_KEXP = SphericalExpansionKspace(**hypers)\n",
    "managers_KEXP = calculator_KEXP.transform(frames)\n",
    "\n",
    "stop = timeit.default_timer()\n",
    "print(f'Duration of k-space version = {stop - start}s')"
   ]
  },
  {
   "cell_type": "code",
   "execution_count": 61,
   "metadata": {},
   "outputs": [],
   "source": [
    "# Choose the manager and calculator you want to use for the rest of this notebook\n",
    "managers = managers_LODE\n",
    "calculator = calculator_LODE\n",
    "\n",
    "#managers = managers_SOAP\n",
    "#calculator = calculator_SOAP"
   ]
  },
  {
   "cell_type": "code",
   "execution_count": 82,
   "metadata": {},
   "outputs": [],
   "source": [
    "features_LODE = managers_LODE.get_features(calculator_LODE)\n",
    "features_SOAP = managers_SOAP.get_features(calculator_SOAP)"
   ]
  },
  {
   "cell_type": "code",
   "execution_count": 84,
   "metadata": {},
   "outputs": [
    {
     "data": {
      "text/plain": [
       "0.012543581870530687"
      ]
     },
     "execution_count": 84,
     "metadata": {},
     "output_type": "execute_result"
    }
   ],
   "source": [
    "# Compare the features obtained from both methods:\n",
    "assert (features_LODE.shape == features_SOAP.shape)\n",
    "np.mean(np.abs(features_LODE - features_SOAP))"
   ]
  },
  {
   "cell_type": "code",
   "execution_count": 38,
   "metadata": {
    "code_folding": []
   },
   "outputs": [],
   "source": [
    "# select the sparse points for the sparse kernel method with CUR on the whole training set\n",
    "num_pseudo_per_element = min(50, N//2)\n",
    "n_pseudo = {}\n",
    "for species in global_species:\n",
    "    n_pseudo[species] = num_pseudo_per_element\n",
    "#n_pseudo = {1:50, 6:50, 8:50}\n",
    "compressor = CURFilter(calculator, n_pseudo, act_on='sample per species')\n",
    "X_pseudo = compressor.select_and_filter(managers)"
   ]
  },
  {
   "cell_type": "code",
   "execution_count": 39,
   "metadata": {},
   "outputs": [],
   "source": [
    "# set up the sparse kernel and compute the representation for the train set\n",
    "zeta = 2\n",
    "kernel = Kernel(calculator, name='GAP', zeta=zeta, target_type='Structure', kernel_type='Sparse')\n",
    "\n",
    "managers_train = managers.get_subset(train_ids)"
   ]
  },
  {
   "cell_type": "code",
   "execution_count": 40,
   "metadata": {},
   "outputs": [],
   "source": [
    "# build the KNM matrix for training with forces and energies (see train_gap_model for more details)\n",
    "KNM = kernel(managers_train, X_pseudo)\n",
    "KNM_down = kernel(managers_train, X_pseudo, grad=(True, False))\n",
    "KNM = np.vstack([KNM, KNM_down])\n",
    "del KNM_down\n",
    "KNM_down = []"
   ]
  },
  {
   "cell_type": "code",
   "execution_count": 41,
   "metadata": {},
   "outputs": [
    {
     "ename": "AttributeError",
     "evalue": "'rascal.lib._rascal.neighbour_list.Adaptor.CenterCo' object has no attribute 'get_atomic_numbers'",
     "output_type": "error",
     "traceback": [
      "\u001b[0;31m---------------------------------------------------------------------------\u001b[0m",
      "\u001b[0;31mAttributeError\u001b[0m                            Traceback (most recent call last)",
      "\u001b[0;32m<ipython-input-41-f847be88b2bb>\u001b[0m in \u001b[0;36m<module>\u001b[0;34m\u001b[0m\n\u001b[1;32m      1\u001b[0m \u001b[0;31m# train a GAP model\u001b[0m\u001b[0;34m\u001b[0m\u001b[0;34m\u001b[0m\u001b[0;34m\u001b[0m\u001b[0m\n\u001b[0;32m----> 2\u001b[0;31m model = train_gap_model(kernel, managers_train, KNM, X_pseudo, y_train, self_contributions, \n\u001b[0m\u001b[1;32m      3\u001b[0m                         grad_train=-f_train, lambdas=[1e-12, 1e-8], jitter=1e-13)\n",
      "\u001b[0;32m/ssd/scratch/khugueni/librascal/build/rascal/models/krr.py\u001b[0m in \u001b[0;36mtrain_gap_model\u001b[0;34m(kernel, frames, KNM_, X_sparse, y_train, self_contributions, grad_train, lambdas, jitter)\u001b[0m\n\u001b[1;32m    448\u001b[0m     \u001b[0;32mfor\u001b[0m \u001b[0miframe\u001b[0m\u001b[0;34m,\u001b[0m \u001b[0mframe\u001b[0m \u001b[0;32min\u001b[0m \u001b[0menumerate\u001b[0m\u001b[0;34m(\u001b[0m\u001b[0mframes\u001b[0m\u001b[0;34m)\u001b[0m\u001b[0;34m:\u001b[0m\u001b[0;34m\u001b[0m\u001b[0;34m\u001b[0m\u001b[0m\n\u001b[1;32m    449\u001b[0m         \u001b[0mNatoms\u001b[0m\u001b[0;34m[\u001b[0m\u001b[0miframe\u001b[0m\u001b[0;34m]\u001b[0m \u001b[0;34m=\u001b[0m \u001b[0mlen\u001b[0m\u001b[0;34m(\u001b[0m\u001b[0mframe\u001b[0m\u001b[0;34m)\u001b[0m\u001b[0;34m\u001b[0m\u001b[0;34m\u001b[0m\u001b[0m\n\u001b[0;32m--> 450\u001b[0;31m         \u001b[0;32mfor\u001b[0m \u001b[0msp\u001b[0m \u001b[0;32min\u001b[0m \u001b[0mframe\u001b[0m\u001b[0;34m.\u001b[0m\u001b[0mget_atomic_numbers\u001b[0m\u001b[0;34m(\u001b[0m\u001b[0;34m)\u001b[0m\u001b[0;34m:\u001b[0m\u001b[0;34m\u001b[0m\u001b[0;34m\u001b[0m\u001b[0m\n\u001b[0m\u001b[1;32m    451\u001b[0m             \u001b[0mY0\u001b[0m\u001b[0;34m[\u001b[0m\u001b[0miframe\u001b[0m\u001b[0;34m]\u001b[0m \u001b[0;34m+=\u001b[0m \u001b[0mself_contributions\u001b[0m\u001b[0;34m[\u001b[0m\u001b[0msp\u001b[0m\u001b[0;34m]\u001b[0m\u001b[0;34m\u001b[0m\u001b[0;34m\u001b[0m\u001b[0m\n\u001b[1;32m    452\u001b[0m     \u001b[0mY\u001b[0m \u001b[0;34m=\u001b[0m \u001b[0mY\u001b[0m \u001b[0;34m-\u001b[0m \u001b[0mY0\u001b[0m\u001b[0;34m\u001b[0m\u001b[0;34m\u001b[0m\u001b[0m\n",
      "\u001b[0;31mAttributeError\u001b[0m: 'rascal.lib._rascal.neighbour_list.Adaptor.CenterCo' object has no attribute 'get_atomic_numbers'"
     ]
    }
   ],
   "source": [
    "# train a GAP model \n",
    "model = train_gap_model(kernel, managers_train, KNM, X_pseudo, y_train, self_contributions, \n",
    "                        grad_train=-f_train, lambdas=[1e-12, 1e-8], jitter=1e-13)"
   ]
  },
  {
   "cell_type": "code",
   "execution_count": null,
   "metadata": {},
   "outputs": [],
   "source": [
    "# make predictions on the training and test sets\n",
    "managers_test = managers.get_subset(test_ids)\n",
    "\n",
    "y_pred_train = model.predict(managers_train)\n",
    "f_pred_train = model.predict_forces(managers_train)\n",
    "\n",
    "y_pred_test = model.predict(managers_test)\n",
    "f_pred_test = model.predict_forces(managers_test)"
   ]
  },
  {
   "cell_type": "code",
   "execution_count": null,
   "metadata": {},
   "outputs": [],
   "source": [
    "# basic assessement of the quality of the trained model\n",
    "print_score(y_pred_test, y_test)\n",
    "print_score(f_pred_test.flatten(), f_test.flatten())\n",
    "plt.plot(y_test, y_pred_test, 'o')\n",
    "plt.title(\"correlation plot\")\n",
    "plt.xlabel(\"predicted energies [eV]\")\n",
    "plt.ylabel(\"reference energies [eV]\")"
   ]
  },
  {
   "cell_type": "code",
   "execution_count": null,
   "metadata": {},
   "outputs": [],
   "source": [
    "# More detailed plots of target vs predicted quantities for both the training and test sets\n",
    "fig, ax = plt.subplots(figsize=(10,6), ncols = 2, nrows = 2, sharex='row', sharey='row')\n",
    "ax[0,0].scatter(y_train, y_pred_train)\n",
    "ax[1,0].scatter(f_train.flatten(), f_pred_train.flatten())\n",
    "ax[0,1].scatter(y_test, y_pred_test)\n",
    "ax[1,1].scatter(f_test.flatten(), f_pred_test.flatten())\n",
    "ax[0,0].set_title('Training set')\n",
    "ax[0,1].set_title('Test set')\n",
    "ax[0,0].set_ylabel('Energies eV')\n",
    "ax[1,0].set_ylabel('Forces eV/A')"
   ]
  },
  {
   "cell_type": "code",
   "execution_count": null,
   "metadata": {},
   "outputs": [],
   "source": [
    "# save the model to a file in json format for future use\n",
    "dump_obj('/tmp/mymodel.json', model)"
   ]
  },
  {
   "cell_type": "markdown",
   "metadata": {},
   "source": [
    "# Test the model on dimer configurations"
   ]
  },
  {
   "cell_type": "code",
   "execution_count": null,
   "metadata": {},
   "outputs": [],
   "source": [
    "# you can load the previously trained model\n",
    "model = load_obj('/tmp/mymodel.json')"
   ]
  },
  {
   "cell_type": "code",
   "execution_count": null,
   "metadata": {},
   "outputs": [],
   "source": [
    "#creating atoms pairs, H is 1, C is 6 and O is 8, the first atom is the origin one\n",
    "pairs = [[1,1],[6,6],[8,8],[6,1],[8,1],[6,8]]\n",
    "ndists = 40 #number of distances to look at\n",
    "dists = np.linspace(0.1,4.9,ndists) #distance list, can be changed \n",
    "print('Number of configurations: ', len(pairs)*len(dists))"
   ]
  },
  {
   "cell_type": "code",
   "execution_count": null,
   "metadata": {},
   "outputs": [],
   "source": [
    "frames = []\n",
    "for p in pairs:\n",
    "    for d in dists:\n",
    "        #using ase we can create the cell and place the atoms\n",
    "        atoms = ase.Atoms(numbers=p,pbc=True,cell=np.eye(3)*10,positions=[[0,0,0],[d,0,0]])\n",
    "        frames.append(atoms)\n",
    "X = calculator.transform(frames)\n",
    "e_pairs = model.predict(X)\n",
    "e_pairs -= e_pairs.mean()"
   ]
  },
  {
   "cell_type": "code",
   "execution_count": null,
   "metadata": {},
   "outputs": [],
   "source": [
    "for pair_to_plot in pairs:\n",
    "    i = pairs.index(pair_to_plot)\n",
    "\n",
    "    fig, ax = plt.subplots()\n",
    "    ax.plot(dists,e_pairs[i*ndists:(i+1)*ndists],'--xb',linewidth=1)\n",
    "    # ax.plot(dists,f_pairs[i*ndists:(i+1)*ndists],'--xr',linewidth=1)\n",
    "    ax.set_xlabel('Distance (A)')\n",
    "    ax.set_ylabel('Predicted energy (eV)')\n",
    "    ax.set_title('Bond energy between {} and {}'.format(*pair_to_plot))\n",
    "    plt.tight_layout()\n",
    "    plt.show()"
   ]
  }
 ],
 "metadata": {
  "celltoolbar": "Initialization Cell",
  "kernelspec": {
   "display_name": "Python 3",
   "language": "python",
   "name": "python3"
  },
  "language_info": {
   "codemirror_mode": {
    "name": "ipython",
    "version": 3
   },
   "file_extension": ".py",
   "mimetype": "text/x-python",
   "name": "python",
   "nbconvert_exporter": "python",
   "pygments_lexer": "ipython3",
   "version": "3.8.5"
  },
  "latex_envs": {
   "LaTeX_envs_menu_present": true,
   "autoclose": false,
   "autocomplete": true,
   "bibliofile": "biblio.bib",
   "cite_by": "apalike",
   "current_citInitial": 1,
   "eqLabelWithNumbers": true,
   "eqNumInitial": 1,
   "hotkeys": {
    "equation": "Ctrl-E",
    "itemize": "Ctrl-I"
   },
   "labels_anchors": false,
   "latex_user_defs": false,
   "report_style_numbering": false,
   "user_envs_cfg": false
  },
  "toc": {
   "base_numbering": 1,
   "nav_menu": {
    "height": "12px",
    "width": "252px"
   },
   "number_sections": true,
   "sideBar": true,
   "skip_h1_title": false,
   "title_cell": "Table of Contents",
   "title_sidebar": "Contents",
   "toc_cell": false,
   "toc_position": {},
   "toc_section_display": "block",
   "toc_window_display": false
  }
 },
 "nbformat": 4,
 "nbformat_minor": 2
}
