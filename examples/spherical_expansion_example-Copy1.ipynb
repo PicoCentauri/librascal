{
 "cells": [
  {
   "cell_type": "markdown",
   "metadata": {},
   "source": [
    "# SOAP example"
   ]
  },
  {
   "cell_type": "markdown",
   "metadata": {},
   "source": [
    "To install rascal:\n",
    "(NOTE: See the top-level README for the most up-to-date installation instructions.)\n",
    "+ mkdir ../build \n",
    "+ cd build\n",
    "+ cmake -DCMAKE_BUILD_TYPE=Release -DBUILD_TESTS=ON ..\n",
    "+ make -j 4\n",
    "+ make install"
   ]
  },
  {
   "cell_type": "markdown",
   "metadata": {},
   "source": [
    "TODO: Compare against an existing SOAP implementation in Python (e.g. quippy)"
   ]
  },
  {
   "cell_type": "code",
   "execution_count": 1,
   "metadata": {
    "init_cell": true,
    "scrolled": true
   },
   "outputs": [
    {
     "name": "stdout",
     "output_type": "stream",
     "text": [
      "env: OMP_NUM_THREADS=1\n"
     ]
    }
   ],
   "source": [
    "%env OMP_NUM_THREADS=1"
   ]
  },
  {
   "cell_type": "code",
   "execution_count": 2,
   "metadata": {
    "init_cell": true
   },
   "outputs": [],
   "source": [
    "%matplotlib inline\n",
    "from matplotlib import pyplot as plt"
   ]
  },
  {
   "cell_type": "code",
   "execution_count": 3,
   "metadata": {
    "init_cell": true
   },
   "outputs": [],
   "source": [
    "import os, sys\n",
    "from ase.io import read\n",
    "sys.path.insert(0,\"../build/\")"
   ]
  },
  {
   "cell_type": "code",
   "execution_count": 4,
   "metadata": {
    "init_cell": true
   },
   "outputs": [],
   "source": [
    "import rascal\n",
    "import json"
   ]
  },
  {
   "cell_type": "code",
   "execution_count": null,
   "metadata": {
    "init_cell": true
   },
   "outputs": [],
   "source": [
    "import ase\n",
    "#from ase.io import read\n",
    "from ase.build import make_supercell\n",
    "from ase.visualize import view\n",
    "import numpy as np\n",
    "import sys"
   ]
  },
  {
   "cell_type": "code",
   "execution_count": null,
   "metadata": {
    "init_cell": true
   },
   "outputs": [],
   "source": [
    "from multiprocessing.dummy import Pool as ThreadPool\n",
    "import queue\n",
    "from copy import deepcopy,copy"
   ]
  },
  {
   "cell_type": "code",
   "execution_count": null,
   "metadata": {
    "init_cell": true
   },
   "outputs": [],
   "source": [
    "import json\n",
    "\n",
    "# from rascal.neighbourlist import get_neighbourlist\n",
    "# from rascal.lib import RepresentationManager, FeatureManager\n",
    "# from rascal.representation.base import RepresentationFactory\n",
    "from rascal.representation import SphericalExpansion\n",
    "# from rascal.neighbourlist.base import NeighbourListFactory\n"
   ]
  },
  {
   "cell_type": "code",
   "execution_count": null,
   "metadata": {
    "code_folding": [
     0
    ],
    "init_cell": true
   },
   "outputs": [],
   "source": [
    "def setup_neighbourlist(options):\n",
    "    names = []\n",
    "    args = []\n",
    "    full_name = []\n",
    "    for opt in options:\n",
    "        full_name.insert(0, opt['name'])\n",
    "        name = '_'.join(full_name)\n",
    "        names.append(name)\n",
    "        args.append(opt['args'])\n",
    "\n",
    "    managers = [NeighbourListFactory(names[0], *args[0])]\n",
    "    for name, arg in zip(names[1:], args[1:]):\n",
    "        manager = NeighbourListFactory(name, managers[-1], *arg)\n",
    "        managers.append(manager)\n",
    "    manager = managers[-1]\n",
    "    return managers[-1]"
   ]
  },
  {
   "cell_type": "code",
   "execution_count": null,
   "metadata": {
    "code_folding": [
     0,
     1,
     26,
     36,
     85
    ],
    "init_cell": true
   },
   "outputs": [],
   "source": [
    "class SphericalExpansion_test(object):\n",
    "    def __init__(self, interaction_cutoff, cutoff_smooth_width,\n",
    "                 max_radial, max_angular, gaussian_sigma_type,\n",
    "                 gaussian_sigma_constant=0., n_species=1,n_thread=5):\n",
    "        \n",
    "        self.name = 'sphericalexpansion'\n",
    "        self.hypers = dict()\n",
    "        self.update_hyperparameters(\n",
    "            interaction_cutoff=interaction_cutoff,\n",
    "            cutoff_smooth_width=cutoff_smooth_width,\n",
    "            max_radial=max_radial, max_angular=max_angular,\n",
    "            gaussian_sigma_type=gaussian_sigma_type,\n",
    "            gaussian_sigma_constant=gaussian_sigma_constant,\n",
    "            n_species=n_species)\n",
    "\n",
    "        self.nl_options = [\n",
    "            dict(name='centers', args=[]),\n",
    "            dict(name='neighbourlist', args=[interaction_cutoff]),\n",
    "            dict(name='strict', args=[interaction_cutoff])\n",
    "        ]\n",
    "\n",
    "        neighbourlist_full_name = get_neighbourlist_full_name(self.nl_options)\n",
    "        self.name = self.name + '_' + neighbourlist_full_name\n",
    "        \n",
    "        self.n_thread = n_thread\n",
    "        \n",
    "    def update_hyperparameters(self, **hypers):\n",
    "        \n",
    "        allowed_keys = {'interaction_cutoff', 'cutoff_smooth_width',\n",
    "                        'max_radial', 'max_angular', 'gaussian_sigma_type',\n",
    "                        'gaussian_sigma_constant', 'n_species'}\n",
    "        hypers_clean = {key: hypers[key] for key in hypers\n",
    "                        if key in allowed_keys}\n",
    "        self.hypers.update(hypers_clean)\n",
    "        \n",
    "\n",
    "    def transform(self, frames):\n",
    "        from copy import deepcopy\n",
    "        \n",
    "        \n",
    "        n_frames = len(frames)\n",
    "        # managers = nl_pool.starmap(get_neighbourlist,[(frame,self.nl_options) for frame in frames])\n",
    "        # nl_pool.close()\n",
    "        # nl_pool.join()\n",
    "        # managers = list(map(get_neighbourlist, frames,\n",
    "        #                     [self.nl_options]*n_frames))\n",
    "        hypers_str = json.dumps(self.hypers)\n",
    "        n_features = self.get_num_coefficients()\n",
    "        # features = FeatureManager.Dense_double(n_features, hypers_str)\n",
    "        features = []\n",
    "        global managers, representations\n",
    "        managers = [setup_neighbourlist(self.nl_options) for _ in range(self.n_thread)]\n",
    "        representations = [RepresentationFactory(self.name,manager,hypers_str) for manager in managers]\n",
    "        \n",
    "\n",
    "        \n",
    "        q = queue.Queue()\n",
    "        pool = ThreadPool(self.n_thread)\n",
    "        for ii in range(self.n_thread):\n",
    "            q.put(ii)\n",
    "            \n",
    "        structures = [(unpack_ase(frame),q,n_features, hypers_str) for frame in frames]\n",
    "        cms = pool.starmap(compute_wrapper,structures)\n",
    "        for cm in cms:\n",
    "            features.append(cm)\n",
    "        \n",
    "        features = np.concatenate(features,axis=0)\n",
    "        \n",
    "        pool.close()\n",
    "        pool.join()\n",
    "        # cms = map(RepresentationFactory, [self.name]*n_frames,\n",
    "        #           managers, [hypers_str, ] * n_frames)\n",
    "        \n",
    "        return features\n",
    "\n",
    "    def get_num_coefficients(self):\n",
    "        \"\"\"Return the number of coefficients in the spherical expansion\n",
    "\n",
    "        (this is the descriptor size per atomic centre)\n",
    "\n",
    "        \"\"\"\n",
    "        return (self.hypers['n_species'] * self.hypers['max_radial']\n",
    "                * (self.hypers['max_angular'] + 1)**2)\n",
    "\n",
    "\n",
    "def compute_wrapper(structure, q,n_features, hypers_str ):\n",
    "    # print('Id:{} starts'.format(os.getgid()))\n",
    "    idx = q.get()\n",
    "    features = FeatureManager.Dense_double(n_features, hypers_str)\n",
    "    managers[idx].update(**structure)\n",
    "    representations[idx].compute()\n",
    "    features.append(representations[idx])\n",
    "    q.put(idx)\n",
    "    # print('Id:{} ends'.format(os.getgid()))\n",
    "    return features.get_feature_matrix().T\n"
   ]
  },
  {
   "cell_type": "code",
   "execution_count": null,
   "metadata": {
    "init_cell": true
   },
   "outputs": [
    {
     "name": "stdout",
     "output_type": "stream",
     "text": [
      "21\n"
     ]
    }
   ],
   "source": [
    "frames = ase.io.read('../tests/reference_data/dft-smiles_500.xyz',index=':10')\n",
    "new_frames = []\n",
    "aa = []\n",
    "for frame in frames:\n",
    "    new_frames.append(make_supercell(frame,np.eye(3)*1))\n",
    "print(np.max(list(map(len,new_frames))))"
   ]
  },
  {
   "cell_type": "code",
   "execution_count": null,
   "metadata": {
    "init_cell": true
   },
   "outputs": [],
   "source": [
    "test_hypers = {\"interaction_cutoff\": 6.0, \"cutoff_smooth_width\": 1.0, \"max_radial\": 10, \"max_angular\": 10, \"gaussian_sigma_type\": \"Constant\", \"gaussian_sigma_constant\": 0.5}"
   ]
  },
  {
   "cell_type": "code",
   "execution_count": null,
   "metadata": {
    "init_cell": true
   },
   "outputs": [],
   "source": [
    "sph_expn = SphericalExpansion(**test_hypers)\n",
    "# sph_expn_test = SphericalExpansion_test(n_thread=5,**test_hypers)"
   ]
  },
  {
   "cell_type": "code",
   "execution_count": null,
   "metadata": {
    "init_cell": true
   },
   "outputs": [],
   "source": [
    "# X_test = sph_expn_test.transform(new_frames)\n",
    "expansions = sph_expn.transform(new_frames)\n",
    "X = expansions.get_feature_matrix().T\n",
    "# np.allclose(X,X_test)"
   ]
  },
  {
   "cell_type": "code",
   "execution_count": null,
   "metadata": {
    "init_cell": true
   },
   "outputs": [],
   "source": [
    "np.where(X > 1e12)"
   ]
  },
  {
   "cell_type": "code",
   "execution_count": 47,
   "metadata": {},
   "outputs": [
    {
     "data": {
      "text/plain": [
       "array([[6.98317171, 8.30586308, 7.12062128],\n",
       "       [6.93583192, 6.96431033, 7.0455309 ],\n",
       "       [5.87723484, 6.1931998 , 7.03875667],\n",
       "       [6.46803413, 4.97494009, 7.00081846],\n",
       "       [7.77060465, 4.92298065, 6.98009097],\n",
       "       [8.10112648, 6.2922714 , 7.01042973],\n",
       "       [5.68535004, 3.7303275 , 6.97814458],\n",
       "       [4.47376713, 3.85444197, 6.98233375],\n",
       "       [6.31750187, 2.68820005, 6.95641409],\n",
       "       [7.84655425, 8.77185729, 6.8970139 ],\n",
       "       [6.12347267, 8.80379422, 6.96024197]])"
      ]
     },
     "execution_count": 47,
     "metadata": {},
     "output_type": "execute_result"
    }
   ],
   "source": [
    "new_frames[0].get_positions()"
   ]
  },
  {
   "cell_type": "code",
   "execution_count": 26,
   "metadata": {},
   "outputs": [
    {
     "name": "stdout",
     "output_type": "stream",
     "text": [
      "2.51 s ± 0 ns per loop (mean ± std. dev. of 1 run, 2 loops each)\n"
     ]
    }
   ],
   "source": [
    "%timeit -n 2 -r 1 expansions = sph_expn_test.transform(new_frames)"
   ]
  },
  {
   "cell_type": "code",
   "execution_count": 27,
   "metadata": {},
   "outputs": [
    {
     "name": "stdout",
     "output_type": "stream",
     "text": [
      "9.11 s ± 0 ns per loop (mean ± std. dev. of 1 run, 2 loops each)\n"
     ]
    }
   ],
   "source": [
    "%timeit -n 2 -r 1 expansions = sph_expn.transform(new_frames)"
   ]
  },
  {
   "cell_type": "code",
   "execution_count": null,
   "metadata": {},
   "outputs": [],
   "source": [
    "%timeit -n 2 -r 1 expansions = sph_expn_test.transform(new_frames)"
   ]
  },
  {
   "cell_type": "code",
   "execution_count": 17,
   "metadata": {},
   "outputs": [
    {
     "data": {
      "text/plain": [
       "array([[ 1.45614444e-01,  8.34125492e-02,  8.34121180e-02,\n",
       "         8.34118823e-02,  8.34129731e-02],\n",
       "       [ 1.51520440e-01,  8.56712202e-02,  8.56707820e-02,\n",
       "         8.56705343e-02,  8.56716713e-02],\n",
       "       [ 1.15017638e-01,  6.47833515e-02,  6.47830269e-02,\n",
       "         6.47828393e-02,  6.47836962e-02],\n",
       "       ...,\n",
       "       [ 1.33473428e-09,  2.00386882e-08, -1.36507936e-02,\n",
       "        -9.58668851e-03,  2.32344582e-02],\n",
       "       [ 4.83086450e-10,  2.04702850e-08, -1.19357179e-02,\n",
       "        -8.38226947e-03,  2.03149496e-02],\n",
       "       [ 1.13720106e-10,  1.24756641e-08, -6.45847379e-03,\n",
       "        -4.53570756e-03,  1.09923510e-02]])"
      ]
     },
     "execution_count": 17,
     "metadata": {},
     "output_type": "execute_result"
    }
   ],
   "source": [
    "expansions.get_feature_matrix()"
   ]
  },
  {
   "cell_type": "markdown",
   "metadata": {},
   "source": [
    "Good, should be 5 centres (5 atoms) * 10 radial * 81 ${}=(l+1)^2$"
   ]
  },
  {
   "cell_type": "code",
   "execution_count": null,
   "metadata": {},
   "outputs": [],
   "source": [
    "# load a small subset of structures from QM9\n",
    "frames = read(p+'tests/reference_data/dft-smiles_500.xyz',':')\n",
    "cutoff = 3."
   ]
  },
  {
   "cell_type": "code",
   "execution_count": null,
   "metadata": {},
   "outputs": [],
   "source": [
    "# Compute the sorted coulomb matrices for the list of structures\n",
    "#%timeit -n 20 -r 5 features = rep.transform(frames)"
   ]
  },
  {
   "cell_type": "code",
   "execution_count": null,
   "metadata": {},
   "outputs": [],
   "source": [
    "# Compare with reference\n",
    "#%timeit -n 20 -r 5 ref = get_coulomb_refs(frames,rep.size,cutoff,flavour='row-norm')\n",
    "#np.allclose(test,ref)"
   ]
  }
 ],
 "metadata": {
  "celltoolbar": "Initialization Cell",
  "kernelspec": {
   "display_name": "py36",
   "language": "python",
   "name": "py36"
  },
  "language_info": {
   "codemirror_mode": {
    "name": "ipython",
    "version": 3
   },
   "file_extension": ".py",
   "mimetype": "text/x-python",
   "name": "python",
   "nbconvert_exporter": "python",
   "pygments_lexer": "ipython3",
   "version": "3.6.8"
  },
  "toc": {
   "base_numbering": 1,
   "nav_menu": {
    "height": "69.1667px",
    "width": "236.167px"
   },
   "number_sections": true,
   "sideBar": true,
   "skip_h1_title": false,
   "title_cell": "Table of Contents",
   "title_sidebar": "Contents",
   "toc_cell": false,
   "toc_position": {},
   "toc_section_display": "block",
   "toc_window_display": false
  }
 },
 "nbformat": 4,
 "nbformat_minor": 2
}
