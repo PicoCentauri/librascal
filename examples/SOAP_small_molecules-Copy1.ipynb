{
 "cells": [
  {
   "cell_type": "markdown",
   "metadata": {},
   "source": [
    "To install rascal:\n",
    "(NOTE: See the top-level README for the most up-to-date installation instructions.)\n",
    "+ mkdir ../build \n",
    "+ cd build\n",
    "+ cmake -DCMAKE_BUILD_TYPE=Release -DBUILD_TESTS=ON ..\n",
    "+ make -j 4\n",
    "+ make install"
   ]
  },
  {
   "cell_type": "code",
   "execution_count": null,
   "metadata": {},
   "outputs": [],
   "source": [
    "!export OMP_NUM_THREADS=1\n",
    "!export NUMBA_THREADING_LAYER=1\n",
    "from mkl import set_num_threads\n",
    "set_num_threads(1)"
   ]
  },
  {
   "cell_type": "code",
   "execution_count": null,
   "metadata": {},
   "outputs": [],
   "source": [
    "import sys, site\n",
    "from difflib import ndiff\n",
    "from distutils.sysconfig import get_python_lib\n",
    "print(sys.prefix,site.USER_SITE,get_python_lib())"
   ]
  },
  {
   "cell_type": "code",
   "execution_count": null,
   "metadata": {},
   "outputs": [],
   "source": [
    " get_python_lib().replace(sys.prefix+'/', '')"
   ]
  },
  {
   "cell_type": "code",
   "execution_count": null,
   "metadata": {},
   "outputs": [],
   "source": [
    "!rm -r /home/felix/miniconda2/envs/py36/rascal"
   ]
  },
  {
   "cell_type": "code",
   "execution_count": null,
   "metadata": {},
   "outputs": [],
   "source": [
    "!ls /home/felix/miniconda2/envs/py36/lib/libras*"
   ]
  },
  {
   "cell_type": "code",
   "execution_count": null,
   "metadata": {},
   "outputs": [],
   "source": [
    "!ls /home/felix/miniconda2/envs/py36/lib/python3.6/site-packages/rascal/lib/../../../../../lib/libras*"
   ]
  },
  {
   "cell_type": "code",
   "execution_count": null,
   "metadata": {},
   "outputs": [],
   "source": [
    "!ls /home/felix/miniconda2/envs/py36/lib/python3.6/site-packages/rascal-0.3.5-py3.6-linux-x86_64.egg/lib/python3.6/site-packages/"
   ]
  },
  {
   "cell_type": "code",
   "execution_count": null,
   "metadata": {},
   "outputs": [],
   "source": [
    "!ls /home/felix/miniconda2/envs/py36/lib/librascal.so"
   ]
  },
  {
   "cell_type": "code",
   "execution_count": null,
   "metadata": {},
   "outputs": [],
   "source": [
    "lines = !objdump -x /home/felix/miniconda2/envs/py36/lib/librascal.so \n",
    "for line in lines:\n",
    "    if 'RPATH' in line:\n",
    "        print(line)"
   ]
  },
  {
   "cell_type": "code",
   "execution_count": null,
   "metadata": {},
   "outputs": [],
   "source": []
  },
  {
   "cell_type": "code",
   "execution_count": null,
   "metadata": {},
   "outputs": [],
   "source": [
    "!ls /home/felix/git/librascal/_skbuild/linux-x86_64-3.6"
   ]
  },
  {
   "cell_type": "code",
   "execution_count": null,
   "metadata": {},
   "outputs": [],
   "source": [
    "lines = !objdump -x /home/felix/git/librascal/_skbuild/linux-x86_64-3.6/cmake-install/librascal.so\n",
    "for line in lines:\n",
    "    if 'RPATH' in line:\n",
    "        print(line)"
   ]
  },
  {
   "cell_type": "code",
   "execution_count": null,
   "metadata": {},
   "outputs": [],
   "source": [
    "!ls /home/felix/miniconda2/envs/py36/lib/python3.6/site-packages/rascal-0.3.5-py3.6-linux-x86_64.egg/lib/python3.6/site-packages/rascal/lib/_rascal.cpython-36m-x86_64-linux-gnu.so"
   ]
  },
  {
   "cell_type": "code",
   "execution_count": null,
   "metadata": {},
   "outputs": [],
   "source": [
    "lines = !objdump -x /home/felix/miniconda2/envs/py36/lib/python3.6/site-packages/rascal-0.3.5-py3.6-linux-x86_64.egg/lib/python3.6/site-packages/rascal/lib/_rascal.cpython-36m-x86_64-linux-gnu.so\n",
    "lines"
   ]
  },
  {
   "cell_type": "code",
   "execution_count": null,
   "metadata": {},
   "outputs": [],
   "source": [
    "%matplotlib inline\n",
    "from matplotlib import pylab as plt\n",
    "\n",
    "import os, sys\n",
    "from ase.io import read\n",
    "sys.path.insert(0,\"../build\")\n",
    "import sys\n",
    "import time\n",
    "import rascal\n",
    "import json\n",
    "\n",
    "import ase\n",
    "from ase.io import read, write\n",
    "from ase.build import make_supercell\n",
    "from ase.visualize import view\n",
    "import numpy as np\n",
    "import sys\n",
    "from copy import deepcopy\n",
    "import json\n",
    "\n",
    "from rascal.representations import SphericalInvariants as SOAP\n",
    "from rascal.models import Kernel\n",
    "# from rascal.utils import fps,FPSFilter"
   ]
  },
  {
   "cell_type": "code",
   "execution_count": null,
   "metadata": {},
   "outputs": [],
   "source": [
    "frames = read('../reference_data/inputs/small_molecules-1000.xyz',':100')"
   ]
  },
  {
   "cell_type": "markdown",
   "metadata": {},
   "source": [
    "# SOAP: Power spectrum"
   ]
  },
  {
   "cell_type": "code",
   "execution_count": null,
   "metadata": {},
   "outputs": [],
   "source": [
    "frames = read('../reference_data/inputs/diamond_2atom_distorted.json',':100')\n",
    "frames = read('../reference_data/inputs/CaCrP2O7_mvc-11955_symmetrized.json',':100')"
   ]
  },
  {
   "cell_type": "code",
   "execution_count": null,
   "metadata": {
    "code_folding": []
   },
   "outputs": [],
   "source": [
    "hypers = dict(soap_type=\"PowerSpectrum\",\n",
    "              interaction_cutoff=3.5, \n",
    "              max_radial=2, \n",
    "              max_angular=2, \n",
    "              gaussian_sigma_constant=0.4,\n",
    "              gaussian_sigma_type=\"Constant\",\n",
    "              cutoff_smooth_width=0.5,\n",
    "              normalize=False,\n",
    "              )\n",
    "soap = SOAP(**hypers)\n",
    "zeta=2\n",
    "kernel1 = Kernel(soap, zeta=zeta, target_type='Atom')"
   ]
  },
  {
   "cell_type": "code",
   "execution_count": null,
   "metadata": {},
   "outputs": [],
   "source": [
    "representation = soap.transform(frames[:10])\n",
    "X = representation.get_features(soap)\n",
    "X.shape"
   ]
  },
  {
   "cell_type": "code",
   "execution_count": null,
   "metadata": {
    "code_folding": [
     2,
     10,
     16
    ]
   },
   "outputs": [],
   "source": [
    "from itertools import product\n",
    "species = []\n",
    "for ii in range(len(representation)):\n",
    "    manager = representation[ii]\n",
    "    for center in manager:\n",
    "        sp = center.atom_type\n",
    "        species.append(sp)\n",
    "        \n",
    "u_species = np.unique(species)\n",
    "sp_pairs = []\n",
    "for sp1 in u_species:\n",
    "    for sp2 in u_species:\n",
    "        if sp1 <= sp2:\n",
    "            sp_pairs.append((sp1,sp2))\n",
    "feat_idx2coeff_idx = {}\n",
    "i_feat = 0\n",
    "for sp_pair,n1,n2,l in product(sp_pairs,range(soap.hypers['max_radial']),\n",
    "                       range(soap.hypers['max_radial']),range(soap.hypers['max_angular'])):\n",
    "    feat_idx2coeff_idx[i_feat] = dict(a=sp_pair[0],b=sp_pair[1],n1=n1,n2=n2,l=l)\n",
    "    i_feat += 1\n",
    "u_species, sp_pairs,feat_idx2coeff_idx"
   ]
  },
  {
   "cell_type": "code",
   "execution_count": null,
   "metadata": {
    "code_folding": [
     0
    ]
   },
   "outputs": [],
   "source": [
    "def get_power_spectrum_index_mapping(soap, managers):\n",
    "    n_max = soap.hypers['max_radial']\n",
    "    l_max = soap.hypers['max_angular']+1\n",
    "    species = []\n",
    "    for ii in range(len(managers)):\n",
    "        manager = managers[ii]\n",
    "        if isinstance(manager, ase.Atoms):\n",
    "            species.extend(manager.get_atomic_numbers())\n",
    "        else:\n",
    "            for center in manager:\n",
    "                sp = center.atom_type\n",
    "                species.append(sp)\n",
    "\n",
    "    u_species = np.unique(species)\n",
    "    sp_pairs = []\n",
    "    for sp1 in u_species:\n",
    "        for sp2 in u_species:\n",
    "            if sp1 <= sp2:\n",
    "                sp_pairs.append((sp1,sp2))\n",
    "    feat_idx2coeff_idx = {}  \n",
    "    i_feat = 0\n",
    "    for sp_pair in sp_pairs:\n",
    "        i_feat_sp = 0\n",
    "        for n1,n2,l in product(range(n_max), range(n_max), range(l_max)):\n",
    "            feat_idx2coeff_idx[i_feat] = dict(a=sp_pair[0],b=sp_pair[1],n1=n1,n2=n2,l=l, i_feat_sp=i_feat_sp)\n",
    "            i_feat += 1\n",
    "            i_feat_sp += 1\n",
    "        \n",
    "    return feat_idx2coeff_idx\n",
    "\n",
    "get_power_spectrum_index_mapping(soap, representation)"
   ]
  },
  {
   "cell_type": "code",
   "execution_count": null,
   "metadata": {
    "code_folding": [
     0,
     30,
     48,
     60,
     77,
     98,
     112,
     134
    ]
   },
   "outputs": [],
   "source": [
    "def get_index_mappings_sample_per_species(managers, sps):\n",
    "    # get various info from the structures about the center atom species and indexing\n",
    "    types = []\n",
    "    strides_by_sp = {sp: [0] for sp in sps}\n",
    "    global_counter = {sp: 0 for sp in sps}\n",
    "    indices_by_sp = {sp: [] for sp in sps}\n",
    "    map_by_manager = [{} for ii in range(len(managers))]\n",
    "    for i_man in range(len(managers)):\n",
    "        man = managers[i_man]\n",
    "        counter = {sp: 0 for sp in sps}\n",
    "        for i_at, at in enumerate(man):\n",
    "            types.append(at.atom_type)\n",
    "            if at.atom_type in sps:\n",
    "                map_by_manager[i_man][global_counter[at.atom_type]] = i_at\n",
    "                counter[at.atom_type] += 1\n",
    "                global_counter[at.atom_type] += 1\n",
    "            else:\n",
    "                raise ValueError('Atom type {} has not been specified in fselect: {}'.format(\n",
    "                    at.atom_type, self.Nselect))\n",
    "        for sp in sps:\n",
    "            strides_by_sp[sp].append(counter[sp])\n",
    "\n",
    "    for sp in sps:\n",
    "        strides_by_sp[sp] = np.cumsum(strides_by_sp[sp])\n",
    "\n",
    "    for ii, sp in enumerate(types):\n",
    "        indices_by_sp[sp].append(ii)\n",
    "\n",
    "    return strides_by_sp, global_counter, map_by_manager, indices_by_sp\n",
    "\n",
    "def get_index_mappings_sample(managers):\n",
    "    # get various info from the structures about the center atom species and indexing\n",
    "    strides = [0]\n",
    "    global_counter = 0\n",
    "    map_by_manager = [{} for ii in range(len(managers))]\n",
    "    for i_man in range(len(managers)):\n",
    "        man = managers[i_man]\n",
    "        counter = 0\n",
    "        for i_at, at in enumerate(man):\n",
    "            map_by_manager[i_man][global_counter] = i_at\n",
    "            counter += 1\n",
    "            global_counter += 1\n",
    "        strides.append(counter)\n",
    "\n",
    "    strides = np.cumsum(strides)\n",
    "\n",
    "    return strides, global_counter, map_by_manager\n",
    "\n",
    "def convert_selected_global_index2rascal_sample_per_species(managers, selected_ids_by_sp, strides_by_sp, map_by_manager, sps):\n",
    "    # convert selected center indexing into the rascal format\n",
    "    selected_ids = [[] for ii in range(len(managers))]\n",
    "    i_manager = {sp: 0 for sp in sps}\n",
    "    for sp in sps:\n",
    "        ids = convert_selected_global_index2rascal_sample(managers, selected_ids_by_sp[sp], strides_by_sp[sp], map_by_manager)\n",
    "        for ii,selected_idx in zip(ids, selected_ids):\n",
    "            selected_idx.extend(ii)\n",
    "    for ii in range(len(selected_ids)):\n",
    "        selected_ids[ii] = np.sort(selected_ids[ii]).tolist()\n",
    "    return selected_ids\n",
    "\n",
    "def convert_selected_global_index2rascal_sample(managers, selected_ids_global, strides, map_by_manager):\n",
    "    # convert selected center indexing into the rascal format\n",
    "    selected_ids = [[] for ii in range(len(managers))]\n",
    "    i_manager = 0\n",
    "    for idx in selected_ids_global:\n",
    "        carry_on = True\n",
    "        while carry_on:\n",
    "            if idx >= strides[i_manager] and idx < strides[i_manager + 1]:\n",
    "                selected_ids[i_manager].append(\n",
    "                    map_by_manager[i_manager[idx]])\n",
    "                carry_on = False\n",
    "            else:\n",
    "                i_manager += 1\n",
    "    for ii in range(len(selected_ids)):\n",
    "        selected_ids[ii] = np.sort(selected_ids[ii]).tolist()\n",
    "    return selected_ids\n",
    "\n",
    "class FPSFilter(object):\n",
    "    \"\"\"Farther Point Sampling (FPS) to select samples or features in a given feature matrix. \n",
    "    Wrapper around the fps function for convenience.\n",
    "    Parameters\n",
    "    ----------\n",
    "    representation : Calculator\n",
    "        Representation calculator associated with the kernel\n",
    "    Nselect: int\n",
    "        number of points to select. if act_on='sample per specie' then it should\n",
    "        be a dictionary mapping atom type to the number of samples, e.g.\n",
    "        Nselect = {1:200,6:100,8:50}.\n",
    "    act_on: string\n",
    "        Select how to apply the selection. Can be either of 'sample',\n",
    "        'sample per species','feature'.\n",
    "        \n",
    "    is_deterministic: bool\n",
    "        flag to switch between selction criteria\n",
    "    seed: int\n",
    "        if is_deterministic==False, seed for the random selection\n",
    "    \"\"\"\n",
    "\n",
    "    def __init__(self, representation, Nselect, act_on='sample per specie', starting_index=0):\n",
    "        super(FPSFilter, self).__init__()\n",
    "        self._representation = representation\n",
    "        self.Nselect = Nselect\n",
    "        self.starting_index = starting_index\n",
    "        if act_on in ['sample', 'sample per specie', 'feature']:\n",
    "            self.act_on = act_on\n",
    "        else:\n",
    "            raise 'Wrong input: {}'.format(act_on)\n",
    "    \n",
    "        self.selected_ids = None\n",
    "        self.fps_minmax_d2_by_sp = None\n",
    "        self.fps_minmax_d2 = None\n",
    "        \n",
    "    def fit(self, managers):\n",
    "        \"\"\"Perform CUR selection of samples/features.\n",
    "        Parameters\n",
    "        ----------\n",
    "        managers : AtomsList\n",
    "            list of structures containing features computed with representation\n",
    "        Returns\n",
    "        -------\n",
    "        SparsePoints\n",
    "            Selected samples\n",
    "        Raises\n",
    "        ------\n",
    "        ValueError\n",
    "            [description]\n",
    "        NotImplementedError\n",
    "            [description]\n",
    "        \"\"\"\n",
    "        \n",
    "        from rascal.utils import fps as do_fps\n",
    "        # get the dense feature matrix\n",
    "        X = managers.get_features(self._representation)\n",
    "        \n",
    "        if self.act_on in ['sample per specie']:\n",
    "            sps = list(self.Nselect.keys())\n",
    "\n",
    "            # get various info from the structures about the center atom species and indexing\n",
    "            (strides_by_sp, global_counter, map_by_manager,\n",
    "             indices_by_sp) = get_index_mappings_sample_per_species(managers, sps)\n",
    "\n",
    "            print('The number of pseudo points selected by central atom species is: {}'.format(\n",
    "                self.Nselect))\n",
    "\n",
    "            # organize features w.r.t. central atom type\n",
    "            X_by_sp = {}\n",
    "            for sp in sps:\n",
    "                X_by_sp[sp] = X[indices_by_sp[sp]]\n",
    "            self._XX = X_by_sp\n",
    "\n",
    "            # split the dense feature matrix by center species and apply CUR decomposition\n",
    "            self.selected_ids_by_sp = {}\n",
    "            self.fps_minmax_d2_by_sp = {}\n",
    "            self.fps_hausforff_d2_by_sp = {}\n",
    "            for sp in sps:\n",
    "                print('Selecting species: {}'.format(sp))\n",
    "                fps_out = do_fps(X_by_sp[sp], self.Nselect[sp], starting_index=self.starting_index)\n",
    "                self.selected_ids_by_sp[sp] = fps_out['fps_indices']\n",
    "                self.fps_minmax_d2_by_sp[sp] = fps_out['fps_minmax_d2']\n",
    "\n",
    "            return self\n",
    "        elif self.act_on in ['feature']:\n",
    "            fps_out = do_fps(X.T, self.Nselect, starting_index=self.starting_index)\n",
    "            self.selected_ids = fps_out['fps_indices']\n",
    "            self.fps_minmax_d2 = fps_out['fps_minmax_d2']\n",
    "        elif self.act_on in ['sample']:\n",
    "            fps_out = do_fps(X, self.Nselect, starting_index=self.starting_index)\n",
    "            self.selected_ids_global = fps_out['fps_indices']\n",
    "            self.fps_minmax_d2 = fps_out['fps_minmax_d2']\n",
    "        else:\n",
    "            raise NotImplementedError(\"method: {}\".format(self.act_on))\n",
    "            \n",
    "    def transform(self, managers):\n",
    "        if self.act_on in ['sample per specie']:\n",
    "            sps = list(self.Nselect.keys())\n",
    "            # get various info from the structures about the center atom species and indexing\n",
    "            (strides_by_sp, global_counter, map_by_manager,\n",
    "             indices_by_sp) = get_index_mappings_sample_per_species(managers, sps)\n",
    "            selected_ids_by_sp = {key:val[:self.Nselect[key]] for key,val in self.selected_ids_by_sp.items()}\n",
    "            self.selected_ids = convert_selected_global_index2rascal_sample_per_species(\n",
    "                managers, selected_ids_by_sp, strides_by_sp, map_by_manager, sps)\n",
    "            # build the pseudo points\n",
    "            sparse_points = SparsePoints(self._representation)\n",
    "            sparse_points.extend(managers, self.selected_ids)\n",
    "            return sparse_points\n",
    "        elif self.act_on in ['sample']:\n",
    "            selected_ids_global = self.selected_ids_global[:self.Nselect]\n",
    "            strides, _, map_by_manager = get_index_mappings_sample(managers)\n",
    "            self.selected_ids = convert_selected_global_index2rascal_sample(managers, \n",
    "                                                        selected_ids_global, strides, map_by_manager)\n",
    "            # build the pseudo points\n",
    "            sparse_points = SparsePoints(self._representation)\n",
    "            sparse_points.extend(managers, self.selected_ids)\n",
    "            return sparse_points\n",
    "                             \n",
    "        elif self.act_on in ['feature']:\n",
    "            feat_idx2coeff_idx = get_power_spectrum_index_mapping(self._representation, managers)\n",
    "            selected_features = {key:[] for key in feat_idx2coeff_idx[0].keys()}\n",
    "            for idx in self.selected_ids[:self.Nselect]:\n",
    "                coef_idx = feat_idx2coeff_idx[idx]\n",
    "                for key in selected_features.keys():\n",
    "                    selected_features[key].append(int(coef_idx[key]))\n",
    "            # keep the global indices for ease of use\n",
    "            selected_features['selected_features_global_ids'] = self.selected_ids[:self.Nselect].tolist()\n",
    "            return dict(coefficient_subselection=selected_features)\n",
    "            \n",
    "    def plot(self):\n",
    "        if self.fps_minmax_d2_by_sp is None:\n",
    "            plt.semilogy(self.fps_minmax_d2,label=self.act_on)\n",
    "            \n",
    "        else:\n",
    "            for sp in self.fps_minmax_d2_by_sp:\n",
    "                plt.semilogy(self.fps_minmax_d2_by_sp[sp],\n",
    "                            label='{} species {}'.format(self.act_on, sp))\n",
    "            plt.legend()\n",
    "        plt.title('FPSFilter')\n",
    "        plt.ylabel('fps minmax d^2')\n",
    "        \n",
    "    def fit_transform(self, managers):\n",
    "        return self.fit(managers).transform(managers)\n",
    "\n",
    "# Nselect = {1:300, 6:300, 7:20, 8:20}\n",
    "# fps_filter = FPSFilter(soap, Nselect, act_on='sample per specie')\n",
    "Nselect = 12\n",
    "fps_filter = FPSFilter(soap, Nselect, act_on='feature')"
   ]
  },
  {
   "cell_type": "code",
   "execution_count": null,
   "metadata": {},
   "outputs": [],
   "source": [
    "managers = soap.transform(frames)"
   ]
  },
  {
   "cell_type": "code",
   "execution_count": null,
   "metadata": {},
   "outputs": [],
   "source": [
    "fps_filter.fit(managers)\n",
    "fps_filter.plot()"
   ]
  },
  {
   "cell_type": "code",
   "execution_count": null,
   "metadata": {},
   "outputs": [],
   "source": [
    "X = managers.get_features(soap)\n",
    "X[1][ids]"
   ]
  },
  {
   "cell_type": "code",
   "execution_count": null,
   "metadata": {},
   "outputs": [],
   "source": [
    "X = managers.get_features(soap)\n",
    "X[1][ids[:8]]"
   ]
  },
  {
   "cell_type": "code",
   "execution_count": null,
   "metadata": {},
   "outputs": [],
   "source": [
    "kernel_s = Kernel(soap_s, zeta=zeta, target_type='Atom')\n",
    "kk = kernel_s(managers_s, managers_s)\n",
    "X = managers.get_features(soap)[:,fps_filter.selected_ids]\n",
    "k_ref = np.dot(X,X.T)\n",
    "np.allclose(kk,k_ref)"
   ]
  },
  {
   "cell_type": "code",
   "execution_count": null,
   "metadata": {},
   "outputs": [],
   "source": [
    "fps_filter.transform(managers)"
   ]
  },
  {
   "cell_type": "code",
   "execution_count": null,
   "metadata": {},
   "outputs": [],
   "source": [
    "soap.get_feature_index_mapping?"
   ]
  },
  {
   "cell_type": "code",
   "execution_count": null,
   "metadata": {},
   "outputs": [],
   "source": [
    "mapping = soap.get_feature_index_mapping(representation)\n",
    "\n",
    "selected_features = {key:[] for key in mapping[0].keys()}\n",
    "ids = [key for key in mapping.keys()]\n",
    "# np.random.shuffle(ids)\n",
    "# print(ids)\n",
    "for idx in ids:\n",
    "    coef_idx = mapping[idx]\n",
    "    for key in selected_features.keys():\n",
    "        selected_features[key].append(int(coef_idx[key]))\n",
    "selected_features['selected_features_global_ids'] = ids\n",
    "mapp = dict(coefficient_subselection=selected_features)\n",
    "print(mapp)"
   ]
  },
  {
   "cell_type": "code",
   "execution_count": null,
   "metadata": {},
   "outputs": [],
   "source": [
    "# hypers.update(fps_filter.transform(managers))\n",
    "hyp = deepcopy(hypers)\n",
    "hyp.update(mapp)\n",
    "soap_s = SOAP(**hyp)\n",
    "\n",
    "managers_s = soap_s.transform(frames)\n",
    "\n",
    "X = managers.get_features(soap)\n",
    "X_s = managers_s.get_features(soap_s)\n",
    "np.allclose(X[:,ids[:8]],X_s)"
   ]
  },
  {
   "cell_type": "code",
   "execution_count": null,
   "metadata": {},
   "outputs": [],
   "source": [
    "import json\n",
    "with open('../reference_data/sparse_soap_input.json','w') as j:\n",
    "    json.dump(soap_s.hypers, j)\n",
    "with open('../reference_data/adaptor_input.json','w') as j:\n",
    "    json.dump(json.loads(managers_s.managers.get_parameters()), j)"
   ]
  },
  {
   "cell_type": "code",
   "execution_count": null,
   "metadata": {},
   "outputs": [],
   "source": [
    "soap_s.hypers['coefficient_subselection']['a']"
   ]
  },
  {
   "cell_type": "code",
   "execution_count": null,
   "metadata": {},
   "outputs": [],
   "source": [
    "import json\n",
    "from itertools import product\n",
    "root = '../'\n",
    "fns = ['reference_data/inputs/diamond_2atom_distorted.json', \n",
    "       'reference_data/inputs/CaCrP2O7_mvc-11955_symmetrized.json',\n",
    "       'reference_data/inputs/methane.json']\n",
    "# fns = ['reference_data/inputs/CaCrP2O7_mvc-11955_symmetrized.json',]\n",
    "soap_types = [\"PowerSpectrum\"]\n",
    "Nselects = [-1, 12]\n",
    "sparsification_inputs = []\n",
    "for fn, soap_type, Nselect in product(fns,soap_types,Nselects):\n",
    "    frames = read(root+fn,':')\n",
    "\n",
    "    hypers = dict(soap_type=soap_type,\n",
    "                  interaction_cutoff=3.5, \n",
    "                  max_radial=2, \n",
    "                  max_angular=2, \n",
    "                  gaussian_sigma_constant=0.4,\n",
    "                  gaussian_sigma_type=\"Constant\",\n",
    "                  cutoff_smooth_width=0.5,\n",
    "                  normalize=False,\n",
    "                  expansion_by_species_method='structure wise',\n",
    "                  )\n",
    "    \n",
    "    soap = SOAP(**hypers)\n",
    "    managers = soap.transform(frames)\n",
    "    X = managers.get_features(soap)\n",
    "    print(X.shape)\n",
    "    if Nselect == -1:\n",
    "        Nselect = X.shape[1]\n",
    "    fps_filter = FPSFilter(soap, Nselect, act_on='feature')\n",
    "    fps_filter.fit(managers)\n",
    "    \n",
    "    hyp = deepcopy(hypers)\n",
    "    hyp.update(fps_filter.transform(managers))\n",
    "    \n",
    "    soap_s = SOAP(**hyp)\n",
    "\n",
    "    managers_s = soap_s.transform(frames)\n",
    "    X_s = managers_s.get_features(soap_s)\n",
    "    print(np.allclose(X[:,hyp['coefficient_subselection']['selected_features_global_ids']],X_s))\n",
    "    sparsification_inputs.append(dict(hypers=dict(rep=soap_s.hypers, \n",
    "                                                  adaptors=managers_s.managers.get_parameters()), \n",
    "                                     filename=fn, Nselect=Nselect))\n",
    "    \n",
    "# with open('../reference_data/tests_only/sparsification_inputs.json','w') as j:\n",
    "#     json.dump(sparsification_inputs, j)\n",
    "    "
   ]
  },
  {
   "cell_type": "code",
   "execution_count": null,
   "metadata": {},
   "outputs": [],
   "source": [
    "SOAP?"
   ]
  },
  {
   "cell_type": "code",
   "execution_count": null,
   "metadata": {},
   "outputs": [],
   "source": [
    "hyp = deepcopy(hypers)\n",
    "hyp.update(fps_filter.transform(managers))\n",
    "# hyp.update(mapp)\n",
    "soap_s = SOAP(**hyp)\n",
    "\n",
    "managers_s = soap_s.transform(frames)\n",
    "\n",
    "X = managers.get_features(soap)\n",
    "X_s = managers_s.get_features(soap_s)\n",
    "np.allclose(X[:,ids[:8]],X_s)"
   ]
  },
  {
   "cell_type": "code",
   "execution_count": null,
   "metadata": {},
   "outputs": [],
   "source": [
    "aa = dict(a=1,b=3)\n",
    "bb = {'c':5}\n",
    "aa.update(bb)\n",
    "aa"
   ]
  },
  {
   "cell_type": "code",
   "execution_count": null,
   "metadata": {},
   "outputs": [],
   "source": [
    "Xs = []\n",
    "for frame in frames:\n",
    "    representation = soap.transform([frame])\n",
    "    X = representation.get_features(soap, species=[1, 6, 7, 8])\n",
    "    Xs.append(X)"
   ]
  },
  {
   "cell_type": "code",
   "execution_count": null,
   "metadata": {},
   "outputs": [],
   "source": [
    "%%time\n",
    "for ii,X in enumerate(Xs):\n",
    "    for jj,Y in enumerate(Xs):\n",
    "        # if jj < ii: continue\n",
    "        aa = np.sum(np.power(np.dot(X, Y.T), zeta))"
   ]
  },
  {
   "cell_type": "code",
   "execution_count": null,
   "metadata": {},
   "outputs": [],
   "source": [
    "representation = soap.transform(frames)\n",
    "X = representation.get_features(soap)"
   ]
  },
  {
   "cell_type": "code",
   "execution_count": null,
   "metadata": {},
   "outputs": [],
   "source": [
    "%%time \n",
    "kk = np.power(np.dot(X, X.T), zeta)"
   ]
  },
  {
   "cell_type": "code",
   "execution_count": null,
   "metadata": {},
   "outputs": [],
   "source": [
    "%time kernel1(representation)"
   ]
  },
  {
   "cell_type": "code",
   "execution_count": null,
   "metadata": {},
   "outputs": [],
   "source": [
    "hypers = dict(soap_type=\"PowerSpectrum\",\n",
    "              interaction_cutoff=3.5, \n",
    "              max_radial=6, \n",
    "              max_angular=4, \n",
    "              gaussian_sigma_constant=0.4,\n",
    "              gaussian_sigma_type=\"Constant\",\n",
    "              cutoff_smooth_width=0.5,\n",
    "              expansion_by_species_method='user defined',\n",
    "              normalize=True,\n",
    "              global_species=[1, 6, 7, 8],\n",
    "              )\n",
    "soap = SOAP(**hypers)\n",
    "zeta=2\n",
    "kernel1 = Kernel(soap, zeta=zeta, target_type='Atom')\n",
    "representation = soap.transform(frames)"
   ]
  },
  {
   "cell_type": "code",
   "execution_count": null,
   "metadata": {},
   "outputs": [],
   "source": [
    "%time kernel1(representation)"
   ]
  },
  {
   "cell_type": "code",
   "execution_count": null,
   "metadata": {},
   "outputs": [],
   "source": [
    "aa = kernel1(representation)\n",
    "bb = kernel1(representation, representation)\n",
    "np.allclose(aa, bb)"
   ]
  },
  {
   "cell_type": "code",
   "execution_count": null,
   "metadata": {},
   "outputs": [],
   "source": [
    "bb[:10,:10]"
   ]
  },
  {
   "cell_type": "code",
   "execution_count": null,
   "metadata": {},
   "outputs": [],
   "source": [
    "aa[:20,:20]"
   ]
  },
  {
   "cell_type": "code",
   "execution_count": null,
   "metadata": {},
   "outputs": [],
   "source": [
    "aa"
   ]
  },
  {
   "cell_type": "code",
   "execution_count": null,
   "metadata": {},
   "outputs": [],
   "source": [
    "140/43. # 900"
   ]
  },
  {
   "cell_type": "code",
   "execution_count": null,
   "metadata": {},
   "outputs": [],
   "source": [
    "1.8/0.513 #100"
   ]
  },
  {
   "cell_type": "markdown",
   "metadata": {},
   "source": [
    "# Learning the formation energies of small molecules"
   ]
  },
  {
   "cell_type": "code",
   "execution_count": null,
   "metadata": {
    "code_folding": []
   },
   "outputs": [],
   "source": [
    "# Load the small molecules \n",
    "frames = read('../reference_data/inputs/small_molecules-1000.xyz',':600')"
   ]
  },
  {
   "cell_type": "markdown",
   "metadata": {
    "heading_collapsed": true
   },
   "source": [
    "## learning utilities"
   ]
  },
  {
   "cell_type": "code",
   "execution_count": null,
   "metadata": {
    "code_folding": [
     13,
     20,
     31,
     33,
     35,
     37,
     47,
     54
    ],
    "hidden": true
   },
   "outputs": [],
   "source": [
    "def compute_representation(representation,frames):\n",
    "    expansions = soap.transform(frames)\n",
    "    return expansions\n",
    "\n",
    "def compute_kernel(zeta, rep1, rep2=None):\n",
    "    if rep2 is None:\n",
    "        kernel = rep1.cosine_kernel_global(zeta)\n",
    "    else:\n",
    "        kernel = rep1.cosine_kernel_global(rep2,zeta)\n",
    "    return kernel\n",
    "\n",
    "def extract_energy(frames):\n",
    "    prop = [[]]*len(frames)\n",
    "    for ii,cc in enumerate(frames):\n",
    "        prop[ii] = cc.info['dft_formation_energy_per_atom_in_eV']\n",
    "    y = np.array(prop)\n",
    "    return y\n",
    "\n",
    "def split_dataset(frames, test_fraction, seed=10):\n",
    "    N = len(frames)\n",
    "    ids = np.arange(N)\n",
    "    np.random.seed(seed)\n",
    "    np.random.shuffle(ids)\n",
    "    Ntrain = int(N*test_fraction)\n",
    "    train = ids[:Ntrain]\n",
    "    test = ids[Ntrain:]\n",
    "    targets = extract_energy(frames)\n",
    "    return [frames[ii] for ii in train],targets[train],[frames[ii] for ii in test],targets[test]\n",
    "\n",
    "def get_mae(ypred,y):\n",
    "    return np.mean(np.abs(ypred-y))\n",
    "def get_rmse(ypred,y):\n",
    "    return np.sqrt(np.mean((ypred-y)**2))\n",
    "def get_sup(ypred,y):\n",
    "    return np.amax(np.abs((ypred-y)))\n",
    "def get_r2(y_pred,y_true):\n",
    "    weight = 1\n",
    "    sample_weight = None\n",
    "    numerator = (weight * (y_true - y_pred) ** 2).sum(axis=0,dtype=np.float64)\n",
    "    denominator = (weight * (y_true - np.average(\n",
    "        y_true, axis=0, weights=sample_weight)) ** 2).sum(axis=0,dtype=np.float64)\n",
    "    output_scores = 1 - (numerator / denominator)\n",
    "    return np.mean(output_scores)\n",
    "\n",
    "\n",
    "score_func = dict(\n",
    "    MAE=get_mae,\n",
    "    RMSE=get_rmse,\n",
    "    SUP=get_sup,\n",
    "    R2=get_r2,\n",
    ")\n",
    "\n",
    "def get_score(ypred,y):\n",
    "    scores = {}\n",
    "    for k,func in score_func.items():\n",
    "        scores[k] = func(ypred,y)\n",
    "    return scores\n",
    "\n",
    "class KRR(object):\n",
    "    def __init__(self,zeta,weights,representation,X):\n",
    "        self.weights = weights\n",
    "        self.representation = representation\n",
    "        self.zeta = zeta\n",
    "        self.X = X\n",
    "        \n",
    "    def predict(self,frames):\n",
    "        features = compute_representation(self.representation,frames)\n",
    "        kernel = compute_kernel(self.zeta , self.X, features)\n",
    "        return np.dot(self.weights, kernel)\n",
    "    \n",
    "def train_krr_model(zeta,Lambda,representation,frames,y,jitter=1e-8):\n",
    "    features = compute_representation(representation,frames)\n",
    "    kernel = compute_kernel(zeta,features)    \n",
    "    # adjust the kernel so that it is properly scaled\n",
    "    delta = np.std(y) / np.mean(kernel.diagonal())\n",
    "    kernel[np.diag_indices_from(kernel)] += Lambda**2 / delta **2 + jitter\n",
    "    # train the krr model\n",
    "    weights = np.linalg.solve(kernel,y)\n",
    "    model = KRR(zeta, weights,representation, features)\n",
    "    return model,kernel\n",
    "\n"
   ]
  },
  {
   "cell_type": "markdown",
   "metadata": {
    "heading_collapsed": true
   },
   "source": [
    "## With the full power spectrum"
   ]
  },
  {
   "cell_type": "code",
   "execution_count": null,
   "metadata": {
    "hidden": true
   },
   "outputs": [],
   "source": [
    "hypers = dict(soap_type=\"PowerSpectrum\",\n",
    "              interaction_cutoff=3.5, \n",
    "              max_radial=6, \n",
    "              max_angular=6, \n",
    "              gaussian_sigma_constant=0.4,\n",
    "              gaussian_sigma_type=\"Constant\",\n",
    "              cutoff_smooth_width=0.5,\n",
    "              )\n",
    "soap = SOAP(**hypers)"
   ]
  },
  {
   "cell_type": "code",
   "execution_count": null,
   "metadata": {
    "hidden": true
   },
   "outputs": [],
   "source": [
    "frames_train, y_train, frames_test, y_test = split_dataset(frames,0.8)"
   ]
  },
  {
   "cell_type": "code",
   "execution_count": null,
   "metadata": {
    "hidden": true
   },
   "outputs": [],
   "source": [
    "zeta = 2\n",
    "Lambda = 5e-3\n",
    "krr,k = train_krr_model(zeta, Lambda, soap, frames_train, y_train)"
   ]
  },
  {
   "cell_type": "code",
   "execution_count": null,
   "metadata": {
    "hidden": true
   },
   "outputs": [],
   "source": [
    "y_pred = krr.predict(frames_test)\n",
    "get_score(y_pred, y_test)"
   ]
  },
  {
   "cell_type": "code",
   "execution_count": null,
   "metadata": {
    "hidden": true
   },
   "outputs": [],
   "source": [
    "plt.scatter(y_pred, y_test, s=3)\n",
    "plt.axis('scaled')\n",
    "plt.xlabel('DFT energy / (eV/atom)')\n",
    "plt.ylabel('Predicted energy / (eV/atom)')"
   ]
  },
  {
   "cell_type": "markdown",
   "metadata": {
    "heading_collapsed": true
   },
   "source": [
    "## With just the radial spectrum"
   ]
  },
  {
   "cell_type": "code",
   "execution_count": null,
   "metadata": {
    "hidden": true
   },
   "outputs": [],
   "source": [
    "hypers = dict(soap_type=\"RadialSpectrum\",\n",
    "              interaction_cutoff=3.5, \n",
    "              max_radial=6, \n",
    "              max_angular=0, \n",
    "              gaussian_sigma_constant=0.4,\n",
    "              gaussian_sigma_type=\"Constant\",\n",
    "              cutoff_smooth_width=0.5,\n",
    "              )\n",
    "soap = SOAP(**hypers)"
   ]
  },
  {
   "cell_type": "code",
   "execution_count": null,
   "metadata": {
    "hidden": true
   },
   "outputs": [],
   "source": [
    "frames_train, y_train, frames_test, y_test = split_dataset(frames,0.8)"
   ]
  },
  {
   "cell_type": "code",
   "execution_count": null,
   "metadata": {
    "hidden": true
   },
   "outputs": [],
   "source": [
    "zeta = 2\n",
    "Lambda = 5e-4\n",
    "krr,k = train_krr_model(zeta, Lambda, soap, frames_train, y_train)"
   ]
  },
  {
   "cell_type": "code",
   "execution_count": null,
   "metadata": {
    "hidden": true
   },
   "outputs": [],
   "source": [
    "y_pred = krr.predict(frames_test)\n",
    "get_score(y_pred, y_test)"
   ]
  },
  {
   "cell_type": "code",
   "execution_count": null,
   "metadata": {
    "hidden": true
   },
   "outputs": [],
   "source": [
    "plt.scatter(y_pred, y_test, s=3)\n",
    "plt.axis('scaled')\n",
    "plt.xlabel('DFT energy / (eV/atom)')\n",
    "plt.ylabel('Predicted energy / (eV/atom)')"
   ]
  },
  {
   "cell_type": "code",
   "execution_count": null,
   "metadata": {
    "hidden": true
   },
   "outputs": [],
   "source": []
  },
  {
   "cell_type": "markdown",
   "metadata": {},
   "source": [
    "# Make a map of the dataset"
   ]
  },
  {
   "cell_type": "markdown",
   "metadata": {
    "heading_collapsed": true
   },
   "source": [
    "## utils"
   ]
  },
  {
   "cell_type": "code",
   "execution_count": null,
   "metadata": {
    "hidden": true
   },
   "outputs": [],
   "source": [
    "def compute_representation(representation,frames):\n",
    "    expansions = soap.transform(frames)\n",
    "    return expansions\n",
    "\n",
    "def compute_kernel(zeta, rep1, rep2=None):\n",
    "    if rep2 is None:\n",
    "        kernel = rep1.cosine_kernel_global(zeta)\n",
    "    else:\n",
    "        kernel = rep1.cosine_kernel_global(rep2,zeta)\n",
    "    return kernel"
   ]
  },
  {
   "cell_type": "code",
   "execution_count": null,
   "metadata": {
    "code_folding": [
     0
    ],
    "hidden": true
   },
   "outputs": [],
   "source": [
    "def link_ngl_wdgt_to_ax_pos(ax, pos, ngl_widget):\n",
    "    from matplotlib.widgets import AxesWidget\n",
    "    from scipy.spatial import cKDTree\n",
    "    r\"\"\"\n",
    "    Initial idea for this function comes from @arose, the rest is @gph82 and @clonker\n",
    "    \"\"\"\n",
    "    \n",
    "    kdtree = cKDTree(pos)        \n",
    "    #assert ngl_widget.trajectory_0.n_frames == pos.shape[0]\n",
    "    x, y = pos.T\n",
    "    \n",
    "    lineh = ax.axhline(ax.get_ybound()[0], c=\"black\", ls='--')\n",
    "    linev = ax.axvline(ax.get_xbound()[0], c=\"black\", ls='--')\n",
    "    dot, = ax.plot(pos[0,0],pos[0,1], 'o', c='red', ms=7)\n",
    "\n",
    "    ngl_widget.isClick = False\n",
    "    \n",
    "    def onclick(event):\n",
    "        linev.set_xdata((event.xdata, event.xdata))\n",
    "        lineh.set_ydata((event.ydata, event.ydata))\n",
    "        data = [event.xdata, event.ydata]\n",
    "        _, index = kdtree.query(x=data, k=1)\n",
    "        dot.set_xdata((x[index]))\n",
    "        dot.set_ydata((y[index]))\n",
    "        ngl_widget.isClick = True\n",
    "        ngl_widget.frame = index\n",
    "    \n",
    "    def my_observer(change):\n",
    "        r\"\"\"Here comes the code that you want to execute\n",
    "        \"\"\"\n",
    "        ngl_widget.isClick = False\n",
    "        _idx = change[\"new\"]\n",
    "        try:\n",
    "            dot.set_xdata((x[_idx]))\n",
    "            dot.set_ydata((y[_idx]))            \n",
    "        except IndexError as e:\n",
    "            dot.set_xdata((x[0]))\n",
    "            dot.set_ydata((y[0]))\n",
    "            print(\"caught index error with index %s (new=%s, old=%s)\" % (_idx, change[\"new\"], change[\"old\"]))\n",
    "    \n",
    "    # Connect axes to widget\n",
    "    axes_widget = AxesWidget(ax)\n",
    "    axes_widget.connect_event('button_release_event', onclick)\n",
    "    \n",
    "    # Connect widget to axes\n",
    "    ngl_widget.observe(my_observer, \"frame\", \"change\")"
   ]
  },
  {
   "cell_type": "markdown",
   "metadata": {
    "heading_collapsed": true
   },
   "source": [
    "## make a map with kernel pca projection"
   ]
  },
  {
   "cell_type": "code",
   "execution_count": null,
   "metadata": {
    "hidden": true
   },
   "outputs": [],
   "source": [
    "# Load the small molecules \n",
    "frames = read('./reference_data/small_molecules-1000.xyz',':600')"
   ]
  },
  {
   "cell_type": "code",
   "execution_count": null,
   "metadata": {
    "hidden": true
   },
   "outputs": [],
   "source": [
    "hypers = dict(soap_type=\"PowerSpectrum\",\n",
    "              interaction_cutoff=3.5, \n",
    "              max_radial=6, \n",
    "              max_angular=6, \n",
    "              gaussian_sigma_constant=0.4,\n",
    "              gaussian_sigma_type=\"Constant\",\n",
    "              cutoff_smooth_width=0.5,\n",
    "              )\n",
    "soap = SOAP(**hypers)"
   ]
  },
  {
   "cell_type": "code",
   "execution_count": null,
   "metadata": {
    "hidden": true
   },
   "outputs": [],
   "source": [
    "zeta = 2\n",
    "\n",
    "features = compute_representation(soap, frames)\n",
    "\n",
    "kernel = compute_kernel(zeta,features)"
   ]
  },
  {
   "cell_type": "code",
   "execution_count": null,
   "metadata": {
    "hidden": true
   },
   "outputs": [],
   "source": [
    "from sklearn.decomposition import KernelPCA"
   ]
  },
  {
   "cell_type": "code",
   "execution_count": null,
   "metadata": {
    "hidden": true
   },
   "outputs": [],
   "source": [
    "kpca = KernelPCA(n_components=2,kernel='precomputed')\n",
    "kpca.fit(kernel)"
   ]
  },
  {
   "cell_type": "code",
   "execution_count": null,
   "metadata": {
    "hidden": true
   },
   "outputs": [],
   "source": [
    "X = kpca.transform(kernel)"
   ]
  },
  {
   "cell_type": "code",
   "execution_count": null,
   "metadata": {
    "hidden": true
   },
   "outputs": [],
   "source": [
    "plt.scatter(X[:,0],X[:,1],s=3)"
   ]
  },
  {
   "cell_type": "markdown",
   "metadata": {},
   "source": [
    "## make an interactive map"
   ]
  },
  {
   "cell_type": "code",
   "execution_count": null,
   "metadata": {},
   "outputs": [],
   "source": [
    "# package to visualize the structures in the notebook\n",
    "# https://github.com/arose/nglview#released-version\n",
    "import nglview"
   ]
  },
  {
   "cell_type": "code",
   "execution_count": null,
   "metadata": {},
   "outputs": [],
   "source": [
    "iwdg = nglview.show_asetraj(frames)\n",
    "# set up the visualization\n",
    "iwdg.add_unitcell()\n",
    "iwdg.add_spacefill()\n",
    "iwdg.remove_ball_and_stick()\n",
    "iwdg.camera = 'orthographic'\n",
    "iwdg.parameters = { \"clipDist\": 0 }\n",
    "iwdg.center()\n",
    "iwdg.update_spacefill(radiusType='covalent',\n",
    "                                   scale=0.6,\n",
    "                                   color_scheme='element')\n",
    "iwdg._remote_call('setSize', target='Widget',\n",
    "                               args=['%dpx' % (600,), '%dpx' % (400,)])\n",
    "iwdg.player.delay = 200.0"
   ]
  },
  {
   "cell_type": "code",
   "execution_count": null,
   "metadata": {},
   "outputs": [],
   "source": [
    "link_ngl_wdgt_to_ax_pos(plt.gca(), X, iwdg)\n",
    "plt.scatter(X[:,0],X[:,1],s=3)\n",
    "iwdg"
   ]
  },
  {
   "cell_type": "code",
   "execution_count": null,
   "metadata": {},
   "outputs": [],
   "source": []
  }
 ],
 "metadata": {
  "celltoolbar": "Initialization Cell",
  "kernelspec": {
   "display_name": "py36",
   "language": "python",
   "name": "py36"
  },
  "language_info": {
   "codemirror_mode": {
    "name": "ipython",
    "version": 3
   },
   "file_extension": ".py",
   "mimetype": "text/x-python",
   "name": "python",
   "nbconvert_exporter": "python",
   "pygments_lexer": "ipython3",
   "version": "3.6.7"
  },
  "toc": {
   "base_numbering": 1,
   "nav_menu": {
    "height": "12px",
    "width": "252px"
   },
   "number_sections": true,
   "sideBar": true,
   "skip_h1_title": false,
   "title_cell": "Table of Contents",
   "title_sidebar": "Contents",
   "toc_cell": false,
   "toc_position": {},
   "toc_section_display": "block",
   "toc_window_display": false
  }
 },
 "nbformat": 4,
 "nbformat_minor": 2
}
