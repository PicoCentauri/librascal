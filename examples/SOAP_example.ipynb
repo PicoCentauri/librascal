{
 "cells": [
  {
   "cell_type": "markdown",
   "metadata": {},
   "source": [
    "# Using Rascal to Calculate SOAP Vectors of Small Molecules\n",
    "\n",
    "This notebook is intended as an introductory how-to on calculating the SOAP vectors of small molecules and train a model for their atomization energies on these vectors. For more information on the derivation, utility, and calculation of SOAP vectors, please refer to (among others): \n",
    "- [On representing chemical environments (Bartók 2013)](https://journals.aps.org/prb/abstract/10.1103/PhysRevB.87.184115)\n",
    "- [Comparing molecules and solids across structural and alchemical space (De 2016)](https://pubs.rsc.org/en/content/articlepdf/2016/cp/c6cp00415f)\n",
    "\n",
    "Beyond libRascal, the packages used in this tutorial are: [time](https://docs.python.org/2/library/time.html), [json](https://docs.python.org/2/library/json.html), [tqdm](https://tqdm.github.io/), [numpy](https://numpy.org/), [matplotlib](https://matplotlib.org/), and [ase](https://wiki.fysik.dtu.dk/ase/index.html)."
   ]
  },
  {
   "cell_type": "code",
   "execution_count": 71,
   "metadata": {},
   "outputs": [
    {
     "data": {
      "text/markdown": [
       "librascal\n",
       "=========\n",
       "\n",
       ".. start-intro\n",
       "\n",
       "librascal is a versatile and scalable fingerprint and machine learning\n",
       "code. It focuses on the efficient construction of representations of\n",
       "atomic structures, that can then be fed to any supervised or\n",
       "unsupervised learning algorithm. Simple regression code will be included\n",
       "for testing purposes, but the long-term goal is to develop a separate\n",
       "collection of tools to this end.\n",
       "\n",
       "librascal is currently considered a standalone code. However, we aim to\n",
       "provide enough flexibility to interface it with other codes such as\n",
       "LAMMPS and PLUMED-2.0.  It can be used as a C++ library as well as a\n",
       "python module.  To be able to call it from python, we have used the\n",
       "pybind11 library.\n",
       "\n",
       "Although at the moment is a serial-only code, we aim to write it in MPI\n",
       "so that it will be possible to take advantage of parallelization to\n",
       "speed up the calculations significantly.  Parallelization is possible especially\n",
       "over atoms in a structure (for large structures), over structures in a\n",
       "collection (for large collections of small structures), or over components of a\n",
       "representation (for representations with a large number of independent functions\n",
       "or components).\n",
       "\n",
       "It comes with a GNU Lesser General Public License of version 3, which\n",
       "means that it can be modified and freely distributed, although we take\n",
       "no responsibility for its misuse.\n",
       "\n",
       "Development\n",
       "-----------\n",
       "\n",
       "The code is currently in the alpha development phase; it is not yet\n",
       "suitable for public use. Nevertheless, there is a significant amount of\n",
       "functionality (including two tutorials) currently working and available\n",
       "to test if you’re feeling adventurous. Feedback and bug reports are\n",
       "welcome, as long as you keep the above in mind.\n",
       "\n",
       ".. end-intro\n",
       "\n",
       "Installation\n",
       "------------\n",
       "\n",
       ".. start-install\n",
       "\n",
       "Dependencies\n",
       "~~~~~~~~~~~~\n",
       "\n",
       "Before installing librascal, please make sure you have at least the\n",
       "following packages installed:\n",
       "\n",
       "+-------------+--------------------+\n",
       "| Package     | Required version   |\n",
       "+=============+====================+\n",
       "| gcc (g++)   | 4.9 or higher      |\n",
       "+-------------+--------------------+\n",
       "| clang       | 4.0 or higher      |\n",
       "+-------------+--------------------+\n",
       "| cmake       | 2.8 or higher      |\n",
       "+-------------+--------------------+\n",
       "| python      | 3.6 or higher      |\n",
       "+-------------+--------------------+\n",
       "| numpy       | 1.13 or higher     |\n",
       "+-------------+--------------------+\n",
       "| ASE         | 3.18 or higher     |\n",
       "+-------------+--------------------+\n",
       "\n",
       "Other necessary packages (such as Eigen and PyBind11) are downloaded\n",
       "automatically when compiling Rascal.\n",
       "\n",
       "The following packages are required for building some optional features:\n",
       "\n",
       "+------------------+-------------+--------------------+\n",
       "| Feature          | Package     | Required version   |\n",
       "+==================+=============+====================+\n",
       "| Documentation    | pandoc      | (latest)           |\n",
       "+------------------+-------------+--------------------+\n",
       "|                  | sphinx      | 2.1.2              |\n",
       "+------------------+-------------+--------------------+\n",
       "|                  | breathe     | 4.13.1             |\n",
       "+------------------+-------------+--------------------+\n",
       "|                  | nbsphinx    | (latest)           |\n",
       "+------------------+-------------+--------------------+\n",
       "\n",
       "Compiling\n",
       "~~~~~~~~~\n",
       "\n",
       "To compile the code it is necessary to have CMake 3.0 and a C++ compiler\n",
       "supporting C++14. During the configuration, it will automatically try to\n",
       "download the external libraries on which it depends:\n",
       "\n",
       "-  Eigen\n",
       "-  Pybind11\n",
       "-  Boost (only the unit test framework library)\n",
       "-  Python3\n",
       "\n",
       "And the following libraries to build the documentation:\n",
       "\n",
       "-  Doxygen\n",
       "-  Sphinx\n",
       "-  Breathe\n",
       "\n",
       "Beware, Python3 is mandatory. The code won’t work with a Python version\n",
       "older than 3.\n",
       "\n",
       "Using the package manager of your choice this yaml script should install all\n",
       "required python packages required for rascal.\n",
       "\n",
       ".. code:: shell\n",
       "\n",
       "    name: librascal-env\n",
       "    dependencies:\n",
       "      - python=3.6 \n",
       "      - pip:\n",
       "        - numpy\n",
       "        - matplotlib\n",
       "        - scipy\n",
       "        - mpmath\n",
       "        - ase\n",
       "        - ubjson\n",
       "        - cpplint\n",
       "        - sphinx=2.1.2\n",
       "        - sphinx_rtd_theme\n",
       "        - breathe=4.13.1\n",
       "        - pandoc\n",
       "        - nbsphinx\n",
       "        - jupyter\n",
       "        - qml\n",
       "        - autopep8\n",
       "        - pytest\n",
       "\n",
       "To configure and compile the code with the default options, on \\*nix\n",
       "systems (Windows is not supported):\n",
       "\n",
       ".. code:: shell\n",
       "\n",
       "   mkdir build\n",
       "   cd build\n",
       "   cmake ..\n",
       "   make\n",
       "\n",
       "Customizing the build\n",
       "~~~~~~~~~~~~~~~~~~~~~\n",
       "\n",
       "The library supports several alternative builds that have additional\n",
       "dependencies. Note that the ``ncurses`` GUI for cmake (ccmake) is quite\n",
       "helpful to customize the build options.\n",
       "\n",
       "1. Tests\n",
       "\n",
       "   Librascal source code is extensively tested (both c++ and python).\n",
       "   The BOOST unit_test_framework is requiered to build the tests (see\n",
       "   BOOST.md for further details on how to install the boost library). To\n",
       "   build and run the tests:\n",
       "\n",
       "   .. code:: shell\n",
       "\n",
       "      cd build\n",
       "      cmake -DBUILD_TESTS=ON ..\n",
       "      make\n",
       "      ctest -V\n",
       "\n",
       "   In addition to testing the behaviour of the code, the test suite also check\n",
       "   for formatting compliance with the clang-format and autopep8 packages (these\n",
       "   dependencies are optional). To install these dependencies on ubuntu:\n",
       "\n",
       "   .. code:: shell\n",
       "\n",
       "      sudo apt-get install clang-format\n",
       "      pip3 install autopep8\n",
       "\n",
       "2. Build Type\n",
       "\n",
       "   Several build types are available Release (default), Debug and\n",
       "   RelWithDebInfo. To build an alternative mode\n",
       "\n",
       "   .. code:: shell\n",
       "\n",
       "      cd build\n",
       "      cmake -DCMAKE_BUILD_TYPE=Debug\n",
       "      ..\n",
       "      make\n",
       "\n",
       "   Or\n",
       "\n",
       "   .. code:: shell\n",
       "\n",
       "      cd build\n",
       "      cmake -DCMAKE_BUILD_TYPE=RelWithDebInfo  \\\\\n",
       "         CMAKE_C_FLAGS_RELWITHDEBUBINFO=\"-03 -g -DNDEBUG\" ..\n",
       "      make\n",
       "\n",
       "3. Documentation\n",
       "\n",
       "   The documentation relies on the sphinx (with nbsphinx and breathe\n",
       "   extensions), doxygen, pandoc, and graphviz\n",
       "   packages. To install them on ubuntu:\n",
       "\n",
       "   .. code:: shell\n",
       "\n",
       "     pip3 install sphinx sphinx_rtd_theme breathe nbsphinx\n",
       "     sudo apt-get install pandoc doxygen graphviz\n",
       "\n",
       "   Then to build the documentation run:\n",
       "\n",
       "   .. code:: shell\n",
       "\n",
       "     cd build\n",
       "     cmake -DENABLE_DOC=ON ..\n",
       "     make doc\n",
       "\n",
       "   the index html file is located in ./docs/dox_html/index.html\n",
       "\n",
       "4. Helpers for Developers\n",
       "\n",
       "   -  To remove all the cmake files/folders except for the external\n",
       "      library (enable glob and remove):\n",
       "\n",
       "   .. code:: shell\n",
       "\n",
       "      shopt -s extglob\n",
       "      rm -fr -- !(external|third-party)\n",
       "\n",
       "   -  To help developers conform their contribution to the coding\n",
       "      convention, the formatting of new functionalities can be automated\n",
       "      using clang-format (for the c++ files) and autopep8 (for the\n",
       "      python files). The .clang-format and .pycodestyle files define\n",
       "      common settings to be used.\n",
       "\n",
       "      To enable these functionalities (optional) you can install these\n",
       "      tools with:\n",
       "\n",
       "      .. code:: shell\n",
       "\n",
       "         sudo apt-get install clang-format\n",
       "         pip install autopep8\n",
       "\n",
       "      The automatic formating of the c++ and python files can be\n",
       "      trigered by:\n",
       "\n",
       "      .. code:: shell\n",
       "\n",
       "         cd build\n",
       "         cmake ..\n",
       "         make pretty-cpp\n",
       "         make pretty-python\n",
       "\n",
       "      Please use these tools with caution as they can potentially\n",
       "      introduce unwanted changes to the code. If code needs to be\n",
       "      specifically excluded from auto formatting, e.g. a matrix which\n",
       "      should be human-readable, code comments tells the formatters to\n",
       "      ignore lines:\n",
       "\n",
       "      C++\n",
       "\n",
       "      .. code:: C++\n",
       "\n",
       "         // clang-format off\n",
       "         SOME CODE TO IGNORE\n",
       "         // clang-format on\n",
       "\n",
       "      python\n",
       "\n",
       "      .. code:: python\n",
       "\n",
       "         SOME LINE TO IGNORE # noqa\n",
       "\n",
       "      where ``noqa`` stands for ``no`` ``q``\\ uality ``a``\\ ssurance.\n",
       "\n",
       "5. Bindings\n",
       "\n",
       "   Librascal relies on the pybind11 library to automate the generation\n",
       "   of the python bindings which are built by default. Nevertheless, to\n",
       "   build only the c++ library:\n",
       "\n",
       "   .. code:: shell\n",
       "\n",
       "      cd build\n",
       "      cmake -DBUILD_BINDINGS=OFF ..\n",
       "      make\n",
       "\n",
       "Miscellaneous Information\n",
       "-------------------------\n",
       "\n",
       "-  Common cmake flags:\n",
       "\n",
       "   -  -DCMAKE_C_COMPILER\n",
       "   -  -DBUILD_BINDINGS\n",
       "   -  -DUSER\n",
       "   -  -DINSTALL_PATH\n",
       "   -  -DCMAKE_BUILD_TYPE\n",
       "   -  -DENABLE_DOC\n",
       "   -  -DBUILD_TESTS\n",
       "\n",
       "-  Special flags:\n",
       "\n",
       "   -  -DBUILD_BINDINGS:\n",
       "\n",
       "      -  ON (default) -> build python binding\n",
       "      -  OFF -> does not build python binding\n",
       "\n",
       "   -  -DINSTALL_PATH:\n",
       "\n",
       "      -  empty (default) -> does not install in a custom folder\n",
       "      -  custom string -> root path for the installation\n",
       "\n",
       "   -  -DUSER:\n",
       "\n",
       "      -  OFF (default) -> changes nothing\n",
       "      -  ON -> install root is in the user’s home directory, i.e.\n",
       "         ``~/.local/``\n",
       "\n",
       "To build librascal as a docker environment:\n",
       "\n",
       ".. code:: shell\n",
       "\n",
       "   sudo docker build -t test -f ./docker/install_env.dockerfile  .\n",
       "   sudo docker run -it -v /path/to/repo/:/home/user/  test\n"
      ],
      "text/plain": [
       "<IPython.core.display.Markdown object>"
      ]
     },
     "metadata": {},
     "output_type": "display_data"
    },
    {
     "data": {
      "application/vnd.jupyter.widget-view+json": {
       "model_id": "6c805df5271745a5b41fd9910de1f3c7",
       "version_major": 2,
       "version_minor": 0
      },
      "text/plain": [
       "ToggleButtons(description='Show: ', options=('compute_kernel', 'compute_representation', 'extract_energy', 'ge…"
      ]
     },
     "metadata": {},
     "output_type": "display_data"
    }
   ],
   "source": [
    "%matplotlib notebook\n",
    "%reload_ext autoreload\n",
    "%autoreload 2\n",
    "from utils import *\n",
    "readme_button()"
   ]
  },
  {
   "cell_type": "code",
   "execution_count": 63,
   "metadata": {
    "init_cell": true
   },
   "outputs": [],
   "source": [
    "import os, sys\n",
    "\n",
    "import time\n",
    "import json\n",
    "from tqdm import tqdm\n",
    "import numpy as np\n",
    "from matplotlib import pylab as plt\n",
    "\n",
    "import ase\n",
    "from ase.io import read, write\n",
    "from ase.build import make_supercell\n",
    "from ase.visualize import view\n",
    "\n",
    "import rascal\n",
    "from rascal.representations import SphericalInvariants as SOAP"
   ]
  },
  {
   "cell_type": "markdown",
   "metadata": {},
   "source": [
    "# SOAP: Power spectrum"
   ]
  },
  {
   "cell_type": "code",
   "execution_count": 64,
   "metadata": {},
   "outputs": [],
   "source": [
    "frames = read(\"./data/small_molecules-1000.xyz\",\":1\")"
   ]
  },
  {
   "cell_type": "code",
   "execution_count": 65,
   "metadata": {
    "code_folding": []
   },
   "outputs": [],
   "source": [
    "hypers = dict(soap_type=\"PowerSpectrum\",\n",
    "              interaction_cutoff=3.5, \n",
    "              max_radial=2, \n",
    "              max_angular=1, \n",
    "              gaussian_sigma_constant=0.5,\n",
    "              gaussian_sigma_type=\"Constant\",\n",
    "              cutoff_smooth_width=0.,\n",
    "              normalize=False,\n",
    "              )\n",
    "soap = SOAP(**hypers)"
   ]
  },
  {
   "cell_type": "code",
   "execution_count": 66,
   "metadata": {},
   "outputs": [],
   "source": [
    "representation = soap.transform(frames)"
   ]
  },
  {
   "cell_type": "code",
   "execution_count": 67,
   "metadata": {},
   "outputs": [
    {
     "data": {
      "text/plain": [
       "(17, 80)"
      ]
     },
     "execution_count": 67,
     "metadata": {},
     "output_type": "execute_result"
    }
   ],
   "source": [
    "X = representation.get_feature_matrix().T\n",
    "X.shape"
   ]
  },
  {
   "cell_type": "code",
   "execution_count": 68,
   "metadata": {},
   "outputs": [],
   "source": [
    "frames = read(\"./data/small_molecules-1000.xyz\",\":1\")"
   ]
  },
  {
   "cell_type": "code",
   "execution_count": 69,
   "metadata": {},
   "outputs": [],
   "source": [
    "# select a subset of the atoms in the stucture\n",
    "for frame in frames:\n",
    "    is_a_center_atom = np.ones_like(frame.get_atomic_numbers())\n",
    "    is_a_center_atom[3] = False\n",
    "    frame.set_array(\"is_a_center_atom\", is_a_center_atom)\n",
    "representation = soap.transform(frames)"
   ]
  },
  {
   "cell_type": "code",
   "execution_count": null,
   "metadata": {},
   "outputs": [],
   "source": [
    "X_sub = representation.get_feature_matrix().T\n",
    "X_sub.shape"
   ]
  },
  {
   "cell_type": "markdown",
   "metadata": {},
   "source": [
    "# Learning the formation energies of small molecules\n",
    "Use the buttons below to see source code on the utility functions"
   ]
  },
  {
   "cell_type": "code",
   "execution_count": 70,
   "metadata": {},
   "outputs": [
    {
     "data": {
      "application/vnd.jupyter.widget-view+json": {
       "model_id": "d8c00d124635471584ea21cf45261a92",
       "version_major": 2,
       "version_minor": 0
      },
      "text/plain": [
       "ToggleButtons(description='Show: ', options=('compute_kernel', 'compute_representation', 'extract_energy', 'ge…"
      ]
     },
     "metadata": {},
     "output_type": "display_data"
    },
    {
     "data": {
      "text/markdown": [
       "```python\n",
       "def train_krr_model(zeta,Lambda,representation,frames,y,jitter=1e-8):\n",
       "    features = compute_representation(representation,frames)\n",
       "    kernel = compute_kernel(zeta,features)    \n",
       "    # adjust the kernel so that it is properly scaled\n",
       "    delta = np.std(y) / np.mean(kernel.diagonal())\n",
       "    kernel[np.diag_indices_from(kernel)] += Lambda**2 / delta **2 + jitter\n",
       "    # train the krr model\n",
       "    weights = np.linalg.solve(kernel,y)\n",
       "    model = KRR(zeta, weights, representation, features)\n",
       "    return model,kernel\n",
       "```"
      ],
      "text/plain": [
       "<IPython.core.display.Markdown object>"
      ]
     },
     "metadata": {},
     "output_type": "display_data"
    }
   ],
   "source": [
    "make_buttons()"
   ]
  },
  {
   "cell_type": "code",
   "execution_count": null,
   "metadata": {
    "code_folding": []
   },
   "outputs": [],
   "source": [
    "# Load the small molecules \n",
    "frames = read('./data/small_molecules-1000.xyz',':600')"
   ]
  },
  {
   "cell_type": "markdown",
   "metadata": {
    "heading_collapsed": true
   },
   "source": [
    "## With the full power spectrum"
   ]
  },
  {
   "cell_type": "code",
   "execution_count": null,
   "metadata": {
    "hidden": true
   },
   "outputs": [],
   "source": [
    "hypers = dict(soap_type=\"PowerSpectrum\",\n",
    "              interaction_cutoff=3.5, \n",
    "              max_radial=6, \n",
    "              max_angular=6, \n",
    "              gaussian_sigma_constant=0.4,\n",
    "              gaussian_sigma_type=\"Constant\",\n",
    "              cutoff_smooth_width=0.5,\n",
    "              )\n",
    "soap = SOAP(**hypers)"
   ]
  },
  {
   "cell_type": "code",
   "execution_count": null,
   "metadata": {
    "hidden": true
   },
   "outputs": [],
   "source": [
    "frames_train, y_train, frames_test, y_test = split_dataset(frames,0.8)"
   ]
  },
  {
   "cell_type": "code",
   "execution_count": null,
   "metadata": {
    "hidden": true
   },
   "outputs": [],
   "source": [
    "zeta = 2\n",
    "Lambda = 5e-3\n",
    "krr,k = train_krr_model(zeta, Lambda, soap, frames_train, y_train)"
   ]
  },
  {
   "cell_type": "code",
   "execution_count": null,
   "metadata": {
    "hidden": true
   },
   "outputs": [],
   "source": [
    "y_pred = krr.predict(frames_test)\n",
    "get_score(y_pred, y_test)"
   ]
  },
  {
   "cell_type": "code",
   "execution_count": null,
   "metadata": {
    "hidden": true
   },
   "outputs": [],
   "source": [
    "plt.scatter(y_pred, y_test, s=3)\n",
    "plt.axis('scaled')\n",
    "plt.xlabel('DFT energy / (eV/atom)')\n",
    "plt.ylabel('Predicted energy / (eV/atom)')"
   ]
  },
  {
   "cell_type": "markdown",
   "metadata": {
    "heading_collapsed": true
   },
   "source": [
    "## With just the radial spectrum"
   ]
  },
  {
   "cell_type": "code",
   "execution_count": null,
   "metadata": {
    "hidden": true
   },
   "outputs": [],
   "source": [
    "hypers = dict(soap_type=\"RadialSpectrum\",\n",
    "              interaction_cutoff=3.5, \n",
    "              max_radial=6, \n",
    "              max_angular=0, \n",
    "              gaussian_sigma_constant=0.4,\n",
    "              gaussian_sigma_type=\"Constant\",\n",
    "              cutoff_smooth_width=0.5,\n",
    "              )\n",
    "soap = SOAP(**hypers)"
   ]
  },
  {
   "cell_type": "code",
   "execution_count": null,
   "metadata": {
    "hidden": true
   },
   "outputs": [],
   "source": [
    "frames_train, y_train, frames_test, y_test = split_dataset(frames,0.8)"
   ]
  },
  {
   "cell_type": "code",
   "execution_count": null,
   "metadata": {
    "hidden": true
   },
   "outputs": [],
   "source": [
    "zeta = 2\n",
    "Lambda = 5e-4\n",
    "krr,k = train_krr_model(zeta, Lambda, soap, frames_train, y_train)"
   ]
  },
  {
   "cell_type": "code",
   "execution_count": null,
   "metadata": {
    "hidden": true
   },
   "outputs": [],
   "source": [
    "y_pred = krr.predict(frames_test)\n",
    "get_score(y_pred, y_test)"
   ]
  },
  {
   "cell_type": "code",
   "execution_count": null,
   "metadata": {
    "hidden": true
   },
   "outputs": [],
   "source": [
    "plt.scatter(y_pred, y_test, s=3)\n",
    "plt.axis('scaled')\n",
    "plt.xlabel('DFT energy / (eV/atom)')\n",
    "plt.ylabel('Predicted energy / (eV/atom)')"
   ]
  },
  {
   "cell_type": "code",
   "execution_count": null,
   "metadata": {
    "hidden": true
   },
   "outputs": [],
   "source": []
  },
  {
   "cell_type": "markdown",
   "metadata": {},
   "source": [
    "# Make a map of the dataset"
   ]
  },
  {
   "cell_type": "markdown",
   "metadata": {
    "heading_collapsed": true
   },
   "source": [
    "## utils"
   ]
  },
  {
   "cell_type": "code",
   "execution_count": null,
   "metadata": {
    "hidden": true
   },
   "outputs": [],
   "source": [
    "def compute_representation(representation,frames):\n",
    "    expansions = soap.transform(frames)\n",
    "    return expansions\n",
    "\n",
    "def compute_kernel(zeta, rep1, rep2=None):\n",
    "    if rep2 is None:\n",
    "        kernel = rep1.cosine_kernel_global(zeta)\n",
    "    else:\n",
    "        kernel = rep1.cosine_kernel_global(rep2,zeta)\n",
    "    return kernel"
   ]
  },
  {
   "cell_type": "code",
   "execution_count": null,
   "metadata": {
    "code_folding": [
     0
    ],
    "hidden": true
   },
   "outputs": [],
   "source": [
    "def link_ngl_wdgt_to_ax_pos(ax, pos, ngl_widget):\n",
    "    from matplotlib.widgets import AxesWidget\n",
    "    from scipy.spatial import cKDTree\n",
    "    r\"\"\"\n",
    "    Initial idea for this function comes from @arose, the rest is @gph82 and @clonker\n",
    "    \"\"\"\n",
    "    \n",
    "    kdtree = cKDTree(pos)        \n",
    "    #assert ngl_widget.trajectory_0.n_frames == pos.shape[0]\n",
    "    x, y = pos.T\n",
    "    \n",
    "    lineh = ax.axhline(ax.get_ybound()[0], c=\"black\", ls='--')\n",
    "    linev = ax.axvline(ax.get_xbound()[0], c=\"black\", ls='--')\n",
    "    dot, = ax.plot(pos[0,0],pos[0,1], 'o', c='red', ms=7)\n",
    "\n",
    "    ngl_widget.isClick = False\n",
    "    \n",
    "    def onclick(event):\n",
    "        linev.set_xdata((event.xdata, event.xdata))\n",
    "        lineh.set_ydata((event.ydata, event.ydata))\n",
    "        data = [event.xdata, event.ydata]\n",
    "        _, index = kdtree.query(x=data, k=1)\n",
    "        dot.set_xdata((x[index]))\n",
    "        dot.set_ydata((y[index]))\n",
    "        ngl_widget.isClick = True\n",
    "        ngl_widget.frame = index\n",
    "    \n",
    "    def my_observer(change):\n",
    "        r\"\"\"Here comes the code that you want to execute\n",
    "        \"\"\"\n",
    "        ngl_widget.isClick = False\n",
    "        _idx = change[\"new\"]\n",
    "        try:\n",
    "            dot.set_xdata((x[_idx]))\n",
    "            dot.set_ydata((y[_idx]))            \n",
    "        except IndexError as e:\n",
    "            dot.set_xdata((x[0]))\n",
    "            dot.set_ydata((y[0]))\n",
    "            print(\"caught index error with index %s (new=%s, old=%s)\" % (_idx, change[\"new\"], change[\"old\"]))\n",
    "    \n",
    "    # Connect axes to widget\n",
    "    axes_widget = AxesWidget(ax)\n",
    "    axes_widget.connect_event('button_release_event', onclick)\n",
    "    \n",
    "    # Connect widget to axes\n",
    "    ngl_widget.observe(my_observer, \"frame\", \"change\")"
   ]
  },
  {
   "cell_type": "markdown",
   "metadata": {
    "heading_collapsed": true
   },
   "source": [
    "## make a map with kernel pca projection"
   ]
  },
  {
   "cell_type": "code",
   "execution_count": null,
   "metadata": {
    "hidden": true
   },
   "outputs": [],
   "source": [
    "# Load the small molecules \n",
    "frames = read('./data/small_molecules-1000.xyz',':600')"
   ]
  },
  {
   "cell_type": "code",
   "execution_count": null,
   "metadata": {
    "hidden": true
   },
   "outputs": [],
   "source": [
    "hypers = dict(soap_type=\"PowerSpectrum\",\n",
    "              interaction_cutoff=3.5, \n",
    "              max_radial=6, \n",
    "              max_angular=6, \n",
    "              gaussian_sigma_constant=0.4,\n",
    "              gaussian_sigma_type=\"Constant\",\n",
    "              cutoff_smooth_width=0.5,\n",
    "              )\n",
    "soap = SOAP(**hypers)"
   ]
  },
  {
   "cell_type": "code",
   "execution_count": null,
   "metadata": {
    "hidden": true
   },
   "outputs": [],
   "source": [
    "zeta = 2\n",
    "\n",
    "features = compute_representation(soap, frames)\n",
    "\n",
    "kernel = compute_kernel(zeta,features)"
   ]
  },
  {
   "cell_type": "code",
   "execution_count": null,
   "metadata": {
    "hidden": true
   },
   "outputs": [],
   "source": [
    "from sklearn.decomposition import KernelPCA"
   ]
  },
  {
   "cell_type": "code",
   "execution_count": null,
   "metadata": {
    "hidden": true
   },
   "outputs": [],
   "source": [
    "kpca = KernelPCA(n_components=2,kernel='precomputed')\n",
    "kpca.fit(kernel)"
   ]
  },
  {
   "cell_type": "code",
   "execution_count": null,
   "metadata": {
    "hidden": true
   },
   "outputs": [],
   "source": [
    "X = kpca.transform(kernel)"
   ]
  },
  {
   "cell_type": "code",
   "execution_count": null,
   "metadata": {
    "hidden": true
   },
   "outputs": [],
   "source": [
    "plt.scatter(X[:,0],X[:,1],s=3)"
   ]
  },
  {
   "cell_type": "markdown",
   "metadata": {},
   "source": [
    "## make an interactive map"
   ]
  },
  {
   "cell_type": "code",
   "execution_count": null,
   "metadata": {},
   "outputs": [],
   "source": [
    "# package to visualize the structures in the notebook\n",
    "# https://github.com/arose/nglview#released-version\n",
    "import nglview"
   ]
  },
  {
   "cell_type": "code",
   "execution_count": null,
   "metadata": {},
   "outputs": [],
   "source": [
    "iwdg = nglview.show_asetraj(frames)\n",
    "# set up the visualization\n",
    "iwdg.add_unitcell()\n",
    "iwdg.add_spacefill()\n",
    "iwdg.remove_ball_and_stick()\n",
    "iwdg.camera = 'orthographic'\n",
    "iwdg.parameters = { \"clipDist\": 0 }\n",
    "iwdg.center()\n",
    "iwdg.update_spacefill(radiusType='covalent',\n",
    "                                   scale=0.6,\n",
    "                                   color_scheme='element')\n",
    "iwdg._remote_call('setSize', target='Widget',\n",
    "                               args=['%dpx' % (600,), '%dpx' % (400,)])\n",
    "iwdg.player.delay = 200.0"
   ]
  },
  {
   "cell_type": "code",
   "execution_count": null,
   "metadata": {},
   "outputs": [],
   "source": [
    "link_ngl_wdgt_to_ax_pos(plt.gca(), X, iwdg)\n",
    "plt.scatter(X[:,0],X[:,1],s=3)\n",
    "iwdg"
   ]
  },
  {
   "cell_type": "code",
   "execution_count": null,
   "metadata": {},
   "outputs": [],
   "source": []
  }
 ],
 "metadata": {
  "celltoolbar": "Raw Cell Format",
  "kernelspec": {
   "display_name": "Python 3",
   "language": "python",
   "name": "python3"
  },
  "language_info": {
   "codemirror_mode": {
    "name": "ipython",
    "version": 3
   },
   "file_extension": ".py",
   "mimetype": "text/x-python",
   "name": "python",
   "nbconvert_exporter": "python",
   "pygments_lexer": "ipython3",
   "version": "3.7.3"
  },
  "toc": {
   "base_numbering": 1,
   "nav_menu": {
    "height": "12px",
    "width": "252px"
   },
   "number_sections": true,
   "sideBar": true,
   "skip_h1_title": false,
   "title_cell": "Table of Contents",
   "title_sidebar": "Contents",
   "toc_cell": false,
   "toc_position": {},
   "toc_section_display": "block",
   "toc_window_display": false
  }
 },
 "nbformat": 4,
 "nbformat_minor": 2
}
