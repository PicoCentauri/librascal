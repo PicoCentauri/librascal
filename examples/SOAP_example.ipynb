{
 "cells": [
  {
   "cell_type": "markdown",
   "metadata": {},
   "source": [
    "To install rascal:\n",
    "(NOTE: See the top-level README for the most up-to-date installation instructions.)\n",
    "+ mkdir ../build \n",
    "+ cd build\n",
    "+ cmake -DCMAKE_BUILD_TYPE=Release -DBUILD_TESTS=ON ..\n",
    "+ make -j 4\n",
    "+ make install"
   ]
  },
  {
   "cell_type": "code",
   "execution_count": 2,
   "metadata": {
    "init_cell": true
   },
   "outputs": [],
   "source": [
    "%matplotlib notebook\n",
    "from matplotlib import pylab as plt\n",
    "\n",
    "import os, sys\n",
    "from ase.io import read\n",
    "sys.path.insert(0,\"../build/\")\n",
    "\n",
    "import sys\n",
    "import time\n",
    "import rascal\n",
    "import json\n",
    "\n",
    "import ase\n",
    "from ase.io import read, write\n",
    "from ase.build import make_supercell\n",
    "from ase.visualize import view\n",
    "import numpy as np\n",
    "import sys\n",
    "\n",
    "import json\n",
    "\n",
    "from rascal.representations import SOAP"
   ]
  },
  {
   "cell_type": "code",
   "execution_count": 12,
   "metadata": {},
   "outputs": [],
   "source": [
    "frames = read(\"./data/small_molecules-1000.xyz\",\":1\")"
   ]
  },
  {
   "cell_type": "markdown",
   "metadata": {},
   "source": [
    "# SOAP: Power spectrum"
   ]
  },
  {
   "cell_type": "code",
   "execution_count": 25,
   "metadata": {},
   "outputs": [],
   "source": [
    "frames = read(\"./data/small_molecules-1000.xyz\",\":1\")"
   ]
  },
  {
   "cell_type": "code",
   "execution_count": 26,
   "metadata": {
    "code_folding": []
   },
   "outputs": [],
   "source": [
    "hypers = dict(soap_type=\"PowerSpectrum\",\n",
    "              interaction_cutoff=3.5, \n",
    "              max_radial=2, \n",
    "              max_angular=1, \n",
    "              gaussian_sigma_constant=0.5,\n",
    "              gaussian_sigma_type=\"Constant\",\n",
    "              cutoff_smooth_width=0.,\n",
    "              normalize=False,\n",
    "              )\n",
    "soap = SOAP(**hypers)"
   ]
  },
  {
   "cell_type": "code",
   "execution_count": 27,
   "metadata": {},
   "outputs": [],
   "source": [
    "representation = soap.transform(frames)"
   ]
  },
  {
   "cell_type": "code",
   "execution_count": 28,
   "metadata": {},
   "outputs": [
    {
     "data": {
      "text/plain": [
       "(17, 80)"
      ]
     },
     "execution_count": 28,
     "metadata": {},
     "output_type": "execute_result"
    }
   ],
   "source": [
    "X = representation.get_feature_matrix().T\n",
    "X.shape"
   ]
  },
  {
   "cell_type": "code",
   "execution_count": 37,
   "metadata": {},
   "outputs": [
    {
     "data": {
      "text/plain": [
       "array([ 1.46974801e-04,  5.57354366e-04,  5.57354366e-04,  2.11358605e-03,\n",
       "        5.45216235e-05, -1.08652724e-06, -1.08652724e-06,  3.70791113e-06,\n",
       "        1.02150278e-03,  1.33428408e-04,  3.87371869e-03,  5.05984052e-04,\n",
       "       -7.89397920e-05, -6.81547215e-05, -4.26665004e-05,  4.93484967e-07,\n",
       "        8.39519725e-05,  8.67078645e-05,  3.18360685e-04,  3.28811513e-04,\n",
       "       -4.44048546e-07, -4.65618357e-07, -1.64189282e-05, -1.72164833e-05,\n",
       "        2.21331606e-04,  3.66972673e-06,  8.39328483e-04,  1.39162509e-05,\n",
       "        3.65843172e-05,  1.48190911e-06,  3.69825197e-05,  1.49803897e-06,\n",
       "        3.54981916e-03,  4.63676386e-04,  4.63676386e-04,  6.05652799e-05,\n",
       "        3.22613702e-04,  5.45283978e-05,  5.45283978e-05,  4.26998279e-05,\n",
       "        4.12584187e-04,  4.26128090e-04,  5.38916311e-05,  5.56607320e-05,\n",
       "        1.39864043e-04,  1.46657987e-04,  3.11753434e-06,  3.26896965e-06,\n",
       "        1.08774002e-03,  1.80349689e-05,  1.42080298e-04,  2.35572260e-06,\n",
       "       -3.57482852e-04, -1.44804423e-05, -3.85931265e-05, -1.56327930e-06,\n",
       "        2.39766737e-05,  2.47637561e-05,  2.47637561e-05,  2.55766761e-05,\n",
       "        3.66071278e-05,  3.83853316e-05,  3.83853316e-05,  4.02499124e-05,\n",
       "        8.93956653e-05,  1.48219980e-06,  9.23302574e-05,  1.53085598e-06,\n",
       "       -1.19048636e-04, -4.82226460e-06, -1.24831464e-04, -5.05650777e-06,\n",
       "        1.66653329e-04,  2.76314886e-06,  2.76314886e-06,  4.58136161e-08,\n",
       "        2.05175855e-04,  8.31099200e-06,  8.31099200e-06,  3.36650666e-07])"
      ]
     },
     "execution_count": 37,
     "metadata": {},
     "output_type": "execute_result"
    }
   ],
   "source": [
    "X[2]"
   ]
  },
  {
   "cell_type": "code",
   "execution_count": 34,
   "metadata": {},
   "outputs": [],
   "source": [
    "frames = read(\"./data/small_molecules-1000.xyz\",\":1\")"
   ]
  },
  {
   "cell_type": "code",
   "execution_count": 38,
   "metadata": {},
   "outputs": [],
   "source": [
    "# select a subset of the atoms in the stucture\n",
    "for frame in frames:\n",
    "    is_a_center_atom = np.ones_like(frame.get_atomic_numbers())\n",
    "    is_a_center_atom[3] = False\n",
    "    frame.set_array(\"is_a_center_atom\", is_a_center_atom)\n",
    "representation = soap.transform(frames)"
   ]
  },
  {
   "cell_type": "code",
   "execution_count": 39,
   "metadata": {},
   "outputs": [
    {
     "data": {
      "text/plain": [
       "(16, 120)"
      ]
     },
     "execution_count": 39,
     "metadata": {},
     "output_type": "execute_result"
    }
   ],
   "source": [
    "X_sub = representation.get_feature_matrix().T\n",
    "X_sub.shape"
   ]
  },
  {
   "cell_type": "code",
   "execution_count": 41,
   "metadata": {},
   "outputs": [
    {
     "data": {
      "text/plain": [
       "array([ 1.61454604e-04,  4.70654585e-06,  4.70654585e-06,  1.37200014e-07,\n",
       "        2.00611854e-04,  1.05593137e-05,  1.05593137e-05,  5.55795202e-07,\n",
       "        2.64323341e-04,  8.49412520e-04,  7.70526137e-06,  2.47611333e-05,\n",
       "        4.07946851e-05, -7.34354881e-05,  2.14725037e-06, -3.86531673e-06,\n",
       "        8.85642991e-04,  1.23612312e-04,  2.58172839e-05,  3.60340926e-06,\n",
       "        3.17697524e-05,  1.17565740e-04,  1.67221814e-06,  6.18813647e-06,\n",
       "        2.31978220e-04,  3.84624992e-06,  6.76237222e-06,  1.12121619e-07,\n",
       "       -1.82393033e-04, -7.38813560e-06, -9.60035615e-06, -3.88878522e-07,\n",
       "       -1.81562844e-06,  7.71778944e-05, -5.29271900e-08,  2.24980453e-06,\n",
       "        1.50200506e-06, -6.23753605e-05,  7.90588504e-08, -3.28316092e-06,\n",
       "        2.16366789e-04,  6.95302424e-04,  6.95302424e-04,  2.23437924e-03,\n",
       "        1.77448307e-05, -4.82866218e-06, -4.82866218e-06,  1.39525962e-05,\n",
       "        1.02524763e-03,  1.43097423e-04,  3.29466997e-03,  4.59848694e-04,\n",
       "       -8.52460322e-05, -5.86099720e-06, -2.56480528e-05, -3.48476974e-05,\n",
       "        2.68545138e-04,  4.45253748e-06,  8.62979419e-04,  1.43083886e-05,\n",
       "        3.14343896e-05,  1.27330266e-06,  5.83976378e-05,  2.36549423e-06,\n",
       "       -2.10182745e-06,  8.93435097e-05, -6.75429778e-06,  2.87108568e-04,\n",
       "        7.90076480e-07, -3.28103458e-05, -2.77401219e-07,  1.15199353e-05,\n",
       "        2.42905278e-03,  3.39031453e-04,  3.39031453e-04,  4.73198142e-05,\n",
       "        2.99147272e-04,  8.44986379e-05,  8.44986379e-05,  5.35077459e-05,\n",
       "        8.99788566e-04,  1.49186924e-05,  1.25586660e-04,  2.08225445e-06,\n",
       "       -2.89744424e-04, -1.17365837e-05, -1.43848452e-04, -5.82682275e-06,\n",
       "       -7.04239265e-06,  2.99354771e-04, -9.82931551e-07,  4.17820000e-05,\n",
       "       -2.51329410e-06,  1.04372236e-04, -5.72821494e-08,  2.37881671e-06,\n",
       "        1.66653329e-04,  2.76314886e-06,  2.76314886e-06,  4.58136161e-08,\n",
       "        2.05175855e-04,  8.31099200e-06,  8.31099200e-06,  3.36650666e-07,\n",
       "       -1.84462783e-06,  7.84105872e-05, -3.05843353e-08,  1.30006479e-06,\n",
       "        7.55896095e-07, -3.13909006e-05,  3.06188387e-08, -1.27154106e-06,\n",
       "        1.02087725e-08, -4.33949781e-07, -4.33949781e-07,  1.84461367e-05,\n",
       "        1.77429021e-08, -7.36828357e-07, -7.36828357e-07,  3.05990544e-05])"
      ]
     },
     "execution_count": 41,
     "metadata": {},
     "output_type": "execute_result"
    }
   ],
   "source": [
    "X_sub[2]"
   ]
  },
  {
   "cell_type": "markdown",
   "metadata": {},
   "source": [
    "# Learning the formation energies of small molecules"
   ]
  },
  {
   "cell_type": "code",
   "execution_count": null,
   "metadata": {
    "code_folding": []
   },
   "outputs": [],
   "source": [
    "# Load the small molecules \n",
    "frames = read('./data/small_molecules-1000.xyz',':600')"
   ]
  },
  {
   "cell_type": "markdown",
   "metadata": {
    "heading_collapsed": true
   },
   "source": [
    "## learning utilities"
   ]
  },
  {
   "cell_type": "code",
   "execution_count": null,
   "metadata": {
    "code_folding": [
     13,
     20,
     31,
     33,
     35,
     37,
     47,
     54
    ],
    "hidden": true
   },
   "outputs": [],
   "source": [
    "def compute_representation(representation,frames):\n",
    "    expansions = soap.transform(frames)\n",
    "    return expansions\n",
    "\n",
    "def compute_kernel(zeta, rep1, rep2=None):\n",
    "    if rep2 is None:\n",
    "        kernel = rep1.cosine_kernel_global(zeta)\n",
    "    else:\n",
    "        kernel = rep1.cosine_kernel_global(rep2,zeta)\n",
    "    return kernel\n",
    "\n",
    "def extract_energy(frames):\n",
    "    prop = [[]]*len(frames)\n",
    "    for ii,cc in enumerate(frames):\n",
    "        prop[ii] = cc.info['dft_formation_energy_per_atom_in_eV']\n",
    "    y = np.array(prop)\n",
    "    return y\n",
    "\n",
    "def split_dataset(frames, test_fraction, seed=10):\n",
    "    N = len(frames)\n",
    "    ids = np.arange(N)\n",
    "    np.random.seed(seed)\n",
    "    np.random.shuffle(ids)\n",
    "    Ntrain = int(N*test_fraction)\n",
    "    train = ids[:Ntrain]\n",
    "    test = ids[Ntrain:]\n",
    "    targets = extract_energy(frames)\n",
    "    return [frames[ii] for ii in train],targets[train],[frames[ii] for ii in test],targets[test]\n",
    "\n",
    "def get_mae(ypred,y):\n",
    "    return np.mean(np.abs(ypred-y))\n",
    "def get_rmse(ypred,y):\n",
    "    return np.sqrt(np.mean((ypred-y)**2))\n",
    "def get_sup(ypred,y):\n",
    "    return np.amax(np.abs((ypred-y)))\n",
    "def get_r2(y_pred,y_true):\n",
    "    weight = 1\n",
    "    sample_weight = None\n",
    "    numerator = (weight * (y_true - y_pred) ** 2).sum(axis=0,dtype=np.float64)\n",
    "    denominator = (weight * (y_true - np.average(\n",
    "        y_true, axis=0, weights=sample_weight)) ** 2).sum(axis=0,dtype=np.float64)\n",
    "    output_scores = 1 - (numerator / denominator)\n",
    "    return np.mean(output_scores)\n",
    "\n",
    "\n",
    "score_func = dict(\n",
    "    MAE=get_mae,\n",
    "    RMSE=get_rmse,\n",
    "    SUP=get_sup,\n",
    "    R2=get_r2,\n",
    ")\n",
    "\n",
    "def get_score(ypred,y):\n",
    "    scores = {}\n",
    "    for k,func in score_func.items():\n",
    "        scores[k] = func(ypred,y)\n",
    "    return scores\n",
    "\n",
    "class KRR(object):\n",
    "    def __init__(self,zeta,weights,representation,X):\n",
    "        self.weights = weights\n",
    "        self.representation = representation\n",
    "        self.zeta = zeta\n",
    "        self.X = X\n",
    "        \n",
    "    def predict(self,frames):\n",
    "        features = compute_representation(self.representation,frames)\n",
    "        kernel = compute_kernel(self.zeta , self.X, features)\n",
    "        return np.dot(self.weights, kernel)\n",
    "    \n",
    "def train_krr_model(zeta,Lambda,representation,frames,y,jitter=1e-8):\n",
    "    features = compute_representation(representation,frames)\n",
    "    kernel = compute_kernel(zeta,features)    \n",
    "    # adjust the kernel so that it is properly scaled\n",
    "    delta = np.std(y) / np.mean(kernel.diagonal())\n",
    "    kernel[np.diag_indices_from(kernel)] += Lambda**2 / delta **2 + jitter\n",
    "    # train the krr model\n",
    "    weights = np.linalg.solve(kernel,y)\n",
    "    model = KRR(zeta, weights,representation, features)\n",
    "    return model,kernel\n",
    "\n"
   ]
  },
  {
   "cell_type": "markdown",
   "metadata": {
    "heading_collapsed": true
   },
   "source": [
    "## With the full power spectrum"
   ]
  },
  {
   "cell_type": "code",
   "execution_count": null,
   "metadata": {
    "hidden": true
   },
   "outputs": [],
   "source": [
    "hypers = dict(soap_type=\"PowerSpectrum\",\n",
    "              interaction_cutoff=3.5, \n",
    "              max_radial=6, \n",
    "              max_angular=6, \n",
    "              gaussian_sigma_constant=0.4,\n",
    "              gaussian_sigma_type=\"Constant\",\n",
    "              cutoff_smooth_width=0.5,\n",
    "              )\n",
    "soap = SOAP(**hypers)"
   ]
  },
  {
   "cell_type": "code",
   "execution_count": null,
   "metadata": {
    "hidden": true
   },
   "outputs": [],
   "source": [
    "frames_train, y_train, frames_test, y_test = split_dataset(frames,0.8)"
   ]
  },
  {
   "cell_type": "code",
   "execution_count": null,
   "metadata": {
    "hidden": true
   },
   "outputs": [],
   "source": [
    "zeta = 2\n",
    "Lambda = 5e-3\n",
    "krr,k = train_krr_model(zeta, Lambda, soap, frames_train, y_train)"
   ]
  },
  {
   "cell_type": "code",
   "execution_count": null,
   "metadata": {
    "hidden": true
   },
   "outputs": [],
   "source": [
    "y_pred = krr.predict(frames_test)\n",
    "get_score(y_pred, y_test)"
   ]
  },
  {
   "cell_type": "code",
   "execution_count": null,
   "metadata": {
    "hidden": true
   },
   "outputs": [],
   "source": [
    "plt.scatter(y_pred, y_test, s=3)\n",
    "plt.axis('scaled')\n",
    "plt.xlabel('DFT energy / (eV/atom)')\n",
    "plt.ylabel('Predicted energy / (eV/atom)')"
   ]
  },
  {
   "cell_type": "markdown",
   "metadata": {
    "heading_collapsed": true
   },
   "source": [
    "## With just the radial spectrum"
   ]
  },
  {
   "cell_type": "code",
   "execution_count": null,
   "metadata": {
    "hidden": true
   },
   "outputs": [],
   "source": [
    "hypers = dict(soap_type=\"RadialSpectrum\",\n",
    "              interaction_cutoff=3.5, \n",
    "              max_radial=6, \n",
    "              max_angular=0, \n",
    "              gaussian_sigma_constant=0.4,\n",
    "              gaussian_sigma_type=\"Constant\",\n",
    "              cutoff_smooth_width=0.5,\n",
    "              )\n",
    "soap = SOAP(**hypers)"
   ]
  },
  {
   "cell_type": "code",
   "execution_count": null,
   "metadata": {
    "hidden": true
   },
   "outputs": [],
   "source": [
    "frames_train, y_train, frames_test, y_test = split_dataset(frames,0.8)"
   ]
  },
  {
   "cell_type": "code",
   "execution_count": null,
   "metadata": {
    "hidden": true
   },
   "outputs": [],
   "source": [
    "zeta = 2\n",
    "Lambda = 5e-4\n",
    "krr,k = train_krr_model(zeta, Lambda, soap, frames_train, y_train)"
   ]
  },
  {
   "cell_type": "code",
   "execution_count": null,
   "metadata": {
    "hidden": true
   },
   "outputs": [],
   "source": [
    "y_pred = krr.predict(frames_test)\n",
    "get_score(y_pred, y_test)"
   ]
  },
  {
   "cell_type": "code",
   "execution_count": null,
   "metadata": {
    "hidden": true
   },
   "outputs": [],
   "source": [
    "plt.scatter(y_pred, y_test, s=3)\n",
    "plt.axis('scaled')\n",
    "plt.xlabel('DFT energy / (eV/atom)')\n",
    "plt.ylabel('Predicted energy / (eV/atom)')"
   ]
  },
  {
   "cell_type": "code",
   "execution_count": null,
   "metadata": {
    "hidden": true
   },
   "outputs": [],
   "source": []
  },
  {
   "cell_type": "markdown",
   "metadata": {},
   "source": [
    "# Make a map of the dataset"
   ]
  },
  {
   "cell_type": "markdown",
   "metadata": {
    "heading_collapsed": true
   },
   "source": [
    "## utils"
   ]
  },
  {
   "cell_type": "code",
   "execution_count": null,
   "metadata": {
    "hidden": true
   },
   "outputs": [],
   "source": [
    "def compute_representation(representation,frames):\n",
    "    expansions = soap.transform(frames)\n",
    "    return expansions\n",
    "\n",
    "def compute_kernel(zeta, rep1, rep2=None):\n",
    "    if rep2 is None:\n",
    "        kernel = rep1.cosine_kernel_global(zeta)\n",
    "    else:\n",
    "        kernel = rep1.cosine_kernel_global(rep2,zeta)\n",
    "    return kernel"
   ]
  },
  {
   "cell_type": "code",
   "execution_count": null,
   "metadata": {
    "code_folding": [
     0
    ],
    "hidden": true
   },
   "outputs": [],
   "source": [
    "def link_ngl_wdgt_to_ax_pos(ax, pos, ngl_widget):\n",
    "    from matplotlib.widgets import AxesWidget\n",
    "    from scipy.spatial import cKDTree\n",
    "    r\"\"\"\n",
    "    Initial idea for this function comes from @arose, the rest is @gph82 and @clonker\n",
    "    \"\"\"\n",
    "    \n",
    "    kdtree = cKDTree(pos)        \n",
    "    #assert ngl_widget.trajectory_0.n_frames == pos.shape[0]\n",
    "    x, y = pos.T\n",
    "    \n",
    "    lineh = ax.axhline(ax.get_ybound()[0], c=\"black\", ls='--')\n",
    "    linev = ax.axvline(ax.get_xbound()[0], c=\"black\", ls='--')\n",
    "    dot, = ax.plot(pos[0,0],pos[0,1], 'o', c='red', ms=7)\n",
    "\n",
    "    ngl_widget.isClick = False\n",
    "    \n",
    "    def onclick(event):\n",
    "        linev.set_xdata((event.xdata, event.xdata))\n",
    "        lineh.set_ydata((event.ydata, event.ydata))\n",
    "        data = [event.xdata, event.ydata]\n",
    "        _, index = kdtree.query(x=data, k=1)\n",
    "        dot.set_xdata((x[index]))\n",
    "        dot.set_ydata((y[index]))\n",
    "        ngl_widget.isClick = True\n",
    "        ngl_widget.frame = index\n",
    "    \n",
    "    def my_observer(change):\n",
    "        r\"\"\"Here comes the code that you want to execute\n",
    "        \"\"\"\n",
    "        ngl_widget.isClick = False\n",
    "        _idx = change[\"new\"]\n",
    "        try:\n",
    "            dot.set_xdata((x[_idx]))\n",
    "            dot.set_ydata((y[_idx]))            \n",
    "        except IndexError as e:\n",
    "            dot.set_xdata((x[0]))\n",
    "            dot.set_ydata((y[0]))\n",
    "            print(\"caught index error with index %s (new=%s, old=%s)\" % (_idx, change[\"new\"], change[\"old\"]))\n",
    "    \n",
    "    # Connect axes to widget\n",
    "    axes_widget = AxesWidget(ax)\n",
    "    axes_widget.connect_event('button_release_event', onclick)\n",
    "    \n",
    "    # Connect widget to axes\n",
    "    ngl_widget.observe(my_observer, \"frame\", \"change\")"
   ]
  },
  {
   "cell_type": "markdown",
   "metadata": {
    "heading_collapsed": true
   },
   "source": [
    "## make a map with kernel pca projection"
   ]
  },
  {
   "cell_type": "code",
   "execution_count": null,
   "metadata": {
    "hidden": true
   },
   "outputs": [],
   "source": [
    "# Load the small molecules \n",
    "frames = read('./data/small_molecules-1000.xyz',':600')"
   ]
  },
  {
   "cell_type": "code",
   "execution_count": null,
   "metadata": {
    "hidden": true
   },
   "outputs": [],
   "source": [
    "hypers = dict(soap_type=\"PowerSpectrum\",\n",
    "              interaction_cutoff=3.5, \n",
    "              max_radial=6, \n",
    "              max_angular=6, \n",
    "              gaussian_sigma_constant=0.4,\n",
    "              gaussian_sigma_type=\"Constant\",\n",
    "              cutoff_smooth_width=0.5,\n",
    "              )\n",
    "soap = SOAP(**hypers)"
   ]
  },
  {
   "cell_type": "code",
   "execution_count": null,
   "metadata": {
    "hidden": true
   },
   "outputs": [],
   "source": [
    "zeta = 2\n",
    "\n",
    "features = compute_representation(soap, frames)\n",
    "\n",
    "kernel = compute_kernel(zeta,features)"
   ]
  },
  {
   "cell_type": "code",
   "execution_count": null,
   "metadata": {
    "hidden": true
   },
   "outputs": [],
   "source": [
    "from sklearn.decomposition import KernelPCA"
   ]
  },
  {
   "cell_type": "code",
   "execution_count": null,
   "metadata": {
    "hidden": true
   },
   "outputs": [],
   "source": [
    "kpca = KernelPCA(n_components=2,kernel='precomputed')\n",
    "kpca.fit(kernel)"
   ]
  },
  {
   "cell_type": "code",
   "execution_count": null,
   "metadata": {
    "hidden": true
   },
   "outputs": [],
   "source": [
    "X = kpca.transform(kernel)"
   ]
  },
  {
   "cell_type": "code",
   "execution_count": null,
   "metadata": {
    "hidden": true
   },
   "outputs": [],
   "source": [
    "plt.scatter(X[:,0],X[:,1],s=3)"
   ]
  },
  {
   "cell_type": "markdown",
   "metadata": {},
   "source": [
    "## make an interactive map"
   ]
  },
  {
   "cell_type": "code",
   "execution_count": null,
   "metadata": {},
   "outputs": [],
   "source": [
    "# package to visualize the structures in the notebook\n",
    "# https://github.com/arose/nglview#released-version\n",
    "import nglview"
   ]
  },
  {
   "cell_type": "code",
   "execution_count": null,
   "metadata": {},
   "outputs": [],
   "source": [
    "iwdg = nglview.show_asetraj(frames)\n",
    "# set up the visualization\n",
    "iwdg.add_unitcell()\n",
    "iwdg.add_spacefill()\n",
    "iwdg.remove_ball_and_stick()\n",
    "iwdg.camera = 'orthographic'\n",
    "iwdg.parameters = { \"clipDist\": 0 }\n",
    "iwdg.center()\n",
    "iwdg.update_spacefill(radiusType='covalent',\n",
    "                                   scale=0.6,\n",
    "                                   color_scheme='element')\n",
    "iwdg._remote_call('setSize', target='Widget',\n",
    "                               args=['%dpx' % (600,), '%dpx' % (400,)])\n",
    "iwdg.player.delay = 200.0"
   ]
  },
  {
   "cell_type": "code",
   "execution_count": null,
   "metadata": {},
   "outputs": [],
   "source": [
    "link_ngl_wdgt_to_ax_pos(plt.gca(), X, iwdg)\n",
    "plt.scatter(X[:,0],X[:,1],s=3)\n",
    "iwdg"
   ]
  },
  {
   "cell_type": "code",
   "execution_count": null,
   "metadata": {},
   "outputs": [],
   "source": []
  }
 ],
 "metadata": {
  "celltoolbar": "Initialization Cell",
  "kernelspec": {
   "display_name": "py36",
   "language": "python",
   "name": "py36"
  },
  "language_info": {
   "codemirror_mode": {
    "name": "ipython",
    "version": 3
   },
   "file_extension": ".py",
   "mimetype": "text/x-python",
   "name": "python",
   "nbconvert_exporter": "python",
   "pygments_lexer": "ipython3",
   "version": "3.6.8"
  },
  "toc": {
   "base_numbering": 1,
   "nav_menu": {
    "height": "12px",
    "width": "252px"
   },
   "number_sections": true,
   "sideBar": true,
   "skip_h1_title": false,
   "title_cell": "Table of Contents",
   "title_sidebar": "Contents",
   "toc_cell": false,
   "toc_position": {},
   "toc_section_display": "block",
   "toc_window_display": false
  }
 },
 "nbformat": 4,
 "nbformat_minor": 2
}
