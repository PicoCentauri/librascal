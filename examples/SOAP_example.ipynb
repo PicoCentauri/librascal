{
 "cells": [
  {
   "cell_type": "markdown",
   "metadata": {},
   "source": [
    "# Using Rascal to Calculate SOAP Vectors\n",
    "\n",
    "This notebook is intended as an introductory how-to on calculating the SOAP vector and train a model for their atomization energies on these vectors. For more information on the variable conventions, derivation, utility, and calculation of SOAP vectors, please refer to (among others): \n",
    "- [On representing chemical environments (Bartók 2013)](https://journals.aps.org/prb/abstract/10.1103/PhysRevB.87.184115)\n",
    "- [Gaussian approximation potentials: A brief tutorial introduction (Bartók 2015)](https://onlinelibrary.wiley.com/doi/full/10.1002/qua.24927)\n",
    "- [Comparing molecules and solids across structural and alchemical space (De 2016)](https://pubs.rsc.org/en/content/articlepdf/2016/cp/c6cp00415f)\n",
    "\n",
    "Beyond libRascal, the packages used in this tutorial are:  [json](https://docs.python.org/2/library/json.html), [numpy](https://numpy.org/), [matplotlib](https://matplotlib.org/), and [ase](https://wiki.fysik.dtu.dk/ase/index.html)."
   ]
  },
  {
   "cell_type": "code",
   "execution_count": 1,
   "metadata": {
    "scrolled": true
   },
   "outputs": [
    {
     "data": {
      "application/vnd.jupyter.widget-view+json": {
       "model_id": "6599f83a1e7d4b58b240e11db620b005",
       "version_major": 2,
       "version_minor": 0
      },
      "text/plain": [
       "Button(description='Show README', style=ButtonStyle())"
      ]
     },
     "metadata": {},
     "output_type": "display_data"
    },
    {
     "data": {
      "application/vnd.jupyter.widget-view+json": {
       "model_id": "122a5c3d868b4b829b8a13ab8e79f221",
       "version_major": 2,
       "version_minor": 0
      },
      "text/plain": [
       "Output()"
      ]
     },
     "metadata": {},
     "output_type": "display_data"
    }
   ],
   "source": [
    "%matplotlib inline\n",
    "%reload_ext autoreload\n",
    "%autoreload 2\n",
    "from tutorial_utils import *\n",
    "try:\n",
    "    from rascal.representations import SphericalInvariants as SOAP\n",
    "except:\n",
    "    from rascal.representations import SOAP\n",
    "readme_button()"
   ]
  },
  {
   "cell_type": "markdown",
   "metadata": {},
   "source": [
    "### First, let's look at how we can use SOAP to represent small molecules.\n",
    "We will play around with the SOAP hyperparameters in later examples, but for now we'll use the default hyperparameters."
   ]
  },
  {
   "cell_type": "code",
   "execution_count": 2,
   "metadata": {
    "scrolled": true
   },
   "outputs": [
    {
     "data": {
      "text/markdown": [
       "Our input file is small_molecules-1000.xyz, of which we are using 197 frames."
      ],
      "text/plain": [
       "<IPython.core.display.Markdown object>"
      ]
     },
     "metadata": {},
     "output_type": "display_data"
    },
    {
     "data": {
      "text/markdown": [
       "<br/>Our hyperparameters are <table>  <thead><tr><th>Parameter</th><th>Value</th></tr></thead><tbody><tr><td>Body Order</td><td>PowerSpectrum</td></tr><tr><td>$r_{cut}$</td><td>3.5</td></tr><tr><td>$n_{max}$</td><td>2</td></tr><tr><td>$l_{max}$</td><td>1</td></tr><tr><td>$\\sigma$</td><td>0.5</td></tr></tbody></table>"
      ],
      "text/plain": [
       "<IPython.core.display.Markdown object>"
      ]
     },
     "metadata": {},
     "output_type": "display_data"
    }
   ],
   "source": [
    "mySOAP=SOAP_tutorial()\n",
    "mySOAP.output_params()"
   ]
  },
  {
   "cell_type": "markdown",
   "metadata": {},
   "source": [
    "Now let's look at the SOAP representation of our first frame"
   ]
  },
  {
   "cell_type": "code",
   "execution_count": 3,
   "metadata": {},
   "outputs": [
    {
     "data": {
      "text/markdown": [
       "Our first frame has 17 environments, thus our soap feature matrix has a shape of (17, 80)"
      ],
      "text/plain": [
       "<IPython.core.display.Markdown object>"
      ]
     },
     "metadata": {},
     "output_type": "display_data"
    }
   ],
   "source": [
    "soap = SOAP(**mySOAP.hyperparameters)\n",
    "X = soap.transform(mySOAP.frames[:1])\n",
    "\n",
    "mySOAP.verbosity_wrap(\"Our first frame has {} environments, thus our soap feature matrix has a shape of {}\".format(len(mySOAP.frames[0].positions), X.get_feature_matrix().T.shape, len(X.get_feature_matrix().T[0])))"
   ]
  },
  {
   "cell_type": "markdown",
   "metadata": {},
   "source": [
    "### Now we know how to retrieve SOAP vectors, let's look at the impact of the hyperparameters on training a Kernel Ridge Regression (KRR)\n",
    "This time when we open up the tutorial, you will be able to change the input file, hyperparameters, and property to use for the kernel ridge regression, which are saved to mySOAP as they are changed. We've even included some suggestions for hyperparameters, why not try the Power Spectrum first?"
   ]
  },
  {
   "cell_type": "code",
   "execution_count": 6,
   "metadata": {
    "scrolled": false
   },
   "outputs": [
    {
     "data": {
      "application/vnd.jupyter.widget-view+json": {
       "model_id": "f5ad17f41ac04a4b950b626296903066",
       "version_major": 2,
       "version_minor": 0
      },
      "text/plain": [
       "ToggleButtons(description='Input File: ', options=('small_molecules-1000.xyz', 'CSD-500.xyz'), style=ToggleBut…"
      ]
     },
     "metadata": {},
     "output_type": "display_data"
    },
    {
     "data": {
      "application/vnd.jupyter.widget-view+json": {
       "model_id": "13abf82072974c5a9fba1227f61e6bfc",
       "version_major": 2,
       "version_minor": 0
      },
      "text/plain": [
       "ToggleButtons(description='SOAP Presets: ', options=('Power Spectrum', 'Full Power Spectrum', 'Radial Spectrum…"
      ]
     },
     "metadata": {},
     "output_type": "display_data"
    },
    {
     "data": {
      "application/vnd.jupyter.widget-view+json": {
       "model_id": "09569b99188b438c91a0b35fc7c18fc0",
       "version_major": 2,
       "version_minor": 0
      },
      "text/plain": [
       "IntSlider(value=197, description='Number of Frames', max=985, style=SliderStyle(description_width='initial'))"
      ]
     },
     "metadata": {},
     "output_type": "display_data"
    },
    {
     "data": {
      "application/vnd.jupyter.widget-view+json": {
       "model_id": "f3ae950479584dc78d9f89cd0cc1d0cd",
       "version_major": 2,
       "version_minor": 0
      },
      "text/plain": [
       "Dropdown(description='Property to ML', options=('dft_formation_energy_per_atom_in_eV',), style=DescriptionStyl…"
      ]
     },
     "metadata": {},
     "output_type": "display_data"
    },
    {
     "data": {
      "application/vnd.jupyter.widget-view+json": {
       "model_id": "47a5572bf1e3421297c1a5b41af5f5fa",
       "version_major": 2,
       "version_minor": 0
      },
      "text/plain": [
       "Dropdown(description='Body Order', options=('PowerSpectrum', 'RadialSpectrum'), style=DescriptionStyle(descrip…"
      ]
     },
     "metadata": {},
     "output_type": "display_data"
    },
    {
     "data": {
      "application/vnd.jupyter.widget-view+json": {
       "model_id": "523417c8e042467ab061742e003ac5ea",
       "version_major": 2,
       "version_minor": 0
      },
      "text/plain": [
       "FloatSlider(value=3.5, description='$r_{cut}$', max=5.0, min=2.0, step=0.15, style=SliderStyle(description_wid…"
      ]
     },
     "metadata": {},
     "output_type": "display_data"
    },
    {
     "data": {
      "application/vnd.jupyter.widget-view+json": {
       "model_id": "87ef3eab073e44e1b992af5660e516dc",
       "version_major": 2,
       "version_minor": 0
      },
      "text/plain": [
       "IntSlider(value=2, description='$n_{max}$', max=10, style=SliderStyle(description_width='initial'))"
      ]
     },
     "metadata": {},
     "output_type": "display_data"
    },
    {
     "data": {
      "application/vnd.jupyter.widget-view+json": {
       "model_id": "c3b706de8ba04fdd9280909235856836",
       "version_major": 2,
       "version_minor": 0
      },
      "text/plain": [
       "IntSlider(value=1, description='$l_{max}$', max=10, style=SliderStyle(description_width='initial'))"
      ]
     },
     "metadata": {},
     "output_type": "display_data"
    },
    {
     "data": {
      "application/vnd.jupyter.widget-view+json": {
       "model_id": "0ac2c02277674c12866a15a898bff522",
       "version_major": 2,
       "version_minor": 0
      },
      "text/plain": [
       "FloatSlider(value=0.5, description='$\\\\sigma$', max=1.0, step=0.05, style=SliderStyle(description_width='initi…"
      ]
     },
     "metadata": {},
     "output_type": "display_data"
    }
   ],
   "source": [
    "mySOAP=SOAP_tutorial(interactive=True)"
   ]
  },
  {
   "cell_type": "code",
   "execution_count": 13,
   "metadata": {},
   "outputs": [
    {
     "data": {
      "text/plain": [
       "(500,)"
      ]
     },
     "execution_count": 13,
     "metadata": {},
     "output_type": "execute_result"
    }
   ],
   "source": [
    "mySOAP.properties[\"CS\"].shape"
   ]
  },
  {
   "cell_type": "code",
   "execution_count": 14,
   "metadata": {},
   "outputs": [
    {
     "data": {
      "text/markdown": [
       "Our input file is CSD-500.xyz, of which we are using 223 frames."
      ],
      "text/plain": [
       "<IPython.core.display.Markdown object>"
      ]
     },
     "metadata": {},
     "output_type": "display_data"
    },
    {
     "data": {
      "text/markdown": [
       "<br/>Our hyperparameters are <table>  <thead><tr><th>Parameter</th><th>Value</th></tr></thead><tbody><tr><td>Body Order</td><td>PowerSpectrum</td></tr><tr><td>$r_{cut}$</td><td>3.5</td></tr><tr><td>$n_{max}$</td><td>6</td></tr><tr><td>$l_{max}$</td><td>6</td></tr><tr><td>$\\sigma$</td><td>0.4</td></tr></tbody></table>"
      ],
      "text/plain": [
       "<IPython.core.display.Markdown object>"
      ]
     },
     "metadata": {},
     "output_type": "display_data"
    },
    {
     "data": {
      "text/markdown": [
       "<br/>We will now train a model on CS."
      ],
      "text/plain": [
       "<IPython.core.display.Markdown object>"
      ]
     },
     "metadata": {},
     "output_type": "display_data"
    },
    {
     "data": {
      "text/markdown": [
       "First, I am going to separate my dataset:"
      ],
      "text/plain": [
       "<IPython.core.display.Markdown object>"
      ]
     },
     "metadata": {},
     "output_type": "display_data"
    },
    {
     "data": {
      "text/markdown": [
       "<table>  <thead><tr><th>Partition</th><th>Number of Frames</th><th>Percentage</th></tr></thead><tbody><tr><td>Training Set</td><td>178</td><td>80</td></tr><tr><td>Testing Set</td><td>45</td><td>20</td></tr></tbody></table>"
      ],
      "text/plain": [
       "<IPython.core.display.Markdown object>"
      ]
     },
     "metadata": {},
     "output_type": "display_data"
    },
    {
     "data": {
      "text/markdown": [
       "<br/>Now we will compute the SOAP representation of our training frames."
      ],
      "text/plain": [
       "<IPython.core.display.Markdown object>"
      ]
     },
     "metadata": {},
     "output_type": "display_data"
    },
    {
     "data": {
      "text/markdown": [
       "This took 0.01183626 seconds/frame."
      ],
      "text/plain": [
       "<IPython.core.display.Markdown object>"
      ]
     },
     "metadata": {},
     "output_type": "display_data"
    },
    {
     "data": {
      "text/markdown": [
       "<br/>Next we find the kernel for our training model.<br/>(This step may take a few minutes for larger training sets.)"
      ],
      "text/plain": [
       "<IPython.core.display.Markdown object>"
      ]
     },
     "metadata": {},
     "output_type": "display_data"
    },
    {
     "data": {
      "text/markdown": [
       "<br/>We will adjust the diagonals of our kernel by 2e-08 so that it is properly scaled."
      ],
      "text/plain": [
       "<IPython.core.display.Markdown object>"
      ]
     },
     "metadata": {},
     "output_type": "display_data"
    },
    {
     "data": {
      "text/markdown": [
       "<br/>Now we can take this kernel to compute the weights of our KRR."
      ],
      "text/plain": [
       "<IPython.core.display.Markdown object>"
      ]
     },
     "metadata": {},
     "output_type": "display_data"
    }
   ],
   "source": [
    "mySOAP.train_krr_model()"
   ]
  },
  {
   "cell_type": "code",
   "execution_count": 15,
   "metadata": {
    "scrolled": false
   },
   "outputs": [
    {
     "data": {
      "text/markdown": [
       "<table>  <thead><tr><th>Statistic</th><th>Value</th></tr></thead><tbody><tr><td>SUP</td><td>117.30808051400622</td></tr><tr><td>MAE</td><td>8.71309380057964</td></tr><tr><td>RMSD</td><td>16.07519301703492</td></tr><tr><td>$R^2$</td><td>0.9526793305970386</td></tr></tbody></table>"
      ],
      "text/plain": [
       "<IPython.core.display.Markdown object>"
      ]
     },
     "metadata": {},
     "output_type": "display_data"
    },
    {
     "data": {
      "image/png": "[encoded data removed]",
      "text/plain": [
       "<Figure size 432x288 with 1 Axes>"
      ]
     },
     "metadata": {
      "needs_background": "light"
     },
     "output_type": "display_data"
    }
   ],
   "source": [
    "mySOAP.plot_prediction()"
   ]
  },
  {
   "cell_type": "markdown",
   "metadata": {},
   "source": [
    "## Now that we've explained the workflow, let's strip away the SOAP_tutorial wrapper and run the computation again:"
   ]
  },
  {
   "cell_type": "code",
   "execution_count": null,
   "metadata": {},
   "outputs": [],
   "source": [
    "from ase.io import read\n",
    "import numpy as np\n",
    "try:\n",
    "    from rascal.representations import SphericalInvariants as SOAP\n",
    "except:\n",
    "    from rascal.representations import SOAP\n",
    "\n",
    "def split_dataset(N, training_percentage, seed=20):\n",
    "    np.random.seed(seed)\n",
    "    ids = list(range(N))\n",
    "    np.random.shuffle(ids)\n",
    "    return ids[:int(training_percentage*N)], ids[int(training_percentage*N):]\n",
    "\n",
    "class KRR(object):\n",
    "    def __init__(self, zeta, weights, representation, X, kernel_type):\n",
    "        self.weights = weights\n",
    "        self.representation = representation\n",
    "        self.zeta = zeta\n",
    "        self.X = X\n",
    "        self.kernel_type=kernel_type\n",
    "\n",
    "    def predict(self,frames):\n",
    "        features = self.representation.transform(frames)\n",
    "        kernel_function = self.X.cosine_kernel_atomic if self.kernel_type=='atomic' else self.X.cosine_kernel_global\n",
    "        kernel = kernel_function(features, zeta) \n",
    "        return np.dot(self.weights, kernel)"
   ]
  },
  {
   "cell_type": "markdown",
   "metadata": {},
   "source": [
    "### These are the parameters you'll want change, such as we did above with the sliders.\n",
    "(Everything else in the workflow is a function of these parameters)"
   ]
  },
  {
   "cell_type": "code",
   "execution_count": null,
   "metadata": {},
   "outputs": [],
   "source": [
    "input_file = 'data/small_molecules-1000.xyz'\n",
    "hyperparameters = dict(soap_type = 'PowerSpectrum', \\\n",
    "                       interaction_cutoff = 3.5, \\\n",
    "                       max_radial = 2, \\\n",
    "                       max_angular = 1, \\\n",
    "                       gaussian_sigma_constant = 0.5, \\\n",
    "                       gaussian_sigma_type = 'Constant', \\\n",
    "                       cutoff_smooth_width = 0.0\n",
    "                      )\n",
    "property_to_ml = \"dft_formation_energy_per_atom_in_eV\"\n",
    "\n",
    "training_percentage = 0.8\n",
    "zeta = 2\n",
    "Lambda = 5e-3\n",
    "jitter=1e-8"
   ]
  },
  {
   "cell_type": "markdown",
   "metadata": {},
   "source": [
    "### Which are then used to compute:"
   ]
  },
  {
   "cell_type": "code",
   "execution_count": null,
   "metadata": {},
   "outputs": [],
   "source": [
    "frames = np.array(read(input_file,\":\"))\n",
    "number_of_frames = len(frames)\n",
    "representation = SOAP(**hyperparameters)\n",
    "property_values = np.array([cc.info[property_to_ml] for cc in frames])\n",
    "train_idx, test_idx = split_dataset(number_of_frames, training_percentage)\n",
    "features = representation.transform(frames[train_idx])"
   ]
  },
  {
   "cell_type": "markdown",
   "metadata": {},
   "source": [
    "### Then, you can construct the kernel for ML and feed it into a KRR Model:"
   ]
  },
  {
   "cell_type": "code",
   "execution_count": null,
   "metadata": {},
   "outputs": [],
   "source": [
    "kernel_function = features.cosine_kernel_atomic if property_to_ml == \"ENERGY\" else features.cosine_kernel_global\n",
    "kernel = kernel_function(zeta)\n",
    "\n",
    "delta = np.std(property_values[train_idx]) / np.mean(kernel.diagonal())\n",
    "kernel[np.diag_indices_from(kernel)] += Lambda**2 / delta **2 + jitter\n",
    "weights = np.linalg.solve(kernel,property_values[train_idx])"
   ]
  },
  {
   "cell_type": "code",
   "execution_count": null,
   "metadata": {},
   "outputs": [],
   "source": [
    "model = KRR(zeta, weights, representation, features, kernel_type='atomic' if property_to_ml==\"ENERGY\" else \"global\")"
   ]
  },
  {
   "cell_type": "markdown",
   "metadata": {},
   "source": [
    "### This model can be in turn used to predict the data from out testing set:"
   ]
  },
  {
   "cell_type": "code",
   "execution_count": null,
   "metadata": {},
   "outputs": [],
   "source": [
    "y_pred = model.predict(frames[test_idx])\n",
    "print(dict(\n",
    "        mean_average_error= [np.mean(np.abs(y_pred-property_values[test_idx]))],\n",
    "        root_mean_squared_error=[np.sqrt(np.mean((y_pred-property_values[test_idx])**2))],\n",
    "        R2 = [np.mean(1 - (((property_values[test_idx] - y_pred) ** 2).sum(axis=0,dtype=np.float64) / ((property_values[test_idx] - np.average(property_values[test_idx], axis=0) ** 2).sum(axis=0,dtype=np.float64))))]\n",
    "        ))\n",
    "plt.scatter(y_pred, property_values[test_idx], s=3)\n",
    "plt.axis('scaled')\n",
    "plt.xlabel('DFT energy / (eV/atom)')\n",
    "plt.ylabel('Predicted energy / (eV/atom)')\n",
    "plt.gca().set_aspect('equal')"
   ]
  }
 ],
 "metadata": {
  "celltoolbar": "Raw Cell Format",
  "kernelspec": {
   "display_name": "Python 3",
   "language": "python",
   "name": "python3"
  },
  "language_info": {
   "codemirror_mode": {
    "name": "ipython",
    "version": 3
   },
   "file_extension": ".py",
   "mimetype": "text/x-python",
   "name": "python",
   "nbconvert_exporter": "python",
   "pygments_lexer": "ipython3",
   "version": "3.6.8"
  },
  "toc": {
   "base_numbering": 1,
   "nav_menu": {
    "height": "12px",
    "width": "252px"
   },
   "number_sections": true,
   "sideBar": true,
   "skip_h1_title": false,
   "title_cell": "Table of Contents",
   "title_sidebar": "Contents",
   "toc_cell": false,
   "toc_position": {},
   "toc_section_display": "block",
   "toc_window_display": false
  }
 },
 "nbformat": 4,
 "nbformat_minor": 2
}
