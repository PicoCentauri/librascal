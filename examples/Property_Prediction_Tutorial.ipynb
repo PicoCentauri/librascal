{
 "cells": [
  {
   "cell_type": "markdown",
   "metadata": {},
   "source": [
    "# Using Rascal and SOAP to Predict Properties\n",
    "\n",
    "This notebook is intended as an introductory how-to on training a model on materials properties based upon SOAP vectors. For more information on the variable conventions, derivation, utility, and calculation of SOAP vectors, please refer to (among others): \n",
    "- [On representing chemical environments (Bartók 2013)](https://journals.aps.org/prb/abstract/10.1103/PhysRevB.87.184115)\n",
    "- [Gaussian approximation potentials: A brief tutorial introduction (Bartók 2015)](https://onlinelibrary.wiley.com/doi/full/10.1002/qua.24927)\n",
    "- [Comparing molecules and solids across structural and alchemical space (De 2016)](https://pubs.rsc.org/en/content/articlepdf/2016/cp/c6cp00415f)\n",
    "- [Machine Learning of Atomic-Scale Properties Based on Physical Principles (Ceriotti 2018)](https://link.springer.com/content/pdf/10.1007%2F978-3-319-42913-7_68-1.pdf)\n",
    "\n",
    "Beyond libRascal, the packages used in this tutorial are:  [json](https://docs.python.org/2/library/json.html), [numpy](https://numpy.org/), [ipywidgets](https://ipywidgets.readthedocs.io/en/latest/), [matplotlib](https://matplotlib.org/), and [ase](https://wiki.fysik.dtu.dk/ase/index.html)."
   ]
  },
  {
   "cell_type": "code",
   "execution_count": null,
   "metadata": {},
   "outputs": [],
   "source": [
    "%matplotlib inline\n",
    "%reload_ext autoreload\n",
    "%autoreload 2\n",
    "import sys\n",
    "sys.path.append('./utilities')\n",
    "from learning_utils import *\n",
    "try:\n",
    "    from rascal.representations import SphericalInvariants as SOAP\n",
    "except:\n",
    "    from rascal.representations import SOAP\n",
    "readme_button()"
   ]
  },
  {
   "cell_type": "markdown",
   "metadata": {},
   "source": [
    "# Code-Light Overview of Property Prediction"
   ]
  },
  {
   "cell_type": "markdown",
   "metadata": {},
   "source": [
    "## The Impact of the Hyperparameters on Training a Kernel Ridge Regression (KRR)\n",
    "This time when we open up the tutorial, you will be able to change the input file, hyperparameters, and property to use for the kernel ridge regression, which are saved to mySOAP as they are changed. We've even included some suggestions for hyperparameters, why not try the Power Spectrum first?"
   ]
  },
  {
   "cell_type": "code",
   "execution_count": null,
   "metadata": {},
   "outputs": [],
   "source": [
    "mySOAP=learning_tutorial(interactive=True)"
   ]
  },
  {
   "cell_type": "markdown",
   "metadata": {},
   "source": [
    "## Training the KRR"
   ]
  },
  {
   "cell_type": "code",
   "execution_count": null,
   "metadata": {},
   "outputs": [],
   "source": [
    "mySOAP.train_krr_model()"
   ]
  },
  {
   "cell_type": "markdown",
   "metadata": {},
   "source": [
    "## Predicting the Properties of our Test Set"
   ]
  },
  {
   "cell_type": "code",
   "execution_count": null,
   "metadata": {},
   "outputs": [],
   "source": [
    "mySOAP.predict_test_set()"
   ]
  },
  {
   "cell_type": "markdown",
   "metadata": {},
   "source": [
    "## Calculating the Properties of a New Dataset"
   ]
  },
  {
   "cell_type": "code",
   "execution_count": null,
   "metadata": {},
   "outputs": [],
   "source": [
    "mySOAP.predict_new_set(filename='./data/learning/small_molecules-1000.xyz')"
   ]
  },
  {
   "cell_type": "markdown",
   "metadata": {},
   "source": [
    "# Coding Prediction Explicitly\n",
    "Now that we've explained the workflow, let's strip away the learning_tutorial wrapper and run the computation again:"
   ]
  },
  {
   "cell_type": "markdown",
   "metadata": {},
   "source": [
    "## Imports and Helper Functions"
   ]
  },
  {
   "cell_type": "code",
   "execution_count": null,
   "metadata": {},
   "outputs": [],
   "source": [
    "from ase.io import read\n",
    "import numpy as np\n",
    "from rascal.models import Kernel\n",
    "try:\n",
    "    from rascal.representations import SphericalInvariants as SOAP\n",
    "except:\n",
    "    from rascal.representations import SOAP\n",
    "\n",
    "def split_dataset(N, training_percentage, seed=20):\n",
    "    np.random.seed(seed)\n",
    "    ids = list(range(N))\n",
    "    np.random.shuffle(ids)\n",
    "    return ids[:int(training_percentage*N)], ids[int(training_percentage*N):]\n",
    "\n",
    "\n",
    "def compute_kernel(calculator, features1, features2=None, kernel_type=\"Atomic\", **kwargs):\n",
    "    my_kernel = Kernel(representation=calculator, name='Cosine', \n",
    "            target_type=kernel_type, zeta=2, **kwargs)\n",
    "    return my_kernel(X=features1, Y=features2)\n",
    "\n",
    "class KRR(object):\n",
    "    \n",
    "    def __init__(self, weights, features, kernel_type, **kwargs):\n",
    "        self.weights = weights\n",
    "        self.hypers = dict(**kwargs)\n",
    "        self.calculator = SOAP(**kwargs)\n",
    "        self.X = features\n",
    "        self.kernel_type = kernel_type\n",
    "\n",
    "    def predict(self, frames):\n",
    "        features = self.calculator.transform(frames)\n",
    "        \n",
    "        kernel = compute_kernel(calculator=self.calculator,\n",
    "                                features1=self.X, features2=features,\n",
    "                                **self.hypers)\n",
    "        return np.dot(self.weights, kernel)"
   ]
  },
  {
   "cell_type": "markdown",
   "metadata": {},
   "source": [
    "## Setting the Inputs and Hyperparameters\n",
    "(Everything else in the workflow is a function of these parameters)"
   ]
  },
  {
   "cell_type": "code",
   "execution_count": null,
   "metadata": {},
   "outputs": [],
   "source": [
    "input_file = 'data/learning/small_molecules-1000.xyz'\n",
    "hyperparameters = dict(soap_type = 'PowerSpectrum', \\\n",
    "                       interaction_cutoff = 3.5, \\\n",
    "                       max_radial = 2, \\\n",
    "                       max_angular = 1, \\\n",
    "                       gaussian_sigma_constant = 0.5, \\\n",
    "                       gaussian_sigma_type = 'Constant', \\\n",
    "                       cutoff_smooth_width = 0.0\n",
    "                      )\n",
    "property_to_ml = \"dft_formation_energy_per_atom_in_eV\"\n",
    "kernel_type = \"Structure\"\n",
    "\n",
    "training_percentage = 0.8\n",
    "zeta = 2\n",
    "Lambda = 5e-3\n",
    "jitter=1e-8"
   ]
  },
  {
   "cell_type": "markdown",
   "metadata": {},
   "source": [
    "## Computing the representation and feature set"
   ]
  },
  {
   "cell_type": "code",
   "execution_count": null,
   "metadata": {},
   "outputs": [],
   "source": [
    "frames = np.array(read(input_file,\":\"))\n",
    "number_of_frames = int(len(frames)*0.1)\n",
    "print(number_of_frames)\n",
    "\n",
    "representation = SOAP(**hyperparameters)\n",
    "\n",
    "property_values = np.array([cc.info[property_to_ml] for cc in frames])\n",
    "\n",
    "train_idx, test_idx = split_dataset(number_of_frames, training_percentage)\n",
    "\n",
    "features = representation.transform(frames[train_idx])"
   ]
  },
  {
   "cell_type": "markdown",
   "metadata": {},
   "source": [
    "## Constructing the kernel for ML and KRR"
   ]
  },
  {
   "cell_type": "code",
   "execution_count": null,
   "metadata": {},
   "outputs": [],
   "source": [
    "kernel = compute_kernel(representation, \\\n",
    "                        features, \\\n",
    "                        kernel_type=kernel_type, \\\n",
    "                        **hyperparameters)\n",
    "\n",
    "delta = np.std(property_values[train_idx]) / np.mean(kernel.diagonal())\n",
    "kernel[np.diag_indices_from(kernel)] += Lambda**2 / delta **2 + jitter\n",
    "\n",
    "weights = np.linalg.solve(kernel,property_values[train_idx])\n",
    "\n",
    "model = KRR(weights, features, kernel_type, **hyperparameters)"
   ]
  },
  {
   "cell_type": "markdown",
   "metadata": {},
   "source": [
    "## Computing and Plotting the Prediction"
   ]
  },
  {
   "cell_type": "code",
   "execution_count": null,
   "metadata": {},
   "outputs": [],
   "source": [
    "from matplotlib import pyplot as plt\n",
    "y_pred = model.predict(frames[test_idx])\n",
    "print(dict(\n",
    "        mean_average_error= [np.mean(np.abs(y_pred-property_values[test_idx]))],\n",
    "        root_mean_squared_error=[np.sqrt(np.mean((y_pred-property_values[test_idx])**2))],\n",
    "        R2 = [np.mean(1 - (((property_values[test_idx] - y_pred) ** 2).sum(axis=0,dtype=np.float64) / ((property_values[test_idx] - np.average(property_values[test_idx], axis=0) ** 2).sum(axis=0,dtype=np.float64))))]\n",
    "        ))\n",
    "plt.scatter(y_pred, property_values[test_idx], s=3)\n",
    "plt.axis('scaled')\n",
    "plt.xlabel(property_to_ml)\n",
    "plt.ylabel('Predicted '+property_to_ml)\n",
    "plt.gca().set_aspect('equal')\n",
    "plt.show()"
   ]
  },
  {
   "cell_type": "markdown",
   "metadata": {},
   "source": [
    "## Predicting from Another Data Set"
   ]
  },
  {
   "cell_type": "code",
   "execution_count": null,
   "metadata": {},
   "outputs": [],
   "source": [
    "filename='./data/learning/small_molecules-1000.xyz'\n",
    "new_frames = read(filename,\":400\")\n",
    "new_property_values = np.array([cc.info[property_to_ml] for cc in new_frames])\n",
    "y_pred = model.predict(new_frames)\n",
    "\n",
    "print(dict(\n",
    "        mean_average_error= [np.mean(np.abs(y_pred-new_property_values))],\n",
    "        root_mean_squared_error=[np.sqrt(np.mean((y_pred-new_property_values)**2))],\n",
    "        R2 = [np.mean(1 - (((new_property_values - y_pred) ** 2).sum(axis=0,dtype=np.float64) / ((new_property_values - np.average(new_property_values, axis=0) ** 2).sum(axis=0,dtype=np.float64))))]\n",
    "        ))\n",
    "plt.scatter(y_pred, new_property_values, s=3)\n",
    "plt.axis('scaled')\n",
    "plt.xlabel(property_to_ml)\n",
    "plt.ylabel('Predicted '+property_to_ml)\n",
    "plt.gca().set_aspect('equal')"
   ]
  },
  {
   "cell_type": "code",
   "execution_count": null,
   "metadata": {},
   "outputs": [],
   "source": []
  }
 ],
 "metadata": {
  "celltoolbar": "Raw Cell Format",
  "kernelspec": {
   "display_name": "Python 3",
   "language": "python",
   "name": "python3"
  },
  "language_info": {
   "codemirror_mode": {
    "name": "ipython",
    "version": 3
   },
   "file_extension": ".py",
   "mimetype": "text/x-python",
   "name": "python",
   "nbconvert_exporter": "python",
   "pygments_lexer": "ipython3",
   "version": "3.6.8"
  },
  "toc": {
   "base_numbering": 1,
   "nav_menu": {
    "height": "12px",
    "width": "252px"
   },
   "number_sections": true,
   "sideBar": true,
   "skip_h1_title": false,
   "title_cell": "Table of Contents",
   "title_sidebar": "Contents",
   "toc_cell": false,
   "toc_position": {},
   "toc_section_display": "block",
   "toc_window_display": false
  }
 },
 "nbformat": 4,
 "nbformat_minor": 2
}
