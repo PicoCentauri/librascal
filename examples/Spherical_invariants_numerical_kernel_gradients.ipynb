{
 "cells": [
  {
   "cell_type": "markdown",
   "metadata": {},
   "source": [
    "To install rascal:\n",
    "(NOTE: See the top-level README for the most up-to-date installation instructions.)\n",
    "+ mkdir ../build \n",
    "+ cd build\n",
    "+ cmake -DCMAKE_BUILD_TYPE=Release -DBUILD_TESTS=ON ..\n",
    "+ make -j 4\n",
    "+ make install"
   ]
  },
  {
   "cell_type": "code",
   "execution_count": null,
   "metadata": {},
   "outputs": [],
   "source": [
    "!export OMP_NUM_THREADS=1\n",
    "from mkl import set_num_threads\n",
    "set_num_threads(1)"
   ]
  },
  {
   "cell_type": "code",
   "execution_count": null,
   "metadata": {
    "init_cell": true
   },
   "outputs": [],
   "source": [
    "%matplotlib inline\n",
    "from matplotlib import pylab as plt\n",
    "\n",
    "import os, sys\n",
    "from ase.io import read\n",
    "sys.path.insert(0,\"../build/\")\n",
    "\n",
    "import sys\n",
    "import time\n",
    "import rascal\n",
    "import json\n",
    "\n",
    "import ase\n",
    "from ase.io import read, write\n",
    "from ase.build import make_supercell\n",
    "from ase.visualize import view\n",
    "import numpy as np\n",
    "import sys\n",
    "\n",
    "import json\n",
    "\n",
    "from rascal.representations import SphericalInvariants\n",
    "from rascal.models import Kernel\n",
    "from rascal.utils import CURFilter"
   ]
  },
  {
   "cell_type": "code",
   "execution_count": null,
   "metadata": {
    "code_folding": [
     0
    ]
   },
   "outputs": [],
   "source": [
    "def json_writer(fn, frames):\n",
    "    import json\n",
    "    frame_dict = {}\n",
    "    for i_frame, ff in enumerate(frames):\n",
    "        frame_dict[str(i_frame)] = {\"cell\":ff.cell.tolist(), \"positions\":ff.positions.tolist(), \n",
    "                                    \"pbc\" : ff.pbc.tolist(), \"numbers\":ff.numbers.tolist()}\n",
    "    frame_dict[\"ids\"] = list(range(len(frames)))\n",
    "    frame_dict[\"nextid\"] =  len(frames)+1\n",
    "    with open(fn, 'w') as f:\n",
    "        json.dump(frame_dict,f,indent=2)"
   ]
  },
  {
   "cell_type": "markdown",
   "metadata": {
    "heading_collapsed": true
   },
   "source": [
    "# test computing sparse kernel gradient with finite differences"
   ]
  },
  {
   "cell_type": "code",
   "execution_count": null,
   "metadata": {
    "hidden": true
   },
   "outputs": [],
   "source": [
    "frames = read('../../replicated_input.xyz',':5')\n",
    "write('../reference_data/inputs/ni.json', frames)"
   ]
  },
  {
   "cell_type": "code",
   "execution_count": null,
   "metadata": {
    "hidden": true
   },
   "outputs": [],
   "source": [
    "# Load the small molecules \n",
    "# frames = read('../reference_data/inputs/small_molecules-20.json',':10')\n",
    "# frames = read('../reference_data/inputs/SiC_moissanite_supercell.json',':')"
   ]
  },
  {
   "cell_type": "code",
   "execution_count": null,
   "metadata": {
    "hidden": true
   },
   "outputs": [],
   "source": [
    "hypers = dict(soap_type=\"PowerSpectrum\",\n",
    "              interaction_cutoff=3.5, \n",
    "              max_radial=3, \n",
    "              max_angular=3, \n",
    "              gaussian_sigma_constant=0.4,\n",
    "              gaussian_sigma_type=\"Constant\",\n",
    "              cutoff_smooth_width=0.5,\n",
    "              normalize=False,\n",
    "              radial_basis=\"GTO\",\n",
    "              compute_gradients=False,\n",
    "              expansion_by_species_method='structure wise',\n",
    "              )\n",
    "soap = SphericalInvariants(**hypers)\n",
    "\n",
    "managers = soap.transform(frames)\n",
    "\n",
    "# Select pseudo input with CUR decomposition\n",
    "# n_pseudo = {1:5,6:5,8:5,7:5}\n",
    "# n_pseudo = {6:7,14:7}\n",
    "n_pseudo = {28:5}\n",
    "compressor = CURFilter(soap, n_pseudo, act_on='sample per specie')\n",
    "\n",
    "X_pseudo = compressor.fit_transform(managers)"
   ]
  },
  {
   "cell_type": "code",
   "execution_count": null,
   "metadata": {
    "hidden": true
   },
   "outputs": [],
   "source": [
    "str(compressor.selected_ids).replace('[','{').replace(']','}')\n",
    "compressor.selected_ids"
   ]
  },
  {
   "cell_type": "code",
   "execution_count": null,
   "metadata": {
    "code_folding": [],
    "hidden": true
   },
   "outputs": [],
   "source": [
    "hypers['compute_gradients'] =  True\n",
    "soap = SphericalInvariants(**hypers)\n",
    "zeta = 1\n",
    "kernel = Kernel(soap,name='GAP', zeta=zeta, target_type='Structure', kernel_type='Sparse')"
   ]
  },
  {
   "cell_type": "code",
   "execution_count": null,
   "metadata": {
    "hidden": true
   },
   "outputs": [],
   "source": [
    "# compute the reference\n",
    "managers = soap.transform([frames[0]])\n",
    "KNM_ref = kernel(managers, X_pseudo, compute_gradients=(True, False))"
   ]
  },
  {
   "cell_type": "code",
   "execution_count": null,
   "metadata": {
    "hidden": true
   },
   "outputs": [],
   "source": [
    "# test for one row\n",
    "def update_frame(frame, i_at, disp):\n",
    "    ff = frame.copy()\n",
    "    ff.positions[i_at] += np.asarray(disp)\n",
    "    return ff\n",
    "\n",
    "def compute_displaced_kernel(kernel, rep, frame, i_atom, disp, X_pseudo):\n",
    "    frame_d = update_frame(frame, i_atom, disp)\n",
    "    managers = rep.transform([frame_d])\n",
    "    KNM_d = kernel(managers, X_pseudo, compute_gradients=(False, False))\n",
    "    return KNM_d\n",
    "\n",
    "\n",
    "frame = frames[0]\n",
    "eps = 1e-5\n",
    "i_atom = 0\n",
    "disps = eps*np.array([[1,0,0],[-1,0,0],[0,1,0],[0,-1,0],[0,0,1],[0,0,-1],])\n",
    "kernel = Kernel(soap,name='GAP', zeta=zeta, target_type='Atom', kernel_type='Sparse')\n",
    "\n",
    "KNM_p = compute_displaced_kernel(kernel, soap, frame, i_atom, disps[0],X_pseudo)\n",
    "KNM_m = compute_displaced_kernel(kernel, soap, frame, i_atom, disps[1],X_pseudo)\n",
    "KNM_r_x = (KNM_p - KNM_m).sum(axis=0)  / (2*eps)\n",
    "np.allclose(KNM_r_x,KNM_ref[0])"
   ]
  },
  {
   "cell_type": "code",
   "execution_count": null,
   "metadata": {
    "hidden": true
   },
   "outputs": [],
   "source": [
    "# test for a whole structure\n",
    "def compute_numerical_kernel_gradient(kernel, representation, frame, X_pseudo, eps=1e-5):\n",
    "    disps = eps*np.array([[[1,0,0],[-1,0,0]],[[0,1,0],[0,-1,0]],[[0,0,1],[0,0,-1]]])\n",
    "    KNM_der = np.zeros((len(frame)*3, X_pseudo.size()))\n",
    "\n",
    "    for i_atom in range(len(frame)):\n",
    "        for i_der, disp in enumerate(disps):\n",
    "            KNM_p = compute_displaced_kernel(kernel, representation, frame, i_atom, disp[0], X_pseudo)\n",
    "            KNM_m = compute_displaced_kernel(kernel, representation, frame, i_atom, disp[1], X_pseudo)\n",
    "            KNM_der[i_atom*3+i_der] = (KNM_p - KNM_m).sum(axis=0) / (2*eps)\n",
    "    return KNM_der\n",
    "\n",
    "KNM_test = compute_numerical_kernel_gradient(kernel, soap, frame, X_pseudo)\n",
    "np.allclose(KNM_test,KNM_ref)"
   ]
  },
  {
   "cell_type": "code",
   "execution_count": null,
   "metadata": {
    "hidden": true
   },
   "outputs": [],
   "source": [
    "KNM_ref[0]"
   ]
  },
  {
   "cell_type": "code",
   "execution_count": null,
   "metadata": {
    "hidden": true
   },
   "outputs": [],
   "source": [
    "KNM_test[0]"
   ]
  },
  {
   "cell_type": "code",
   "execution_count": null,
   "metadata": {
    "hidden": true
   },
   "outputs": [],
   "source": [
    "np.vstack([KNM_test,KNM_ref]).shape,KNM_ref.shape"
   ]
  },
  {
   "cell_type": "markdown",
   "metadata": {
    "heading_collapsed": true
   },
   "source": [
    "# test molecules"
   ]
  },
  {
   "cell_type": "code",
   "execution_count": null,
   "metadata": {
    "hidden": true
   },
   "outputs": [],
   "source": [
    "# Load the small molecules \n",
    "frames = read('../reference_data/inputs/small_molecules-20.json',':5')\n",
    "n_pseudo = {1:3,6:3,8:3,7:3}\n",
    "\n",
    "hypers = dict(soap_type=\"PowerSpectrum\",\n",
    "              interaction_cutoff=3.5, \n",
    "              max_radial=3, \n",
    "              max_angular=3, \n",
    "              gaussian_sigma_constant=0.4,\n",
    "              gaussian_sigma_type=\"Constant\",\n",
    "              cutoff_smooth_width=0.5,\n",
    "              normalize=False,\n",
    "              radial_basis=\"GTO\",\n",
    "              compute_gradients=False,\n",
    "              expansion_by_species_method='structure wise',\n",
    "              )\n",
    "soap = SphericalInvariants(**hypers)\n",
    "\n",
    "managers = soap.transform(frames)\n",
    "\n",
    "\n",
    "compressor = CURFilter(soap, n_pseudo, act_on='sample per species')\n",
    "\n",
    "X_pseudo = compressor.fit_transform(managers)\n",
    "\n",
    "hypers['compute_gradients'] =  True\n",
    "soap = SphericalInvariants(**hypers)\n",
    "\n",
    "kernel = Kernel(soap, name='GAP', zeta=2, target_type='Atom', kernel_type='Sparse')\n",
    "\n",
    "managers = soap.transform(frames)\n",
    "KNM_ref = kernel(managers, X_pseudo, compute_gradients=(True, False))\n",
    "KNM_test = kernel(frames, X_pseudo, compute_gradients=(True, False), numerical_gradients=True)\n",
    "\n",
    "print(compressor.selected_ids)\n",
    "print(np.allclose(KNM_test,KNM_ref,rtol=1e-10,atol=1e-13))\n",
    "print(KNM_ref[0])\n",
    "print(KNM_test[0])"
   ]
  },
  {
   "cell_type": "markdown",
   "metadata": {},
   "source": [
    "# test diamond"
   ]
  },
  {
   "cell_type": "code",
   "execution_count": null,
   "metadata": {
    "code_folding": []
   },
   "outputs": [],
   "source": [
    "frames = read('../reference_data/inputs/diamond_cubic_distorted.json',':')\n",
    "n_pseudo = {6:5}\n",
    "\n",
    "\n",
    "hypers = dict(soap_type=\"PowerSpectrum\",\n",
    "              interaction_cutoff=3, \n",
    "              max_radial=3, \n",
    "              max_angular=3, \n",
    "              gaussian_sigma_constant=0.4,\n",
    "              gaussian_sigma_type=\"Constant\",\n",
    "              cutoff_smooth_width=0.5,\n",
    "              normalize=False,\n",
    "              radial_basis=\"GTO\",\n",
    "              compute_gradients=False,\n",
    "              expansion_by_species_method='structure wise',\n",
    "              )\n",
    "soap = SphericalInvariants(**hypers)\n",
    "\n",
    "managers = soap.transform(frames)\n",
    "\n",
    "\n",
    "compressor = CURFilter(soap, n_pseudo, act_on='sample per species')\n",
    "\n",
    "X_pseudo = compressor.fit_transform(managers)\n",
    "\n",
    "hypers['compute_gradients'] =  True\n",
    "soap = SphericalInvariants(**hypers)\n",
    "\n",
    "kernel = Kernel(soap, name='GAP', zeta=1, target_type='Atom', kernel_type='Sparse')\n",
    "\n",
    "managers = soap.transform(frames)\n",
    "KNM_ref = kernel(managers, X_pseudo, compute_gradients=(True, False))\n",
    "KNM_test = kernel(frames, X_pseudo, compute_gradients=(True, False), numerical_gradients=True)\n",
    "\n",
    "print(compressor.selected_ids)\n",
    "print(np.allclose(KNM_test,KNM_ref,rtol=1e-3,atol=1e-13))\n",
    "print(KNM_ref[0])\n",
    "print(KNM_test[0])"
   ]
  },
  {
   "cell_type": "code",
   "execution_count": null,
   "metadata": {},
   "outputs": [],
   "source": [
    "-7.76335e-07  -7.5826e-07 -7.76335e-07 -7.59014e-07 -7.56195e-07"
   ]
  },
  {
   "cell_type": "code",
   "execution_count": null,
   "metadata": {},
   "outputs": [],
   "source": [
    "from ase.neighborlist import neighbor_list\n",
    "\n",
    "frame = read('../reference_data/inputs/diamond_cubic_distorted.json')\n",
    "i, j, d, D, S = neighbor_list('ijdDS', frame, 3.5)"
   ]
  },
  {
   "cell_type": "code",
   "execution_count": null,
   "metadata": {},
   "outputs": [],
   "source": [
    "frame.get_cell_lengths_and_angles()"
   ]
  },
  {
   "cell_type": "code",
   "execution_count": null,
   "metadata": {},
   "outputs": [],
   "source": [
    "i"
   ]
  },
  {
   "cell_type": "code",
   "execution_count": null,
   "metadata": {},
   "outputs": [],
   "source": [
    "np.sort(d[i==0])"
   ]
  },
  {
   "cell_type": "code",
   "execution_count": null,
   "metadata": {},
   "outputs": [],
   "source": [
    "ase.Atom?"
   ]
  },
  {
   "cell_type": "code",
   "execution_count": null,
   "metadata": {},
   "outputs": [],
   "source": [
    "ff.set_atomic_numbers"
   ]
  },
  {
   "cell_type": "code",
   "execution_count": null,
   "metadata": {},
   "outputs": [],
   "source": [
    "ff = frame.copy()\n",
    "i_atom = 0\n",
    "i, j, d, D, S = neighbor_list('ijdDS', ff, 5)\n",
    "pp = ff.get_positions()\n",
    "ff.set_atomic_numbers(np.ones(len(ff)))\n",
    "ff.append(ase.Atom(position=pp[i_atom],symbol='C'))\n",
    "for jj,SS in zip(j[i==i_atom],S[i==i_atom]):\n",
    "    if jj == 5:\n",
    "        ff.append(ase.Atom(position=pp[jj]+SS.dot(ff.cell),symbol='C'))\n",
    "view(ff)"
   ]
  },
  {
   "cell_type": "code",
   "execution_count": null,
   "metadata": {},
   "outputs": [],
   "source": [
    "j[i == 0]"
   ]
  },
  {
   "cell_type": "code",
   "execution_count": null,
   "metadata": {},
   "outputs": [],
   "source": [
    "np.bincount(j[i == 0])"
   ]
  },
  {
   "cell_type": "code",
   "execution_count": null,
   "metadata": {},
   "outputs": [],
   "source": [
    "S[i == 0]"
   ]
  },
  {
   "cell_type": "code",
   "execution_count": null,
   "metadata": {},
   "outputs": [],
   "source": [
    "S[i == 0]"
   ]
  },
  {
   "cell_type": "code",
   "execution_count": null,
   "metadata": {},
   "outputs": [],
   "source": [
    "neighbor_list?"
   ]
  },
  {
   "cell_type": "markdown",
   "metadata": {
    "heading_collapsed": true
   },
   "source": [
    "# test ni"
   ]
  },
  {
   "cell_type": "code",
   "execution_count": null,
   "metadata": {
    "hidden": true
   },
   "outputs": [],
   "source": [
    "frames = read('../../replicated_input.xyz',':5')\n",
    "json_writer('../reference_data/inputs/ni.json',frames)"
   ]
  },
  {
   "cell_type": "code",
   "execution_count": null,
   "metadata": {
    "hidden": true
   },
   "outputs": [],
   "source": [
    "frames = read('../reference_data/inputs/ni.json',':4')\n",
    "n_pseudo = {28:5}\n",
    "\n",
    "\n",
    "hypers = dict(soap_type=\"PowerSpectrum\",\n",
    "              interaction_cutoff=5, \n",
    "              max_radial=3, \n",
    "              max_angular=3, \n",
    "              gaussian_sigma_constant=0.4,\n",
    "              gaussian_sigma_type=\"Constant\",\n",
    "              cutoff_smooth_width=0.5,\n",
    "              normalize=False,\n",
    "              radial_basis=\"GTO\",\n",
    "              compute_gradients=False,\n",
    "              expansion_by_species_method='structure wise',\n",
    "              )\n",
    "soap = SphericalInvariants(**hypers)\n",
    "\n",
    "managers = soap.transform(frames)\n",
    "\n",
    "\n",
    "compressor = CURFilter(soap, n_pseudo, act_on='sample per species')\n",
    "\n",
    "X_pseudo = compressor.fit_transform(managers)\n",
    "\n",
    "hypers['compute_gradients'] =  True\n",
    "soap = SphericalInvariants(**hypers)\n",
    "\n",
    "kernel = Kernel(soap, name='GAP', zeta=2, target_type='Atom', kernel_type='Sparse')\n",
    "\n",
    "managers = soap.transform(frames)\n",
    "KNM_ref = kernel(managers, X_pseudo, compute_gradients=(True, False))\n",
    "KNM_test = kernel(frames, X_pseudo, compute_gradients=(True, False), numerical_gradients=True)\n",
    "\n",
    "print(compressor.selected_ids)\n",
    "print(np.allclose(KNM_test,KNM_ref,rtol=1e-10,atol=1e-13))\n",
    "print(KNM_ref[0])\n",
    "print(KNM_test[0])"
   ]
  },
  {
   "cell_type": "code",
   "execution_count": null,
   "metadata": {
    "hidden": true
   },
   "outputs": [],
   "source": [
    "print(KNM_ref[559])\n",
    "print(KNM_test[559])"
   ]
  },
  {
   "cell_type": "markdown",
   "metadata": {
    "heading_collapsed": true
   },
   "source": [
    "# test ni-h"
   ]
  },
  {
   "cell_type": "code",
   "execution_count": null,
   "metadata": {
    "hidden": true
   },
   "outputs": [],
   "source": [
    "frames = read('../reference_data/inputs/ni.json',':5')\n",
    "for ff in frames:\n",
    "    ff.numbers[::2] = 1\n",
    "json_writer('../reference_data/inputs/ni-h.json',frames)"
   ]
  },
  {
   "cell_type": "code",
   "execution_count": null,
   "metadata": {
    "hidden": true
   },
   "outputs": [],
   "source": [
    "frames = read('../reference_data/inputs/ni-h.json',':5')\n",
    "n_pseudo = {28:5,1:5}\n",
    "\n",
    "\n",
    "hypers = dict(soap_type=\"PowerSpectrum\",\n",
    "              interaction_cutoff=5, \n",
    "              max_radial=3, \n",
    "              max_angular=3, \n",
    "              gaussian_sigma_constant=0.4,\n",
    "              gaussian_sigma_type=\"Constant\",\n",
    "              cutoff_smooth_width=0.5,\n",
    "              normalize=False,\n",
    "              radial_basis=\"GTO\",\n",
    "              compute_gradients=False,\n",
    "              expansion_by_species_method='structure wise',\n",
    "              )\n",
    "soap = SphericalInvariants(**hypers)\n",
    "\n",
    "managers = soap.transform(frames)\n",
    "\n",
    "\n",
    "compressor = CURFilter(soap, n_pseudo, act_on='sample per species')\n",
    "\n",
    "X_pseudo = compressor.fit_transform(managers)\n",
    "print(compressor.selected_ids)\n",
    "hypers['compute_gradients'] =  True\n",
    "soap = SphericalInvariants(**hypers)\n",
    "\n",
    "kernel = Kernel(soap, name='GAP', zeta=2, target_type='Atom', kernel_type='Sparse')\n",
    "\n",
    "managers = soap.transform(frames)\n",
    "KNM_ref = kernel(managers, X_pseudo, compute_gradients=(True, False))\n",
    "KNM_test = kernel(frames, X_pseudo, compute_gradients=(True, False), numerical_gradients=True)\n",
    "\n",
    "\n",
    "print(np.allclose(KNM_test,KNM_ref))\n",
    "print(KNM_ref[0])\n",
    "print(KNM_test[0])"
   ]
  },
  {
   "cell_type": "code",
   "execution_count": null,
   "metadata": {
    "hidden": true
   },
   "outputs": [],
   "source": []
  },
  {
   "cell_type": "markdown",
   "metadata": {
    "heading_collapsed": true
   },
   "source": [
    "# test the rascal infrastructure"
   ]
  },
  {
   "cell_type": "code",
   "execution_count": null,
   "metadata": {
    "hidden": true
   },
   "outputs": [],
   "source": [
    "# Load the small molecules \n",
    "frames = read('../reference_data/inputs/small_molecules-1000.xyz',':100')"
   ]
  },
  {
   "cell_type": "code",
   "execution_count": null,
   "metadata": {
    "hidden": true
   },
   "outputs": [],
   "source": [
    "hypers = dict(soap_type=\"PowerSpectrum\",\n",
    "              interaction_cutoff=3.5, \n",
    "              max_radial=3, \n",
    "              max_angular=3, \n",
    "              gaussian_sigma_constant=0.4,\n",
    "              gaussian_sigma_type=\"Constant\",\n",
    "              cutoff_smooth_width=0.5,\n",
    "              normalize=False,\n",
    "              radial_basis=\"GTO\",\n",
    "              compute_gradients=False,\n",
    "              expansion_by_species_method='structure wise',\n",
    "              )\n",
    "soap = SphericalInvariants(**hypers)\n",
    "\n",
    "managers = soap.transform(frames)\n",
    "\n",
    "# Select pseudo input with CUR decomposition\n",
    "n_pseudo = {1:10,6:10,8:10,7:10}\n",
    "\n",
    "compressor = CURFilter(soap, n_pseudo, act_on='sample per specie')\n",
    "\n",
    "X_pseudo = compressor.fit_transform(managers)"
   ]
  },
  {
   "cell_type": "code",
   "execution_count": null,
   "metadata": {
    "code_folding": [],
    "hidden": true
   },
   "outputs": [],
   "source": [
    "hypers['compute_gradients'] =  True\n",
    "soap = SphericalInvariants(**hypers)\n",
    "\n",
    "kernel = Kernel(soap, name='GAP', zeta=1, target_type='Structure', kernel_type='Sparse')"
   ]
  },
  {
   "cell_type": "code",
   "execution_count": null,
   "metadata": {
    "hidden": true
   },
   "outputs": [],
   "source": [
    "%%time\n",
    "# compute the reference\n",
    "managers = soap.transform(frames)\n",
    "KNM_ref = kernel(managers, X_pseudo, compute_gradients=(False, False))"
   ]
  },
  {
   "cell_type": "code",
   "execution_count": null,
   "metadata": {
    "hidden": true
   },
   "outputs": [],
   "source": [
    "%%time\n",
    "# compute the reference\n",
    "managers = soap.transform(frames)\n",
    "KNM_ref = kernel(managers, X_pseudo, compute_gradients=(True, False))"
   ]
  },
  {
   "cell_type": "code",
   "execution_count": null,
   "metadata": {
    "hidden": true
   },
   "outputs": [],
   "source": [
    "%%time\n",
    "KNM_test = kernel(frames, X_pseudo, compute_gradients=(True, False), numerical_gradients=True)\n",
    "np.allclose(KNM_test,KNM_ref)"
   ]
  },
  {
   "cell_type": "code",
   "execution_count": null,
   "metadata": {
    "code_folding": [],
    "hidden": true
   },
   "outputs": [],
   "source": [
    "# the numerical gradients are quite slow to compute so here is a way to speed it up\n",
    "# the kernel used has to be already in the namespace and in variable 'kernel'\n",
    "from concurrent.futures import as_completed, ProcessPoolExecutor, ThreadPoolExecutor\n",
    "from tqdm.notebook import tqdm\n",
    "\n",
    "def get_strides(frames):\n",
    "    Nstructures = len(frames)\n",
    "    Ngrad_stride = [0]\n",
    "    Ngrads = 0\n",
    "    for frame in frames:\n",
    "        n_at = len(frame)\n",
    "        Ngrad_stride.append(n_at*3)\n",
    "        Ngrads += n_at*3\n",
    "    Ngrad_stride = np.cumsum(Ngrad_stride)\n",
    "    return Nstructures,Ngrads,Ngrad_stride\n",
    "\n",
    "def compute_grad(i_frame, frame):\n",
    "    feat = kernel._rep.transform([frame])\n",
    "    grad_rows = kernel(feat, X_pseudo, grad=(True, False))\n",
    "    return grad_rows\n",
    "\n",
    "def compute_grad_numerical(i_frame,frame):\n",
    "    grad_rows = kernel([frame], X_pseudo, grad=(True, False), numerical_grad=True)\n",
    "    return grad_rows\n",
    "\n",
    "def compute_KNM(frames,max_workers=20, numerical_gradients=False):    \n",
    "    Nstructures,Ngrads,Ngrad_stride = get_strides(frames)\n",
    "    KNM = np.zeros((Ngrads, X_pseudo.size()))\n",
    "    pbar = tqdm(frames,desc='kernel',leave=False)\n",
    "    with ProcessPoolExecutor(max_workers=max_workers) as executor:\n",
    "        if not numerical_grad:\n",
    "            future_to_compute = {executor.submit(compute_grad,i_frame, frame):i_frame\n",
    "                                                     for i_frame,frame in enumerate(frames)}\n",
    "        else:\n",
    "            future_to_compute = {executor.submit(compute_grad_numerical,i_frame, frame):i_frame\n",
    "                                                     for i_frame,frame in enumerate(frames)}\n",
    "        for future in as_completed(future_to_compute):\n",
    "            i_frame = future_to_compute[future]\n",
    "            grad_rows = future.result()\n",
    "            KNM[Ngrad_stride[i_frame]:Ngrad_stride[i_frame+1]] = grad_rows\n",
    "            pbar.update()\n",
    "    return KNM\n"
   ]
  },
  {
   "cell_type": "code",
   "execution_count": null,
   "metadata": {
    "hidden": true
   },
   "outputs": [],
   "source": [
    "%%time\n",
    "kk = compute_KNM(frames, max_workers=1, numerical_gradients=False)\n",
    "np.allclose(kk,KNM_ref)"
   ]
  },
  {
   "cell_type": "code",
   "execution_count": null,
   "metadata": {
    "hidden": true
   },
   "outputs": [],
   "source": [
    "%%time\n",
    "kk = compute_KNM(frames, max_workers=4, numerical_gradients=True)\n",
    "np.allclose(kk,KNM_ref)"
   ]
  },
  {
   "cell_type": "markdown",
   "metadata": {},
   "source": [
    "# Compute derivatives with the bispectrum"
   ]
  },
  {
   "cell_type": "code",
   "execution_count": null,
   "metadata": {},
   "outputs": [],
   "source": [
    "# Load the small molecules \n",
    "frames = read('../reference_data/inputs/small_molecules-1000.xyz',':100')"
   ]
  },
  {
   "cell_type": "code",
   "execution_count": null,
   "metadata": {},
   "outputs": [],
   "source": [
    "hypers = dict(soap_type=\"BiSpectrum\",\n",
    "              interaction_cutoff=3.5, \n",
    "              max_radial=2, \n",
    "              max_angular=2, \n",
    "              gaussian_sigma_constant=0.5,\n",
    "              gaussian_sigma_type=\"Constant\",\n",
    "              cutoff_smooth_width=0.5,\n",
    "              normalize=False,\n",
    "              radial_basis=\"GTO\",\n",
    "              compute_gradients=False,\n",
    "              expansion_by_species_method='structure wise',\n",
    "              )\n",
    "soap = SphericalInvariants(**hypers)\n",
    "\n",
    "managers = soap.transform(frames)\n",
    "\n",
    "# Select pseudo input with CUR decomposition\n",
    "n_pseudo = {1:10,6:10,8:10,7:10}\n",
    "\n",
    "compressor = CURFilter(soap, n_pseudo, act_on='sample per specie')\n",
    "\n",
    "X_pseudo = compressor.fit_transform(managers)"
   ]
  },
  {
   "cell_type": "code",
   "execution_count": null,
   "metadata": {},
   "outputs": [],
   "source": [
    "hypers['compute_gradients'] =  False\n",
    "soap = SphericalInvariants(**hypers)\n",
    "\n",
    "kernel = Kernel(soap, name='GAP', zeta=1, target_type='Structure', kernel_type='Sparse')"
   ]
  },
  {
   "cell_type": "code",
   "execution_count": null,
   "metadata": {},
   "outputs": [],
   "source": [
    "%%time\n",
    "KNM = kernel(frames, X_pseudo, compute_gradients=(True, False), numerical_gradients=True)"
   ]
  },
  {
   "cell_type": "code",
   "execution_count": null,
   "metadata": {},
   "outputs": [],
   "source": []
  }
 ],
 "metadata": {
  "celltoolbar": "Initialization Cell",
  "kernelspec": {
   "display_name": "py36",
   "language": "python",
   "name": "py36"
  },
  "language_info": {
   "codemirror_mode": {
    "name": "ipython",
    "version": 3
   },
   "file_extension": ".py",
   "mimetype": "text/x-python",
   "name": "python",
   "nbconvert_exporter": "python",
   "pygments_lexer": "ipython3",
   "version": "3.6.7"
  },
  "toc": {
   "base_numbering": 1,
   "nav_menu": {
    "height": "12px",
    "width": "252px"
   },
   "number_sections": true,
   "sideBar": true,
   "skip_h1_title": false,
   "title_cell": "Table of Contents",
   "title_sidebar": "Contents",
   "toc_cell": false,
   "toc_position": {},
   "toc_section_display": "block",
   "toc_window_display": false
  }
 },
 "nbformat": 4,
 "nbformat_minor": 2
}
