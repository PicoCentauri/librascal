{
 "cells": [
  {
   "cell_type": "markdown",
   "metadata": {},
   "source": [
    "To install rascal:\n",
    "(NOTE: See the top-level README for the most up-to-date installation instructions.)\n",
    "+ mkdir ../build \n",
    "+ cd build\n",
    "+ cmake -DCMAKE_BUILD_TYPE=Release -DBUILD_TESTS=OFF ..\n",
    "+ make -j 4\n",
    "+ make install"
   ]
  },
  {
   "cell_type": "code",
   "execution_count": 1,
   "metadata": {
    "init_cell": true
   },
   "outputs": [
    {
     "name": "stderr",
     "output_type": "stream",
     "text": [
      "\n",
      "Bad key \"text.kerning_factor\" on line 4 in\n",
      "/local/ssd/miniconda/envs/py36/lib/python3.6/site-packages/matplotlib/mpl-data/stylelib/_classic_test_patch.mplstyle.\n",
      "You probably need to get an updated matplotlibrc file from\n",
      "https://github.com/matplotlib/matplotlib/blob/v3.1.3/matplotlibrc.template\n",
      "or from the matplotlib source distribution\n"
     ]
    }
   ],
   "source": [
    "%matplotlib inline\n",
    "from matplotlib import pylab as plt\n",
    "\n",
    "import os, sys\n",
    "from ase.io import read\n",
    "sys.path.insert(0,\"../build_x/\")\n",
    "\n",
    "import sys\n",
    "import time\n",
    "import rascal\n",
    "import json\n",
    "\n",
    "import ase\n",
    "from ase.io import read, write\n",
    "from ase.build import make_supercell\n",
    "from ase.visualize import view\n",
    "import numpy as np\n",
    "import sys\n",
    "\n",
    "import json\n",
    "\n",
    "from rascal.representations import SphericalInvariants\n",
    "from rascal.models import Kernel, SparsePoints, train_gap_model\n",
    "from rascal.models.IP_ase_interface import ASEMLCalculator\n",
    "from rascal.neighbourlist import AtomsList\n",
    "from rascal.utils import from_dict, to_dict, CURFilter, dump_obj, load_obj, get_score, print_score"
   ]
  },
  {
   "cell_type": "code",
   "execution_count": 2,
   "metadata": {},
   "outputs": [
    {
     "data": {
      "text/plain": [
       "'/tmp/tmpxax1x5sh'"
      ]
     },
     "execution_count": 2,
     "metadata": {},
     "output_type": "execute_result"
    }
   ],
   "source": [
    "import urllib.request\n",
    "# a collection of distorted ethanol molecules from the ANI-1 dataset \n",
    "# (see https://github.com/isayev/ANI1_dataset) with energies and forces computed using DFTB+ \n",
    "# (see https://www.dftbplus.org/)\n",
    "url = 'https://raw.githubusercontent.com/cosmo-epfl/librascal-example-data/833b4336a7daf471e16993158322b3ea807b9d3f/inputs/molecule_conformers_dftb.xyz'\n",
    "# Download the file from `url`, save it in a temporary directory and get the\n",
    "# path to it (e.g. '/tmp/tmpb48zma.txt') in the `structures_fn` variable:\n",
    "structures_fn, headers = urllib.request.urlretrieve(url)\n",
    "structures_fn"
   ]
  },
  {
   "cell_type": "markdown",
   "metadata": {},
   "source": [
    "# Utility functions"
   ]
  },
  {
   "cell_type": "code",
   "execution_count": 3,
   "metadata": {
    "init_cell": true
   },
   "outputs": [],
   "source": [
    "def extract_ref(frames,info_key='dft_formation_energy_per_atom_in_eV',array_key='zeros'):\n",
    "    y,f = [], []\n",
    "    for frame in frames:\n",
    "        y.append(frame.info[info_key])\n",
    "        if array_key is None:\n",
    "            pass\n",
    "        elif array_key == 'zeros':\n",
    "            f.append(np.zeros(frame.get_positions().shape))\n",
    "        else:\n",
    "            f.append(frame.get_array(array_key))\n",
    "    y= np.array(y)\n",
    "    try:\n",
    "        f = np.concatenate(f)\n",
    "    except:\n",
    "        pass\n",
    "    return y,f\n"
   ]
  },
  {
   "cell_type": "markdown",
   "metadata": {},
   "source": [
    "# Build a Force Field"
   ]
  },
  {
   "cell_type": "code",
   "execution_count": 4,
   "metadata": {
    "code_folding": []
   },
   "outputs": [],
   "source": [
    "# Total number of structure to load\n",
    "N = 2\n",
    "# Number of structure to train the model with\n",
    "f = int(0.8*N)\n",
    "\n",
    "# load the structures\n",
    "frames = read(structures_fn,':{}'.format(N))\n",
    "# frames = read('../')\n",
    "\n",
    "global_species = []\n",
    "for frame in frames:\n",
    "    global_species.extend(frame.get_atomic_numbers())\n",
    "global_species = np.unique(global_species)\n",
    "\n",
    "# split the structures in 2 sets\n",
    "ids = list(range(N))\n",
    "np.random.seed(10)\n",
    "np.random.shuffle(ids)\n",
    "\n",
    "train_ids = ids[:f]\n",
    "test_ids = ids[f:]\n",
    "\n",
    "frames_train = [frames[ii] for ii in ids[:f]]\n",
    "frames_test = [frames[ii] for ii in ids[f:]]\n",
    "\n",
    "# Isolated atom contributions\n",
    "self_contributions = {\n",
    "    1: -6.492647589968434,\n",
    "    6: -38.054950840332474,\n",
    "    8: -83.97955098636527,\n",
    "}"
   ]
  },
  {
   "cell_type": "code",
   "execution_count": 5,
   "metadata": {},
   "outputs": [],
   "source": [
    "# split the dataset in a train and a test set\n",
    "y_train, f_train = extract_ref(frames_train,'dftb_energy_eV','dftb_forces_eV_per_Ang')\n",
    "y_test, f_test = extract_ref(frames_test,'dftb_energy_eV','dftb_forces_eV_per_Ang')"
   ]
  },
  {
   "cell_type": "code",
   "execution_count": 6,
   "metadata": {},
   "outputs": [],
   "source": [
    "# define the parameters of the spherical expansion\n",
    "hypers = dict(soap_type=\"PowerSpectrum\",\n",
    "              interaction_cutoff=2., \n",
    "              max_radial=6, \n",
    "              max_angular=6, \n",
    "              gaussian_sigma_constant=0.4,\n",
    "              gaussian_sigma_type=\"Constant\",\n",
    "              cutoff_smooth_width=0.5,\n",
    "              normalize=True,\n",
    "              radial_basis=\"GTO\",\n",
    "              compute_gradients=True,\n",
    "              expansion_by_species_method='structure wise',\n",
    "              )\n",
    "\n",
    "\n",
    "soap = SphericalInvariants(**hypers)\n",
    "# compute the representation of all the structures\n",
    "managers = soap.transform(frames)"
   ]
  },
  {
   "cell_type": "code",
   "execution_count": 7,
   "metadata": {
    "code_folding": []
   },
   "outputs": [
    {
     "name": "stdout",
     "output_type": "stream",
     "text": [
      "The number of pseudo points selected by central atom species is: {1: 2, 6: 2, 8: 1}\n",
      "Selecting species: 1\n",
      "Reconstruction RMSE=2.025e+00\n",
      "Selecting species: 6\n",
      "Reconstruction RMSE=9.898e-01\n",
      "Selecting species: 8\n",
      "Reconstruction RMSE=2.296e-01\n"
     ]
    },
    {
     "data": {
      "text/plain": [
       "{1: array([ True,  True, False, False, False]),\n",
       " 6: array([False, False,  True,  True, False]),\n",
       " 8: array([False, False, False, False,  True])}"
      ]
     },
     "execution_count": 7,
     "metadata": {},
     "output_type": "execute_result"
    }
   ],
   "source": [
    "# select the sparse points for the sparse kernel method with CUR on the whole training set\n",
    "n_pseudo = {1:2,6:2,8:1}\n",
    "\n",
    "compressor = CURFilter(soap, n_pseudo, act_on='sample per species')\n",
    "X_pseudo = compressor.select_and_filter(managers)\n",
    "\n",
    "xs = X_pseudo.get_features()\n",
    "n_sparse,n_feat = xs.shape\n",
    "masks = {sp:np.zeros(n_sparse,dtype=bool) for sp in n_pseudo}\n",
    "ii = 0\n",
    "for sp, mask in masks.items():\n",
    "    mask[ii:ii+n_pseudo[sp]] = 1\n",
    "    ii = ii+n_pseudo[sp]\n",
    "masks"
   ]
  },
  {
   "cell_type": "code",
   "execution_count": 8,
   "metadata": {},
   "outputs": [],
   "source": [
    "from ase.neighborlist import neighbor_list"
   ]
  },
  {
   "cell_type": "code",
   "execution_count": 9,
   "metadata": {},
   "outputs": [
    {
     "data": {
      "text/plain": [
       "34"
      ]
     },
     "execution_count": 9,
     "metadata": {},
     "output_type": "execute_result"
    }
   ],
   "source": [
    "aa = 0\n",
    "for ff in frames_train:\n",
    "    i,j,d = neighbor_list('ijd',ff, cutoff=2)\n",
    "    aa += len(i)+len(ff)\n",
    "aa"
   ]
  },
  {
   "cell_type": "code",
   "execution_count": 10,
   "metadata": {},
   "outputs": [],
   "source": [
    "# set up the sparse kernel and compute the representation for the train set\n",
    "zeta = 1\n",
    "kernel = Kernel(soap, name='GAP', zeta=zeta, target_type='Structure', kernel_type='Sparse')\n",
    "\n",
    "managers_train = managers.get_subset(train_ids)"
   ]
  },
  {
   "cell_type": "code",
   "execution_count": 11,
   "metadata": {},
   "outputs": [
    {
     "data": {
      "text/plain": [
       "(30, 5)"
      ]
     },
     "execution_count": 11,
     "metadata": {},
     "output_type": "execute_result"
    }
   ],
   "source": [
    "KNM_ref = kernel(managers_train, X_pseudo,(True, False))\n",
    "KNM_ref.shape"
   ]
  },
  {
   "cell_type": "code",
   "execution_count": 12,
   "metadata": {},
   "outputs": [
    {
     "data": {
      "text/plain": [
       "(34, 2)"
      ]
     },
     "execution_count": 12,
     "metadata": {},
     "output_type": "execute_result"
    }
   ],
   "source": [
    "ij = managers_train.get_ij()\n",
    "ij.shape"
   ]
  },
  {
   "cell_type": "code",
   "execution_count": 13,
   "metadata": {},
   "outputs": [
    {
     "data": {
      "text/plain": [
       "(10, 34)"
      ]
     },
     "execution_count": 13,
     "metadata": {},
     "output_type": "execute_result"
    }
   ],
   "source": [
    "n_atoms = 0\n",
    "n_neigh = 0\n",
    "sps = []\n",
    "for manager in managers_train:\n",
    "    n_atoms += len(manager)\n",
    "    for at in manager:\n",
    "        n_neigh += at.nb_pairs\n",
    "        sps.append(at.atom_type)\n",
    "n_atoms, n_neigh "
   ]
  },
  {
   "cell_type": "code",
   "execution_count": 14,
   "metadata": {},
   "outputs": [
    {
     "data": {
      "text/plain": [
       "(array([0, 0, 1, 1, 1, 1, 1, 2, 2, 2, 3, 3, 3, 4, 4, 5, 5, 6, 6, 7, 8, 8,\n",
       "        9, 9]),\n",
       " array([1, 4, 5, 2, 6, 0, 4, 7, 3, 1, 9, 8, 2, 0, 1, 1, 6, 5, 1, 2, 3, 9,\n",
       "        8, 3]),\n",
       " array([1.39883337, 0.97750328, 1.11711165, 1.50354722, 1.08483922,\n",
       "        1.39883337, 1.91146664, 1.08656114, 1.33774864, 1.50354722,\n",
       "        1.10652254, 1.08953464, 1.33774864, 0.97750328, 1.91146664,\n",
       "        1.11711165, 1.71209476, 1.71209476, 1.08483922, 1.08656114,\n",
       "        1.08953464, 1.9008927 , 1.9008927 , 1.10652254]))"
      ]
     },
     "execution_count": 14,
     "metadata": {},
     "output_type": "execute_result"
    }
   ],
   "source": [
    "i,j,d"
   ]
  },
  {
   "cell_type": "code",
   "execution_count": 15,
   "metadata": {
    "scrolled": true
   },
   "outputs": [
    {
     "data": {
      "text/plain": [
       "(array([0, 0, 0, 1, 1, 1, 1, 1, 1, 2, 2, 2, 2, 3, 3, 3, 3, 4, 4, 4, 5, 5,\n",
       "        5, 6, 6, 6, 7, 7, 8, 8, 8, 9, 9, 9], dtype=int32),\n",
       " array([0, 1, 4, 1, 2, 0, 4, 5, 6, 2, 3, 7, 1, 3, 8, 9, 2, 4, 1, 0, 5, 1,\n",
       "        6, 6, 1, 5, 7, 2, 8, 3, 9, 9, 3, 8], dtype=int32))"
      ]
     },
     "execution_count": 15,
     "metadata": {},
     "output_type": "execute_result"
    }
   ],
   "source": [
    "ij[:,0],ij[:,1]"
   ]
  },
  {
   "cell_type": "code",
   "execution_count": 16,
   "metadata": {},
   "outputs": [],
   "source": [
    "\n",
    "X_der = managers_train.get_features_gradient(soap).reshape((3,n_neigh,n_feat))\n",
    "ee = np.zeros((3,n_atoms,n_feat))\n",
    "KNM = np.zeros((3,n_atoms,n_sparse))\n",
    "for ii,i in enumerate(ij[:,1]):\n",
    "    ee[0,i] += X_der[0,ii]\n",
    "    ee[1,i] += X_der[1,ii]\n",
    "    ee[2,i] += X_der[2,ii]\n",
    "\n",
    "for ii , sp in enumerate(sps):  \n",
    "    KNM[0, ii, masks[sp]] = np.dot(ee[0,ii],xs[masks[sp]].T)\n",
    "    KNM[1, ii, masks[sp]] = np.dot(ee[1,ii],xs[masks[sp]].T)\n",
    "    KNM[2, ii, masks[sp]] = np.dot(ee[2,ii],xs[masks[sp]].T)\n",
    "KNM = KNM.reshape((-1,n_sparse))"
   ]
  },
  {
   "cell_type": "code",
   "execution_count": 17,
   "metadata": {},
   "outputs": [
    {
     "data": {
      "text/plain": [
       "False"
      ]
     },
     "execution_count": 17,
     "metadata": {},
     "output_type": "execute_result"
    }
   ],
   "source": [
    "np.allclose(KNM_ref,KNM)"
   ]
  },
  {
   "cell_type": "code",
   "execution_count": 18,
   "metadata": {},
   "outputs": [
    {
     "data": {
      "text/plain": [
       "<matplotlib.colorbar.Colorbar at 0x7f15e6002550>"
      ]
     },
     "execution_count": 18,
     "metadata": {},
     "output_type": "execute_result"
    },
    {
     "data": {
      "image/png": "[encoded data removed]",
      "text/plain": [
       "<Figure size 432x288 with 2 Axes>"
      ]
     },
     "metadata": {
      "needs_background": "light"
     },
     "output_type": "display_data"
    }
   ],
   "source": [
    "plt.imshow(X_der.reshape((-1,n_feat))[:,:100])\n",
    "plt.colorbar()"
   ]
  },
  {
   "cell_type": "code",
   "execution_count": 19,
   "metadata": {},
   "outputs": [
    {
     "data": {
      "text/plain": [
       "<matplotlib.colorbar.Colorbar at 0x7f15e5eec588>"
      ]
     },
     "execution_count": 19,
     "metadata": {},
     "output_type": "execute_result"
    },
    {
     "data": {
      "image/png": "[encoded data removed]",
      "text/plain": [
       "<Figure size 432x288 with 2 Axes>"
      ]
     },
     "metadata": {
      "needs_background": "light"
     },
     "output_type": "display_data"
    }
   ],
   "source": [
    "plt.imshow(np.abs(KNM_ref-KNM)[:20])\n",
    "plt.colorbar()"
   ]
  },
  {
   "cell_type": "code",
   "execution_count": 20,
   "metadata": {},
   "outputs": [
    {
     "data": {
      "image/png": "[encoded data removed]",
      "text/plain": [
       "<Figure size 432x288 with 2 Axes>"
      ]
     },
     "metadata": {
      "needs_background": "light"
     },
     "output_type": "display_data"
    },
    {
     "data": {
      "text/plain": [
       "<matplotlib.colorbar.Colorbar at 0x7f15e5dbe630>"
      ]
     },
     "execution_count": 20,
     "metadata": {},
     "output_type": "execute_result"
    },
    {
     "data": {
      "image/png": "[encoded data removed]",
      "text/plain": [
       "<Figure size 432x288 with 2 Axes>"
      ]
     },
     "metadata": {
      "needs_background": "light"
     },
     "output_type": "display_data"
    }
   ],
   "source": [
    "plt.imshow(KNM_ref[:20])\n",
    "plt.colorbar()\n",
    "plt.show()\n",
    "plt.imshow(KNM[:20])\n",
    "plt.colorbar()"
   ]
  },
  {
   "cell_type": "code",
   "execution_count": 21,
   "metadata": {},
   "outputs": [],
   "source": [
    "# build the KNM matrix for training with forces and energies (see train_gap_model for more details)\n",
    "KNM = kernel(managers_train, X_pseudo)\n",
    "KNM_down = kernel(managers_train, X_pseudo, grad=(True, False))\n",
    "KNM = np.vstack([KNM, KNM_down])\n",
    "del KNM_down\n",
    "KNM_down = []\n"
   ]
  },
  {
   "cell_type": "code",
   "execution_count": null,
   "metadata": {},
   "outputs": [],
   "source": [
    "# train a GAP model \n",
    "model = train_gap_model(kernel, managers_train, KNM, X_pseudo, y_train, self_contributions, \n",
    "                        grad_train=-f_train, lambdas=[1e-12, 1e-12], jitter=1e-13)\n",
    "# model = train_gap_model(kernel, managers_train, KNM[:len(managers_train)], X_pseudo, y_train, self_contributions, \n",
    "#                         grad_train=None, lambdas=[1e-6, 1e-2], jitter=1e-7)\n"
   ]
  },
  {
   "cell_type": "code",
   "execution_count": null,
   "metadata": {},
   "outputs": [],
   "source": [
    "# # the model can be serialized to a python dictionary\n",
    "# model_serialized = to_dict(model)\n",
    "# # and recovered from such dictionary\n",
    "# model_copy = from_dict(model_serialized)"
   ]
  },
  {
   "cell_type": "code",
   "execution_count": null,
   "metadata": {},
   "outputs": [],
   "source": [
    "# make predictions on the test set\n",
    "managers_test = managers.get_subset(test_ids)\n",
    "y_pred = model.predict(managers_test)\n",
    "f_pred = model.predict_forces(managers_test)"
   ]
  },
  {
   "cell_type": "code",
   "execution_count": null,
   "metadata": {},
   "outputs": [],
   "source": [
    "# basic assessement of the quality of the trained model\n",
    "print_score(y_pred, y_test)\n",
    "print_score(f_pred.flatten(), f_test.flatten())\n",
    "plt.plot(y_test, y_pred, 'o')\n",
    "plt.title(\"correlation plot\")\n",
    "plt.xlabel(\"predicted energies [eV]\")\n",
    "plt.ylabel(\"reference energies [eV]\")"
   ]
  },
  {
   "cell_type": "code",
   "execution_count": null,
   "metadata": {},
   "outputs": [],
   "source": [
    "# save the model to a file in json format for future use\n",
    "dump_obj('/tmp/mymodel.json', model)"
   ]
  },
  {
   "cell_type": "markdown",
   "metadata": {},
   "source": [
    "# Test the model on dimer configurations"
   ]
  },
  {
   "cell_type": "code",
   "execution_count": null,
   "metadata": {},
   "outputs": [],
   "source": [
    "# you can load the previously trained model\n",
    "model = load_obj('/tmp/mymodel.json')"
   ]
  },
  {
   "cell_type": "code",
   "execution_count": null,
   "metadata": {},
   "outputs": [],
   "source": [
    "#creating atoms pairs, H is 1, C is 6 and O is 8, the first atom is the origin one\n",
    "pairs = [[1,1],[6,6],[8,8],[6,1],[8,1],[6,8]]\n",
    "ndists = 40 #number of distances to look at\n",
    "dists = np.linspace(0.1,4.9,ndists) #distance list, can be changed \n",
    "print('Number of configurations: ', len(pairs)*len(dists))"
   ]
  },
  {
   "cell_type": "code",
   "execution_count": null,
   "metadata": {},
   "outputs": [],
   "source": [
    "frames = []\n",
    "for p in pairs:\n",
    "    for d in dists:\n",
    "        #using ase we can create the cell and place the atoms\n",
    "        atoms = ase.Atoms(numbers=p,pbc=False,cell=np.eye(3)*10,positions=[[0,0,0],[d,0,0]])\n",
    "        frames.append(atoms)\n",
    "X = soap.transform(frames)\n",
    "e_pairs = model.predict(X)\n",
    "e_pairs -= e_pairs.mean()"
   ]
  },
  {
   "cell_type": "code",
   "execution_count": null,
   "metadata": {},
   "outputs": [],
   "source": [
    "for pair_to_plot in pairs:\n",
    "    i = pairs.index(pair_to_plot)\n",
    "\n",
    "    fig, ax = plt.subplots()\n",
    "    ax.plot(dists,e_pairs[i*ndists:(i+1)*ndists],'--xb',linewidth=1)\n",
    "    # ax.plot(dists,f_pairs[i*ndists:(i+1)*ndists],'--xr',linewidth=1)\n",
    "    ax.set_xlabel('Distance (A)')\n",
    "    ax.set_ylabel('Predicted energy (eV)')\n",
    "    ax.set_title('Bond energy between {} and {}'.format(*pair_to_plot))\n",
    "    plt.tight_layout()\n",
    "    plt.show()"
   ]
  },
  {
   "cell_type": "markdown",
   "metadata": {},
   "source": [
    "# Use it to run a MD simulation"
   ]
  },
  {
   "cell_type": "code",
   "execution_count": null,
   "metadata": {},
   "outputs": [],
   "source": [
    "from ase.md import MDLogger\n",
    "from ase.md.langevin import Langevin\n",
    "from ase import units\n",
    "from ase.io.trajectory import Trajectory\n",
    "from ase.md.velocitydistribution import MaxwellBoltzmannDistribution"
   ]
  },
  {
   "cell_type": "code",
   "execution_count": null,
   "metadata": {},
   "outputs": [],
   "source": [
    "from rascal.models.IP_ase_interface import ASEMLCalculator"
   ]
  },
  {
   "cell_type": "code",
   "execution_count": null,
   "metadata": {},
   "outputs": [],
   "source": [
    "# you can load the previously trained model\n",
    "model = load_obj('/tmp/mymodel.json')\n",
    "soap = model.get_representation_calculator()\n",
    "calc = ASEMLCalculator(model, soap)"
   ]
  },
  {
   "cell_type": "code",
   "execution_count": null,
   "metadata": {},
   "outputs": [],
   "source": [
    "%%time\n",
    "log_fn = '/tmp/md.log'\n",
    "filename = '/tmp/md.traj'\n",
    "\n",
    "T = 200\n",
    "\n",
    "atoms = read(structures_fn, 0)\n",
    "\n",
    "MaxwellBoltzmannDistribution(atoms, T* units.kB)\n",
    "\n",
    "atoms.set_calculator(calc)\n",
    "\n",
    "traj = Trajectory(filename, mode='w', atoms=atoms, master=None)\n",
    "\n",
    "dyn = Langevin(atoms, 0.5 * units.fs, units.kB * T, 0.002)\n",
    "\n",
    "dyn.attach(MDLogger(dyn, atoms, log_fn, header=True, stress=False,\n",
    "           peratom=False, mode=\"w\"), interval=50)\n",
    "\n",
    "dyn.attach(traj.write, interval=10)\n",
    "\n",
    "dyn.run(2000)"
   ]
  },
  {
   "cell_type": "code",
   "execution_count": null,
   "metadata": {},
   "outputs": [],
   "source": [
    "view(read(filename,':'))"
   ]
  },
  {
   "cell_type": "code",
   "execution_count": null,
   "metadata": {},
   "outputs": [],
   "source": []
  }
 ],
 "metadata": {
  "celltoolbar": "Initialization Cell",
  "kernelspec": {
   "display_name": "py36",
   "language": "python",
   "name": "py36"
  },
  "language_info": {
   "codemirror_mode": {
    "name": "ipython",
    "version": 3
   },
   "file_extension": ".py",
   "mimetype": "text/x-python",
   "name": "python",
   "nbconvert_exporter": "python",
   "pygments_lexer": "ipython3",
   "version": "3.6.8"
  },
  "latex_envs": {
   "LaTeX_envs_menu_present": true,
   "autoclose": false,
   "autocomplete": true,
   "bibliofile": "biblio.bib",
   "cite_by": "apalike",
   "current_citInitial": 1,
   "eqLabelWithNumbers": true,
   "eqNumInitial": 1,
   "hotkeys": {
    "equation": "Ctrl-E",
    "itemize": "Ctrl-I"
   },
   "labels_anchors": false,
   "latex_user_defs": false,
   "report_style_numbering": false,
   "user_envs_cfg": false
  },
  "toc": {
   "base_numbering": 1,
   "nav_menu": {
    "height": "12px",
    "width": "252px"
   },
   "number_sections": true,
   "sideBar": true,
   "skip_h1_title": false,
   "title_cell": "Table of Contents",
   "title_sidebar": "Contents",
   "toc_cell": false,
   "toc_position": {},
   "toc_section_display": "block",
   "toc_window_display": false
  }
 },
 "nbformat": 4,
 "nbformat_minor": 2
}
