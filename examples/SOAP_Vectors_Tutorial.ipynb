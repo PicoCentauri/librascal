{
 "cells": [
  {
   "cell_type": "markdown",
   "metadata": {
    "deletable": true,
    "editable": true
   },
   "source": [
    "# Using Rascal to Calculate SOAP Vectors\n",
    "\n",
    "This notebook is intended as an introductory to calculating and understanding SOAP vectors. For more information on the variable conventions, derivation, and utility of SOAP vectors, please refer to (among others): \n",
    "- [On representing chemical environments (Bartók 2013)](https://journals.aps.org/prb/abstract/10.1103/PhysRevB.87.184115)\n",
    "- [Gaussian approximation potentials: A brief tutorial introduction (Bartók 2015)](https://onlinelibrary.wiley.com/doi/full/10.1002/qua.24927)\n",
    "- [Comparing molecules and solids across structural and alchemical space (De 2016)](https://pubs.rsc.org/en/content/articlepdf/2016/cp/c6cp00415f)\n",
    "- [Machine Learning of Atomic-Scale Properties Based on Physical Principles (Ceriotti 2018)](https://link.springer.com/content/pdf/10.1007%2F978-3-319-42913-7_68-1.pdf)\n",
    "\n",
    "Beyond libRascal, the packages used in this tutorial are:  [json](https://docs.python.org/2/library/json.html), [numpy](https://numpy.org/), [ipywidgets](https://ipywidgets.readthedocs.io/en/latest/), [matplotlib](https://matplotlib.org/), and [ase](https://wiki.fysik.dtu.dk/ase/index.html)."
   ]
  },
  {
   "cell_type": "code",
   "execution_count": null,
   "metadata": {
    "deletable": true,
    "editable": true
   },
   "outputs": [],
   "source": [
    "%matplotlib inline\n",
    "%reload_ext autoreload\n",
    "%autoreload 2\n",
    "from IPython.display import Image\n",
    "import sys\n",
    "sys.path.append('./utilities')\n",
    "from tutorial_utils import *\n",
    "try:\n",
    "    from rascal.representations import SphericalInvariants as SOAP\n",
    "except:\n",
    "    from rascal.representations import SOAP\n",
    "readme_button()"
   ]
  },
  {
   "cell_type": "markdown",
   "metadata": {},
   "source": [
    "# Disclaimer\n",
    "\n",
    "This notebook uses Dirac notation, which may be unfamiliar to many. For a refresher on Dirac notation, check out any of these resources: [Wikipedia](https://en.wikipedia.org/wiki/Bra%E2%80%93ket_notation), [GA Tech](http://vergil.chemistry.gatech.edu/notes/intro_estruc/node5.html).\n"
   ]
  },
  {
   "cell_type": "markdown",
   "metadata": {
    "deletable": true,
    "editable": true
   },
   "source": [
    "# This is going to look rill rough for a bit\n",
    "In the search for novel materials through computational discovery, it is often necessary to simulate at the limits of computational space and time complexity. Atomic descriptors can make room for greater algorithmic complexity by eliminating unnecessary information or compressing atomic information efficiently. Furthermore, the descriptors ascribed to an atomic environment may prove greater correlation to the properties exhibited by such a material. For example, a common descriptor XX correlates with property XX more than the raw positional and elemental data.\n",
    "\n",
    "When developing atomic environment descriptors, the ideal descriptor is that which is most compact while losing the least information. For example, consider a descriptor which simply contains the number of atoms in the molecule. While compact (scalar), the information loss would be too great (there would be no way to distinguish between graphene ($C_{24}$) and glucose ($C_6H_{12}O_6$)). Ideally, a descriptor should contain enough information necessary to both 1) correctly match an environment to any isometric transformation of itself and 2) distinguish it from all other environments. Therefore, it should be translationally, rotationally, and permutatively invariant. "
   ]
  },
  {
   "cell_type": "markdown",
   "metadata": {},
   "source": [
    "## An Introduction to SOAP Vectors\n",
    "\n",
    "SOAP, or Smooth Overlap of Atomic Positions, is an efficient approach for representing chemical environments with minimal information loss. \n",
    "\n",
    "Suppose you have some structure $A$.\n",
    "\n",
    "<!-- <center>\n",
    "{{BCN_struct}}\n",
    "</center>\n",
    "-->\n",
    "\n",
    "A first pass at representing the structure is through normalized density functions centered on each atom $i$. \n",
    "\n",
    "\\begin{equation}\n",
    "g(\\mathbf{r}-\\mathbf{r_i}) = \\sum_{j\\in N(i)} e^{-\\frac{|\\mathbf{r_{j}}-\\mathbf{r}|^2}{\\sigma^2}}\n",
    "\\end{equation}\n",
    "\n",
    "where N(i) is the neighbors of $i$ (defined for some cutoff) and $e^{-|\\mathbf{r_{j}}-\\mathbf{r}|^2/\\sigma^2}$ is a gaussian of width $\\sigma$ centered at atom $i'$. We will omit the $\\in N(i)$ from our sums from hereon and it should be assumed that $j$ represents a neighbor of $i$.\n",
    "\n",
    "$A$ is represented as a sum over these gaussians:\n",
    "\n",
    "\n",
    "\\begin{equation}\n",
    "\\left\\langle \\mathbf{r} \\big| A\\right\\rangle = \\sum_{i\\in A} g(\\mathbf{r}-\\mathbf{r_i}) \\big| \\alpha_i\\big\\rangle\n",
    "\\end{equation}\n",
    "\n",
    "where $\\alpha_i$ is the species identifier of the atom.\n",
    "\n",
    "\n",
    "<!---\n",
    "\n",
    "<center>{{BCN_braket}}</center>\n",
    "\n",
    "Therefore, we can say \n",
    "We will denote the environment centered at $i$ and containing all neighbors of $i$ as $X_i$.\n",
    "\n",
    "Here, centering $g$ with respect to atom $i$ satisfies the translational invariance. If $i$ is found at x=0 or x=1000, the relative distances of its neighbors remain the same. \n",
    "\n",
    "#### Let's look at the 1D case first:\n",
    "\n",
    "\n",
    "To compare these the density functions of two atoms, one could simply take:\n",
    "\n",
    "\\begin{equation}\n",
    "g^{{i)}(\\mathbf{r}-\\mathbf{r_i}) \\cdot g^{{j)}(\\mathbf{r}-\\mathbf{r_j})\n",
    "\\end{equation}\n",
    "                                                                                                                                                                                                                                                                    \n",
    "\n",
    "\n",
    "From hereon we will use Dirac notation, where the descriptor of an an environment $X$ centered at atom $i$ ($X_i$) is given by:\n",
    "\n",
    "\\begin{equation}\n",
    "\\big\\langle \\mathbf{r} \\big| X_i\\big\\rangle = g^{{i)}(\\mathbf{r}-\\mathbf{r_i})\n",
    "\\end{equation}\n",
    "\n",
    "\n",
    "We can sum over all density functions to give a descriptor of a structure:\n",
    "\n",
    "\\begin{equation*}\n",
    "\\big\\langle \\mathbf{r} \\big| A\\big\\rangle = \\sum_i g^{{i)}\\left(\\mathbf{r}-\\mathbf{r_i}\\right) \\big| \\alpha_i\\big\\rangle\n",
    "\\end{equation*}\n",
    "\n",
    "where $\\alpha_i$ denotes the chemical composition of the atom.\n",
    "\n",
    "\n",
    "This is where I'll explain why \\nu=1 does not suffice\n",
    "--->\n"
   ]
  },
  {
   "cell_type": "markdown",
   "metadata": {},
   "source": [
    "### Example: how does this fare with our requirements of invariance?\n",
    "\n",
    "Suppose $A$ is 1-propanol.\n",
    "\n",
    "Our molecular density function becomes:\n",
    "\n",
    "\\begin{split}\\begin{equation}\n",
    "\\big\\langle \\mathbf{r} \\big| A\\big\\rangle = \n",
    "\\left(g_{C_1} + g_{C_2} + g_{C_3}\\right)\\big|C\\big\\rangle + \n",
    "\\left(g_{O}\\right)\\big|O\\big\\rangle + \n",
    "\\left(g_{H_1} + g_{H_2} + g_{H_3} + g_{H_4} + g_{H_5} + g_{H_6} + g_{H_7} + g_{H_8}\\right)\\big|H\\big\\rangle\n",
    "\\end{equation}\\end{split}\n",
    "\n",
    "So then when we integrate our molecular density function across all translations, we have:\n",
    "\n",
    "\\begin{split}\\begin{equation}\n",
    "\\big\\langle \\mathbf{r} \\big| A\\big\\rangle = \n",
    "3 | C \\big\\rangle + \n",
    "1 | O \\big\\rangle +\n",
    "8 | H \\big\\rangle\n",
    "\\end{equation}\\end{split}\n",
    "\n",
    "From here we can see that using a simple gaussian to describe atomic environments is not sufficient -- the same descriptor for 1-propanol applies to two isomers: [2-propanol](https://en.wikipedia.org/wiki/Isopropyl_alcohol) and [methoxyethane](https://en.wikipedia.org/wiki/Methoxyethane), which in the latter case has drastically different properties.\n",
    "\n",
    "<center> 1-Propanol </center>| <center> 2-Propanol </center> | <center> Methoxyethane </center>\n",
    "- | - | - \n",
    "![1-Propanol](./images/1-propanol-stick.png) | ![2-Propanol](./images/2-propanol-stick.png) | ![Methoxyethane](./images/methoxyethane-stick.png)\n"
   ]
  },
  {
   "cell_type": "markdown",
   "metadata": {
    "deletable": true,
    "editable": true
   },
   "source": [
    "\n",
    "In order to make our representation more sensitive, we can take the [Haar Integral](https://link.springer.com/content/pdf/10.1007%2F11499145_85.pdf) over tensor products of our $\\big| A\\big\\rangle$, giving:\n",
    "\n",
    "\\begin{equation}\n",
    "\\left|A^{(\\nu)}\\right\\rangle_{\\hat{t}} = \\int d\\hat{t} \\hat{t} \\left|A\\right\\rangle \\otimes \\hat{t} \\left|A\\right\\rangle ... \\hat{t} \\left|A\\right\\rangle\n",
    "\\end{equation}\n",
    "\n",
    "<!---\n",
    "Here, we have two atomic environments centered at atoms $i$ and $j$. Their density functions are:\n",
    "\n",
    "\\begin{equation}\n",
    "\\big\\langle r \\big| X_i\\big\\rangle = \\sum_{i'\\in X_i} g(\\mathbf{r}-\\mathbf{r_{ii'}}) \\hspace{0.5in}\n",
    "\\big\\langle r \\big| X_j\\big\\rangle = \\sum_{j'\\in X_j} g(\\mathbf{r}-\\mathbf{r_{jj'}})\n",
    "\\end{equation}\n",
    "\n",
    "which, in this case, simplifies to:\n",
    "\n",
    "\\begin{equation}\n",
    "g^{{i)}(\\mathbf{r}-\\mathbf{r_i}) =  e^{-\\frac{|\\mathbf{r_{i'}}-\\mathbf{r}|^2}{\\sigma^2}} \n",
    "\\end{equation}\n",
    "--->"
   ]
  },
  {
   "cell_type": "markdown",
   "metadata": {},
   "source": [
    "To compare two atomic environments, one can define the kernel comparing the density functions, integrating over all rotations:\n",
    "\n",
    "\\begin{equation}\n",
    "k(i,j) = \\int \\hat{R} d\\mathbf{r} g^{{i)}(\\mathbf{r}-\\mathbf{r_i}) g^{{j)}(\\mathbf{r}-\\mathbf{r_j}) = g_{n n'l}^{{i)}\\cdot g_{n n'l}^{{j)}\n",
    "\\end{equation}\n",
    "\n",
    "where $g_{n n'l}^{{i)}$ is a representation of the density function expanded in terms of [spherical harmonics](https://en.wikipedia.org/wiki/Spherical_harmonics) using radial degree $n$ and angular degree $l$."
   ]
  },
  {
   "cell_type": "markdown",
   "metadata": {
    "deletable": true,
    "editable": true
   },
   "source": [
    "Such as with previously-proposed atomic descriptors, translational invariance is achieved by atom-centered descriptors. The rotational invariance is achieved with a symmetrized version of the overlap kernel:\n",
    "\n",
    "\\begin{equation*}\n",
    "K^{{\\nu)}\\left(X_j, X_k\\right) = \\int d\\hat{R} \\Big|\\langle X_j \\left| R\\rangle \\right| X_k\\rangle\\Big|^\\nu = \\big\\langle X_j^{{\\nu)} \\big| X_k^{{\\nu)}\\big\\rangle\n",
    "\\end{equation*}\n",
    "\n",
    "where $\\int d\\hat{R}$ is the integration over all rotation matrices and when the kernel is raised to the $\\nu^{th}$ power, the descriptor contains information on correlations on the $(\\nu +1)^{th}$ order. $\\big| X_j^{{\\nu)}\\big\\rangle$ and $\\big| X_k^{{\\nu)}\\big\\rangle$ represent the $\\nu^{th}$ order SOAP descriptor vectors of the $j^{th}$ and $k^{th}$ environments.\n",
    "\n",
    "****\n",
    "\n",
    "For $\\nu = 1$, the symmetrized SOAP descriptor (in terms of spherical harmonic coefficients), simplifies to:\n",
    "\n",
    "\\begin{equation*}\n",
    "\\big\\langle \\alpha n \\big| X_k^{{1)}\\big\\rangle = \\sqrt{8\\pi^2}\\langle\\alpha n 0 0 \\big| X_k\\rangle\n",
    "\\end{equation*}\n"
   ]
  },
  {
   "cell_type": "markdown",
   "metadata": {
    "deletable": true,
    "editable": true
   },
   "source": [
    "### Here is what the 1st order SOAP vectors would look like for methane and water:"
   ]
  },
  {
   "cell_type": "code",
   "execution_count": null,
   "metadata": {
    "deletable": true,
    "editable": true
   },
   "outputs": [],
   "source": [
    "# Concept of Smooth Overlap of Atomic Positions\n",
    "# Why do we need descriptors? What defines a *good* descriptor?\n",
    "# Translations, rotations, and permutations of like atoms\n",
    "# Compact while retaining maximum information\n",
    "# Systematically improvable\n",
    "\n",
    "# Illustrate with a molecule the roles of:\n",
    "# - atom-centering\n",
    "# - because atoms of the same type are summed together, there is no way to distinguish their positions\n",
    "# - rotational invariance \n",
    "\n",
    "# TADA A WILD SOAP VECTOR APPEARS\n",
    "# Caveat: Soap *vectors* vs. Soap *kernels*"
   ]
  },
  {
   "cell_type": "code",
   "execution_count": null,
   "metadata": {
    "deletable": true,
    "editable": true
   },
   "outputs": [],
   "source": [
    "# have a few well-known molecules available \n",
    "# on left, molecule as rendered\n",
    "# on right molecule as SOAP vectors"
   ]
  },
  {
   "cell_type": "code",
   "execution_count": null,
   "metadata": {
    "deletable": true,
    "editable": true
   },
   "outputs": [],
   "source": [
    "# have a few well-known molecule pairings available \n",
    "# compare SOAP vectors"
   ]
  },
  {
   "cell_type": "code",
   "execution_count": null,
   "metadata": {
    "deletable": true,
    "editable": true
   },
   "outputs": [],
   "source": [
    "# have a few well-known molecule pairings available \n",
    "# compare SOAP kernels"
   ]
  },
  {
   "cell_type": "code",
   "execution_count": null,
   "metadata": {
    "deletable": true,
    "editable": true
   },
   "outputs": [],
   "source": [
    "#Code breakdown for earlier examples"
   ]
  },
  {
   "cell_type": "code",
   "execution_count": null,
   "metadata": {
    "deletable": true,
    "editable": true
   },
   "outputs": [],
   "source": [
    "# SOAP is a part of a more general family  of density-based descriptors, \n",
    "# please feel free to check out these publications for the full range\n",
    "# of weird and wonderful."
   ]
  },
  {
   "cell_type": "code",
   "execution_count": null,
   "metadata": {
    "deletable": true,
    "editable": true
   },
   "outputs": [],
   "source": [
    "# Link to next notebook\n",
    "# THE SAGA CONTINUES\n",
    "# SOAP 2: Electronic Boogaloo"
   ]
  },
  {
   "cell_type": "code",
   "execution_count": null,
   "metadata": {},
   "outputs": [],
   "source": [
    "from matplotlib import pyplot,cm\n",
    "from matplotlib import patches as mpatches\n",
    "from matplotlib.collections import PatchCollection\n",
    "style={\"horizontalalignment\":\"center\", \"verticalalignment\":\"center\", \"fontsize\":20, 'color':'k'}\n",
    "rjs = [[-1.0, 0.3], [-0.35, 0.95]]\n",
    "sig = 0.2\n",
    "srange = np.linspace(-2,2,100)\n",
    "ps = np.array([[sum([np.exp(-(np.abs(rj-r)**2)/(sig**2.0)) for rj in rset]) for r in srange] for rset in rjs])\n",
    "ps = np.array([p/sum(p) for p in ps])\n",
    "for p in ps:\n",
    "    pyplot.plot(srange, p)\n",
    "\n",
    "pyplot.plot(srange, list(reversed(ps[-1])))\n",
    "pyplot.show()\n",
    "print(np.dot(ps[0], list(reversed(ps[1]))), np.dot(ps[0], ps[1]))"
   ]
  },
  {
   "cell_type": "code",
   "execution_count": null,
   "metadata": {},
   "outputs": [],
   "source": []
  }
 ],
 "metadata": {
  "celltoolbar": "Raw Cell Format",
  "kernelspec": {
   "display_name": "Python 3",
   "language": "python",
   "name": "python3"
  },
  "language_info": {
   "codemirror_mode": {
    "name": "ipython",
    "version": 3
   },
   "file_extension": ".py",
   "mimetype": "text/x-python",
   "name": "python",
   "nbconvert_exporter": "python",
   "pygments_lexer": "ipython3",
   "version": "3.7.3"
  },
  "toc": {
   "base_numbering": 1,
   "nav_menu": {
    "height": "12px",
    "width": "252px"
   },
   "number_sections": true,
   "sideBar": true,
   "skip_h1_title": false,
   "title_cell": "Table of Contents",
   "title_sidebar": "Contents",
   "toc_cell": false,
   "toc_position": {},
   "toc_section_display": "block",
   "toc_window_display": false
  }
 },
 "nbformat": 4,
 "nbformat_minor": 2
}
