{
 "cells": [
  {
   "cell_type": "markdown",
   "metadata": {
    "deletable": true,
    "editable": true
   },
   "source": [
    "# Using Rascal to Calculate SOAP Vectors\n",
    "\n",
    "This notebook is intended as an introductory to calculating and understanding SOAP vectors. For more information on the variable conventions, derivation, and utility of SOAP vectors, please refer to (among others): \n",
    "- [On representing chemical environments (Bartók 2013)](https://journals.aps.org/prb/abstract/10.1103/PhysRevB.87.184115)\n",
    "- [Gaussian approximation potentials: A brief tutorial introduction (Bartók 2015)](https://onlinelibrary.wiley.com/doi/full/10.1002/qua.24927)\n",
    "- [Comparing molecules and solids across structural and alchemical space (De 2016)](https://pubs.rsc.org/en/content/articlepdf/2016/cp/c6cp00415f)\n",
    "- [Machine Learning of Atomic-Scale Properties Based on Physical Principles (Ceriotti 2018)](https://link.springer.com/content/pdf/10.1007%2F978-3-319-42913-7_68-1.pdf)\n",
    "\n",
    "Beyond libRascal, the packages used in this tutorial are:  [json](https://docs.python.org/2/library/json.html), [numpy](https://numpy.org/), [ipywidgets](https://ipywidgets.readthedocs.io/en/latest/), [matplotlib](https://matplotlib.org/), and [ase](https://wiki.fysik.dtu.dk/ase/index.html)."
   ]
  },
  {
   "cell_type": "code",
   "execution_count": null,
   "metadata": {
    "deletable": true,
    "editable": true
   },
   "outputs": [],
   "source": [
    "%matplotlib inline\n",
    "%reload_ext autoreload\n",
    "%autoreload 2\n",
    "import sys\n",
    "sys.path.append('./utilities')\n",
    "from tutorial_utils import *\n",
    "try:\n",
    "    from rascal.representations import SphericalInvariants as SOAP\n",
    "except:\n",
    "    from rascal.representations import SOAP\n",
    "readme_button()"
   ]
  },
  {
   "cell_type": "markdown",
   "metadata": {
    "deletable": true,
    "editable": true
   },
   "source": [
    "### SOAP, or Smooth Overlap of Atomic Positions, is an efficient approach for representing chemical environments with minimal information loss and invariant to translations and rotations. \n",
    "Such as with previously-proposed atomic descriptors, translational invariance is achieved by atom-centered descriptors. The rotational invariance is achieved with a symmetrized version of the overlap kernel:\n",
    "\n",
    "\\begin{equation*}\n",
    "K^{(\\nu)}\\left(X_j, X_k\\right) = \\int d\\hat{R} \\Big|\\langle X_j \\left| R\\rangle \\right| X_k\\rangle\\Big|^\\nu = \\big\\langle X_j^{(\\nu)} \\big| X_k^{(\\nu)}\\big\\rangle\n",
    "\\end{equation*}\n",
    "\n",
    "where $\\int d\\hat{R}$ is the integration over all rotation matrices and when the kernel is raised to the $\\nu^{th}$ power, the descriptor contains information on correlations on the $(\\nu +1)^{th}$ order. $\\big| X_j^{(\\nu)}\\big\\rangle$ and $\\big| X_k^{(\\nu)}\\big\\rangle$ represent the $\\nu^{th}$ order SOAP descriptor vectors of the $j^{th}$ and $k^{th}$ environments.\n",
    "\n",
    "****\n",
    "\n",
    "For $\\nu = 1$, the symmetrized SOAP descriptor (in terms of spherical harmonic coefficients), simplifies to:\n",
    "\n",
    "\\begin{equation*}\n",
    "\\big\\langle \\alpha n \\big| X_k^{(1)}\\big\\rangle = \\sqrt{8\\pi^2}\\langle\\alpha n 0 0 \\big| X_k\\rangle\n",
    "\\end{equation*}"
   ]
  },
  {
   "cell_type": "markdown",
   "metadata": {
    "deletable": true,
    "editable": true
   },
   "source": [
    "### Here is what the 1st order SOAP vectors would look like for methane and water:"
   ]
  },
  {
   "cell_type": "code",
   "execution_count": null,
   "metadata": {},
   "outputs": [],
   "source": [
    "# Concept of Smooth Overlap of Atomic Positions\n",
    "# Why do we need descriptors? What defines a *good* descriptor?\n",
    "# Translations, rotations, and permutations of like atoms\n",
    "# Compact while retaining maximum information\n",
    "# Systematically improvable\n",
    "\n",
    "# Illustrate with a molecule the roles of:\n",
    "# - atom-centering\n",
    "# - because atoms of the same type are summed together, there is no way to distinguish their positions\n",
    "# - rotational invariance \n",
    "\n",
    "# TADA A WILD SOAP VECTOR APPEARS\n",
    "# Caveat: Soap *vectors* vs. Soap *kernels*"
   ]
  },
  {
   "cell_type": "code",
   "execution_count": null,
   "metadata": {
    "deletable": true,
    "editable": true
   },
   "outputs": [],
   "source": [
    "# have a few well-known molecules available \n",
    "# on left, molecule as rendered\n",
    "# on right molecule as SOAP vectors"
   ]
  },
  {
   "cell_type": "code",
   "execution_count": null,
   "metadata": {
    "deletable": true,
    "editable": true
   },
   "outputs": [],
   "source": [
    "# have a few well-known molecule pairings available \n",
    "# compare SOAP vectors"
   ]
  },
  {
   "cell_type": "code",
   "execution_count": null,
   "metadata": {},
   "outputs": [],
   "source": [
    "# have a few well-known molecule pairings available \n",
    "# compare SOAP kernels"
   ]
  },
  {
   "cell_type": "code",
   "execution_count": null,
   "metadata": {
    "deletable": true,
    "editable": true
   },
   "outputs": [],
   "source": [
    "#Code breakdown for earlier examples"
   ]
  },
  {
   "cell_type": "code",
   "execution_count": null,
   "metadata": {
    "deletable": true,
    "editable": true
   },
   "outputs": [],
   "source": [
    "# SOAP is a part of a more general family of density-based descriptors, \n",
    "# please feel free to check out these publications for the full range\n",
    "# of weird and wonderful."
   ]
  },
  {
   "cell_type": "code",
   "execution_count": null,
   "metadata": {},
   "outputs": [],
   "source": [
    "# Link to next notebook\n",
    "# THE SAGA CONTINUES\n",
    "# SOAP 2: Electronic Boogaloo"
   ]
  }
 ],
 "metadata": {
  "celltoolbar": "Raw Cell Format",
  "kernelspec": {
   "display_name": "Python 3",
   "language": "python",
   "name": "python3"
  },
  "language_info": {
   "codemirror_mode": {
    "name": "ipython",
    "version": 3
   },
   "file_extension": ".py",
   "mimetype": "text/x-python",
   "name": "python",
   "nbconvert_exporter": "python",
   "pygments_lexer": "ipython3",
   "version": "3.7.3"
  },
  "toc": {
   "base_numbering": 1,
   "nav_menu": {
    "height": "12px",
    "width": "252px"
   },
   "number_sections": true,
   "sideBar": true,
   "skip_h1_title": false,
   "title_cell": "Table of Contents",
   "title_sidebar": "Contents",
   "toc_cell": false,
   "toc_position": {},
   "toc_section_display": "block",
   "toc_window_display": false
  }
 },
 "nbformat": 4,
 "nbformat_minor": 2
}
